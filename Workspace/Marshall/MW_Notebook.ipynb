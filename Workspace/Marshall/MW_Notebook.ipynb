{
 "cells": [
  {
   "cell_type": "code",
   "execution_count": 13,
   "metadata": {
    "ExecuteTime": {
     "end_time": "2022-05-11T03:15:14.325053Z",
     "start_time": "2022-05-11T03:15:14.306718Z"
    }
   },
   "outputs": [],
   "source": [
    "import pandas as pd\n",
    "import nltk\n",
    "from nltk.probability import FreqDist\n",
    "from nltk.corpus import stopwords\n",
    "from nltk.tokenize import regexp_tokenize, word_tokenize, RegexpTokenizer\n",
    "from nltk import pos_tag\n",
    "from nltk.corpus import wordnet\n",
    "import matplotlib.pyplot as plt\n",
    "from sklearn.feature_extraction.text import CountVectorizer, TfidfVectorizer,HashingVectorizer\n",
    "sw = stopwords.words('english')\n",
    "from re import search\n",
    "from wordcloud import WordCloud"
   ]
  },
  {
   "cell_type": "code",
   "execution_count": 14,
   "metadata": {
    "ExecuteTime": {
     "end_time": "2022-05-11T03:15:15.190023Z",
     "start_time": "2022-05-11T03:15:15.149509Z"
    }
   },
   "outputs": [
    {
     "data": {
      "text/html": [
       "<div>\n",
       "<style scoped>\n",
       "    .dataframe tbody tr th:only-of-type {\n",
       "        vertical-align: middle;\n",
       "    }\n",
       "\n",
       "    .dataframe tbody tr th {\n",
       "        vertical-align: top;\n",
       "    }\n",
       "\n",
       "    .dataframe thead th {\n",
       "        text-align: right;\n",
       "    }\n",
       "</style>\n",
       "<table border=\"1\" class=\"dataframe\">\n",
       "  <thead>\n",
       "    <tr style=\"text-align: right;\">\n",
       "      <th></th>\n",
       "      <th>tweet_text</th>\n",
       "      <th>emotion_in_tweet_is_directed_at</th>\n",
       "      <th>is_there_an_emotion_directed_at_a_brand_or_product</th>\n",
       "    </tr>\n",
       "  </thead>\n",
       "  <tbody>\n",
       "    <tr>\n",
       "      <th>0</th>\n",
       "      <td>.@wesley83 I have a 3G iPhone. After 3 hrs twe...</td>\n",
       "      <td>iPhone</td>\n",
       "      <td>Negative emotion</td>\n",
       "    </tr>\n",
       "    <tr>\n",
       "      <th>1</th>\n",
       "      <td>@jessedee Know about @fludapp ? Awesome iPad/i...</td>\n",
       "      <td>iPad or iPhone App</td>\n",
       "      <td>Positive emotion</td>\n",
       "    </tr>\n",
       "    <tr>\n",
       "      <th>2</th>\n",
       "      <td>@swonderlin Can not wait for #iPad 2 also. The...</td>\n",
       "      <td>iPad</td>\n",
       "      <td>Positive emotion</td>\n",
       "    </tr>\n",
       "    <tr>\n",
       "      <th>3</th>\n",
       "      <td>@sxsw I hope this year's festival isn't as cra...</td>\n",
       "      <td>iPad or iPhone App</td>\n",
       "      <td>Negative emotion</td>\n",
       "    </tr>\n",
       "    <tr>\n",
       "      <th>4</th>\n",
       "      <td>@sxtxstate great stuff on Fri #SXSW: Marissa M...</td>\n",
       "      <td>Google</td>\n",
       "      <td>Positive emotion</td>\n",
       "    </tr>\n",
       "    <tr>\n",
       "      <th>...</th>\n",
       "      <td>...</td>\n",
       "      <td>...</td>\n",
       "      <td>...</td>\n",
       "    </tr>\n",
       "    <tr>\n",
       "      <th>8716</th>\n",
       "      <td>Ipad everywhere. #SXSW {link}</td>\n",
       "      <td>iPad</td>\n",
       "      <td>Positive emotion</td>\n",
       "    </tr>\n",
       "    <tr>\n",
       "      <th>8717</th>\n",
       "      <td>Wave, buzz... RT @mention We interrupt your re...</td>\n",
       "      <td>NaN</td>\n",
       "      <td>No emotion toward brand or product</td>\n",
       "    </tr>\n",
       "    <tr>\n",
       "      <th>8718</th>\n",
       "      <td>Google's Zeiger, a physician never reported po...</td>\n",
       "      <td>NaN</td>\n",
       "      <td>No emotion toward brand or product</td>\n",
       "    </tr>\n",
       "    <tr>\n",
       "      <th>8719</th>\n",
       "      <td>Some Verizon iPhone customers complained their...</td>\n",
       "      <td>NaN</td>\n",
       "      <td>No emotion toward brand or product</td>\n",
       "    </tr>\n",
       "    <tr>\n",
       "      <th>8720</th>\n",
       "      <td>�ϡ�����_��ʋ�΋�ҋ�������⋁_��������_���RT @mentio...</td>\n",
       "      <td>NaN</td>\n",
       "      <td>No emotion toward brand or product</td>\n",
       "    </tr>\n",
       "  </tbody>\n",
       "</table>\n",
       "<p>8721 rows × 3 columns</p>\n",
       "</div>"
      ],
      "text/plain": [
       "                                             tweet_text  \\\n",
       "0     .@wesley83 I have a 3G iPhone. After 3 hrs twe...   \n",
       "1     @jessedee Know about @fludapp ? Awesome iPad/i...   \n",
       "2     @swonderlin Can not wait for #iPad 2 also. The...   \n",
       "3     @sxsw I hope this year's festival isn't as cra...   \n",
       "4     @sxtxstate great stuff on Fri #SXSW: Marissa M...   \n",
       "...                                                 ...   \n",
       "8716                      Ipad everywhere. #SXSW {link}   \n",
       "8717  Wave, buzz... RT @mention We interrupt your re...   \n",
       "8718  Google's Zeiger, a physician never reported po...   \n",
       "8719  Some Verizon iPhone customers complained their...   \n",
       "8720  �ϡ�����_��ʋ�΋�ҋ�������⋁_��������_���RT @mentio...   \n",
       "\n",
       "     emotion_in_tweet_is_directed_at  \\\n",
       "0                             iPhone   \n",
       "1                 iPad or iPhone App   \n",
       "2                               iPad   \n",
       "3                 iPad or iPhone App   \n",
       "4                             Google   \n",
       "...                              ...   \n",
       "8716                            iPad   \n",
       "8717                             NaN   \n",
       "8718                             NaN   \n",
       "8719                             NaN   \n",
       "8720                             NaN   \n",
       "\n",
       "     is_there_an_emotion_directed_at_a_brand_or_product  \n",
       "0                                      Negative emotion  \n",
       "1                                      Positive emotion  \n",
       "2                                      Positive emotion  \n",
       "3                                      Negative emotion  \n",
       "4                                      Positive emotion  \n",
       "...                                                 ...  \n",
       "8716                                   Positive emotion  \n",
       "8717                 No emotion toward brand or product  \n",
       "8718                 No emotion toward brand or product  \n",
       "8719                 No emotion toward brand or product  \n",
       "8720                 No emotion toward brand or product  \n",
       "\n",
       "[8721 rows x 3 columns]"
      ]
     },
     "execution_count": 14,
     "metadata": {},
     "output_type": "execute_result"
    }
   ],
   "source": [
    "tweets = pd.read_csv('../../data/judge_1377884607_tweet_product_company.csv')\n",
    "tweets"
   ]
  },
  {
   "cell_type": "code",
   "execution_count": 15,
   "metadata": {
    "ExecuteTime": {
     "end_time": "2022-05-11T03:15:16.138739Z",
     "start_time": "2022-05-11T03:15:16.116895Z"
    }
   },
   "outputs": [
    {
     "name": "stdout",
     "output_type": "stream",
     "text": [
      "<class 'pandas.core.frame.DataFrame'>\n",
      "RangeIndex: 8721 entries, 0 to 8720\n",
      "Data columns (total 3 columns):\n",
      " #   Column                                              Non-Null Count  Dtype \n",
      "---  ------                                              --------------  ----- \n",
      " 0   tweet_text                                          8720 non-null   object\n",
      " 1   emotion_in_tweet_is_directed_at                     3169 non-null   object\n",
      " 2   is_there_an_emotion_directed_at_a_brand_or_product  8721 non-null   object\n",
      "dtypes: object(3)\n",
      "memory usage: 204.5+ KB\n"
     ]
    }
   ],
   "source": [
    "tweets.info()"
   ]
  },
  {
   "cell_type": "code",
   "execution_count": 16,
   "metadata": {
    "ExecuteTime": {
     "end_time": "2022-05-11T03:15:16.962424Z",
     "start_time": "2022-05-11T03:15:16.942653Z"
    }
   },
   "outputs": [
    {
     "data": {
      "text/plain": [
       "iPad                               910\n",
       "Apple                              640\n",
       "iPad or iPhone App                 451\n",
       "Google                             412\n",
       "iPhone                             288\n",
       "Other Google product or service    282\n",
       "Android App                         78\n",
       "Android                             74\n",
       "Other Apple product or service      34\n",
       "Name: emotion_in_tweet_is_directed_at, dtype: int64"
      ]
     },
     "execution_count": 16,
     "metadata": {},
     "output_type": "execute_result"
    }
   ],
   "source": [
    "tweets.emotion_in_tweet_is_directed_at.value_counts()"
   ]
  },
  {
   "cell_type": "code",
   "execution_count": 17,
   "metadata": {
    "ExecuteTime": {
     "end_time": "2022-05-11T03:15:17.305123Z",
     "start_time": "2022-05-11T03:15:17.274125Z"
    }
   },
   "outputs": [
    {
     "data": {
      "text/plain": [
       "tweet_text                                               1\n",
       "emotion_in_tweet_is_directed_at                       5552\n",
       "is_there_an_emotion_directed_at_a_brand_or_product       0\n",
       "dtype: int64"
      ]
     },
     "execution_count": 17,
     "metadata": {},
     "output_type": "execute_result"
    }
   ],
   "source": [
    "tweets.isna().sum() # lookinf for NaNs"
   ]
  },
  {
   "cell_type": "code",
   "execution_count": 18,
   "metadata": {
    "ExecuteTime": {
     "end_time": "2022-05-11T03:15:17.732275Z",
     "start_time": "2022-05-11T03:15:17.714013Z"
    }
   },
   "outputs": [
    {
     "data": {
      "text/html": [
       "<div>\n",
       "<style scoped>\n",
       "    .dataframe tbody tr th:only-of-type {\n",
       "        vertical-align: middle;\n",
       "    }\n",
       "\n",
       "    .dataframe tbody tr th {\n",
       "        vertical-align: top;\n",
       "    }\n",
       "\n",
       "    .dataframe thead th {\n",
       "        text-align: right;\n",
       "    }\n",
       "</style>\n",
       "<table border=\"1\" class=\"dataframe\">\n",
       "  <thead>\n",
       "    <tr style=\"text-align: right;\">\n",
       "      <th></th>\n",
       "      <th>tweet_text</th>\n",
       "      <th>emotion_in_tweet_is_directed_at</th>\n",
       "      <th>is_there_an_emotion_directed_at_a_brand_or_product</th>\n",
       "    </tr>\n",
       "  </thead>\n",
       "  <tbody>\n",
       "    <tr>\n",
       "      <th>6</th>\n",
       "      <td>NaN</td>\n",
       "      <td>NaN</td>\n",
       "      <td>No emotion toward brand or product</td>\n",
       "    </tr>\n",
       "  </tbody>\n",
       "</table>\n",
       "</div>"
      ],
      "text/plain": [
       "  tweet_text emotion_in_tweet_is_directed_at  \\\n",
       "6        NaN                             NaN   \n",
       "\n",
       "  is_there_an_emotion_directed_at_a_brand_or_product  \n",
       "6                 No emotion toward brand or product  "
      ]
     },
     "execution_count": 18,
     "metadata": {},
     "output_type": "execute_result"
    }
   ],
   "source": [
    "tweets[tweets['tweet_text'].isna()]"
   ]
  },
  {
   "cell_type": "code",
   "execution_count": 19,
   "metadata": {
    "ExecuteTime": {
     "end_time": "2022-05-11T03:15:18.205463Z",
     "start_time": "2022-05-11T03:15:18.178997Z"
    }
   },
   "outputs": [],
   "source": [
    "tweets.dropna(subset=['tweet_text'],inplace=True)"
   ]
  },
  {
   "cell_type": "code",
   "execution_count": 20,
   "metadata": {
    "ExecuteTime": {
     "end_time": "2022-05-11T03:15:18.477649Z",
     "start_time": "2022-05-11T03:15:18.457845Z"
    }
   },
   "outputs": [
    {
     "data": {
      "text/plain": [
       "tweet_text                                               0\n",
       "emotion_in_tweet_is_directed_at                       5551\n",
       "is_there_an_emotion_directed_at_a_brand_or_product       0\n",
       "dtype: int64"
      ]
     },
     "execution_count": 20,
     "metadata": {},
     "output_type": "execute_result"
    }
   ],
   "source": [
    "tweets.isna().sum()"
   ]
  },
  {
   "cell_type": "code",
   "execution_count": 21,
   "metadata": {
    "ExecuteTime": {
     "end_time": "2022-05-11T03:15:19.385058Z",
     "start_time": "2022-05-11T03:15:19.374356Z"
    }
   },
   "outputs": [],
   "source": [
    "directed_at_Nan = tweets[tweets['emotion_in_tweet_is_directed_at'].isna()]"
   ]
  },
  {
   "cell_type": "code",
   "execution_count": 22,
   "metadata": {
    "ExecuteTime": {
     "end_time": "2022-05-11T03:15:19.919197Z",
     "start_time": "2022-05-11T03:15:19.901597Z"
    }
   },
   "outputs": [
    {
     "data": {
      "text/plain": [
       "No emotion toward brand or product    5068\n",
       "Positive emotion                       292\n",
       "I can't tell                           142\n",
       "Negative emotion                        49\n",
       "Name: is_there_an_emotion_directed_at_a_brand_or_product, dtype: int64"
      ]
     },
     "execution_count": 22,
     "metadata": {},
     "output_type": "execute_result"
    }
   ],
   "source": [
    "directed_at_Nan['is_there_an_emotion_directed_at_a_brand_or_product'].value_counts()"
   ]
  },
  {
   "cell_type": "code",
   "execution_count": 23,
   "metadata": {
    "ExecuteTime": {
     "end_time": "2022-05-11T03:15:20.329782Z",
     "start_time": "2022-05-11T03:15:20.323459Z"
    }
   },
   "outputs": [],
   "source": [
    "#from Saad's notebook"
   ]
  },
  {
   "cell_type": "code",
   "execution_count": 24,
   "metadata": {
    "ExecuteTime": {
     "end_time": "2022-05-11T03:15:21.060351Z",
     "start_time": "2022-05-11T03:15:21.038099Z"
    }
   },
   "outputs": [],
   "source": [
    "# def get_wordnet_pos(treebank_tag):\n",
    "#     '''\n",
    "#     Translate nltk POS to wordnet tags\n",
    "#     '''\n",
    "#     if treebank_tag.startswith('J'):\n",
    "#         return wordnet.ADJ\n",
    "#     elif treebank_tag.startswith('V'):\n",
    "#         return wordnet.VERB\n",
    "#     elif treebank_tag.startswith('N'):\n",
    "#         return wordnet.NOUN\n",
    "#     elif treebank_tag.startswith('R'):\n",
    "#         return wordnet.ADV\n",
    "#     else:\n",
    "#         return wordnet.NOUN\n",
    "\n",
    "\n",
    "def doc_preparer(doc, stem = False, stop_words=sw):\n",
    "    '''\n",
    "\n",
    "    :param doc: a document from the satire corpus \n",
    "    :return: a document string with words which have been \n",
    "            lemmatized, \n",
    "            parsed for stopwords, \n",
    "            made lowercase,\n",
    "            and stripped of punctuation and numbers.\n",
    "    '''\n",
    "    #Stemming seems to work better. Lemming can't identify plurals of products\n",
    "    \n",
    "    \n",
    "#     lemmed_keywords = ['apple',\n",
    "#                 'ipad', 'ipads',\n",
    "#                 'iphone', 'iphones',\n",
    "#                 'itunes',\n",
    "#                 'google', 'googled',\n",
    "#                 'android', 'droid', 'androids', 'droids',\n",
    "#                 'circle', 'circles'\n",
    "#                 'app', 'apps']\n",
    "\n",
    "#     stemmed_keywords = ['appl',\n",
    "#                         'ipad',\n",
    "#                         'iphon',\n",
    "#                         'itun',\n",
    "#                         'googl',\n",
    "#                         'android',\n",
    "#                         'droid',\n",
    "#                         'circl',\n",
    "#                         'app']\n",
    "\n",
    "    regex_token = RegexpTokenizer(r\"([a-zA-Z]+(?:’[a-z]+)?)\")\n",
    "    doc = regex_token.tokenize(doc)\n",
    "    doc = [word.lower() for word in doc]\n",
    "    doc = [word for word in doc if word not in sw]\n",
    "#     doc = pos_tag(doc)\n",
    "#     doc = [(word[0], get_wordnet_pos(word[1])) for word in doc]\n",
    "#     lemmatizer = WordNetLemmatizer()\n",
    "#     doc = [lemmatizer.lemmatize(word[0], word[1]) for word in doc]\n",
    "#     doc = [word for word in doc if word in lemmed_keywords]\n",
    "    \n",
    "    \n",
    "    \n",
    "    p_stemmer = nltk.stem.PorterStemmer()\n",
    "    if stem:\n",
    "        doc = [p_stemmer.stem(word) for word in doc if p_stemmer.stem(word)]\n",
    "    return ' '.join(doc)\n",
    "\n",
    "def cv_printScores(cv_metric):\n",
    "    print('CV Results')\n",
    "    print('='*32)\n",
    "    print('Accuracy')\n",
    "    print('-'*32)\n",
    "    print(f\"Training accuracy: {cv_metric['train_accuracy'].mean():.3f}\")\n",
    "    print(f\"Test accuracy:     {cv_metric['test_accuracy'].mean():.3f}\")\n",
    "    print('F-1 Score')\n",
    "    print('-'*32)\n",
    "    print(f\"Training F1 score: {cv_metric['train_f1_macro'].mean():.3f}\")\n",
    "    print(f\"Test F1 score:     {cv_metric['test_f1_macro'].mean():.3f}\")"
   ]
  },
  {
   "cell_type": "code",
   "execution_count": 25,
   "metadata": {
    "ExecuteTime": {
     "end_time": "2022-05-11T03:15:22.711564Z",
     "start_time": "2022-05-11T03:15:22.699665Z"
    }
   },
   "outputs": [
    {
     "data": {
      "text/plain": [
       "'wesley g iphon hr tweet rise austin dead need upgrad plugin station sxsw'"
      ]
     },
     "execution_count": 25,
     "metadata": {},
     "output_type": "execute_result"
    }
   ],
   "source": [
    "doc_preparer(tweets.tweet_text[0],stem=True,stop_words=sw)"
   ]
  },
  {
   "cell_type": "code",
   "execution_count": 26,
   "metadata": {
    "ExecuteTime": {
     "end_time": "2022-05-11T03:15:23.888203Z",
     "start_time": "2022-05-11T03:15:23.859174Z"
    }
   },
   "outputs": [
    {
     "name": "stderr",
     "output_type": "stream",
     "text": [
      "/opt/anaconda3/envs/learn-env/lib/python3.8/site-packages/sklearn/utils/deprecation.py:87: FutureWarning: Function get_feature_names is deprecated; get_feature_names is deprecated in 1.0 and will be removed in 1.2. Please use get_feature_names_out instead.\n",
      "  warnings.warn(msg, category=FutureWarning)\n"
     ]
    },
    {
     "data": {
      "text/html": [
       "<div>\n",
       "<style scoped>\n",
       "    .dataframe tbody tr th:only-of-type {\n",
       "        vertical-align: middle;\n",
       "    }\n",
       "\n",
       "    .dataframe tbody tr th {\n",
       "        vertical-align: top;\n",
       "    }\n",
       "\n",
       "    .dataframe thead th {\n",
       "        text-align: right;\n",
       "    }\n",
       "</style>\n",
       "<table border=\"1\" class=\"dataframe\">\n",
       "  <thead>\n",
       "    <tr style=\"text-align: right;\">\n",
       "      <th></th>\n",
       "      <th>also</th>\n",
       "      <th>app</th>\n",
       "      <th>appreciate</th>\n",
       "      <th>awesome</th>\n",
       "      <th>design</th>\n",
       "      <th>fludapp</th>\n",
       "      <th>free</th>\n",
       "      <th>giving</th>\n",
       "      <th>ipad</th>\n",
       "      <th>iphone</th>\n",
       "      <th>jessedee</th>\n",
       "      <th>know</th>\n",
       "      <th>likely</th>\n",
       "      <th>sale</th>\n",
       "      <th>swonderlin</th>\n",
       "      <th>sxsw</th>\n",
       "      <th>they're</th>\n",
       "      <th>ts</th>\n",
       "      <th>wait</th>\n",
       "    </tr>\n",
       "  </thead>\n",
       "  <tbody>\n",
       "    <tr>\n",
       "      <th>0</th>\n",
       "      <td>1</td>\n",
       "      <td>1</td>\n",
       "      <td>1</td>\n",
       "      <td>1</td>\n",
       "      <td>1</td>\n",
       "      <td>1</td>\n",
       "      <td>1</td>\n",
       "      <td>1</td>\n",
       "      <td>1</td>\n",
       "      <td>1</td>\n",
       "      <td>1</td>\n",
       "      <td>1</td>\n",
       "      <td>1</td>\n",
       "      <td>0</td>\n",
       "      <td>0</td>\n",
       "      <td>1</td>\n",
       "      <td>1</td>\n",
       "      <td>1</td>\n",
       "      <td>0</td>\n",
       "    </tr>\n",
       "    <tr>\n",
       "      <th>1</th>\n",
       "      <td>1</td>\n",
       "      <td>0</td>\n",
       "      <td>0</td>\n",
       "      <td>0</td>\n",
       "      <td>0</td>\n",
       "      <td>0</td>\n",
       "      <td>0</td>\n",
       "      <td>0</td>\n",
       "      <td>1</td>\n",
       "      <td>0</td>\n",
       "      <td>0</td>\n",
       "      <td>0</td>\n",
       "      <td>0</td>\n",
       "      <td>1</td>\n",
       "      <td>1</td>\n",
       "      <td>1</td>\n",
       "      <td>0</td>\n",
       "      <td>0</td>\n",
       "      <td>1</td>\n",
       "    </tr>\n",
       "  </tbody>\n",
       "</table>\n",
       "</div>"
      ],
      "text/plain": [
       "   also  app  appreciate  awesome  design  fludapp  free  giving  ipad  \\\n",
       "0     1    1           1        1       1        1     1       1     1   \n",
       "1     1    0           0        0       0        0     0       0     1   \n",
       "\n",
       "   iphone  jessedee  know  likely  sale  swonderlin  sxsw  they're  ts  wait  \n",
       "0       1         1     1       1     0           0     1        1   1     0  \n",
       "1       0         0     0       0     1           1     1        0   0     1  "
      ]
     },
     "execution_count": 26,
     "metadata": {},
     "output_type": "execute_result"
    }
   ],
   "source": [
    "vec = CountVectorizer(token_pattern=r\"([a-zA-Z]+(?:'[a-z]+)?)\", stop_words=sw)\n",
    "X = vec.fit_transform(tweets.tweet_text[1:3])\n",
    "\n",
    "df = pd.DataFrame(X.toarray(), columns=vec.get_feature_names())\n",
    "df.head()"
   ]
  },
  {
   "cell_type": "code",
   "execution_count": 27,
   "metadata": {
    "ExecuteTime": {
     "end_time": "2022-05-11T03:15:24.984376Z",
     "start_time": "2022-05-11T03:15:24.974969Z"
    }
   },
   "outputs": [],
   "source": [
    "def product_identifier(x):\n",
    "    if \"iPad\" in x:\n",
    "        return \"Apple\"\n",
    "    elif \"iPhone\" in x:\n",
    "        return 'Apple'\n",
    "    elif \"Apple\" in x:\n",
    "        return 'Apple'\n",
    "    elif \"Android\" in x:\n",
    "        return 'Google'\n",
    "    elif \"Google\" in x:\n",
    "        return 'Google'\n",
    "    else:\n",
    "        return 'No product'\n"
   ]
  },
  {
   "cell_type": "code",
   "execution_count": 28,
   "metadata": {
    "ExecuteTime": {
     "end_time": "2022-05-11T03:15:25.687797Z",
     "start_time": "2022-05-11T03:15:25.657472Z"
    }
   },
   "outputs": [
    {
     "name": "stderr",
     "output_type": "stream",
     "text": [
      "<ipython-input-28-bb2745934f40>:1: SettingWithCopyWarning: \n",
      "A value is trying to be set on a copy of a slice from a DataFrame.\n",
      "Try using .loc[row_indexer,col_indexer] = value instead\n",
      "\n",
      "See the caveats in the documentation: https://pandas.pydata.org/pandas-docs/stable/user_guide/indexing.html#returning-a-view-versus-a-copy\n",
      "  directed_at_Nan['product_id'] = directed_at_Nan['tweet_text'].apply(product_identifier)\n"
     ]
    },
    {
     "data": {
      "text/plain": [
       "Apple         2564\n",
       "Google        1543\n",
       "No product    1444\n",
       "Name: product_id, dtype: int64"
      ]
     },
     "execution_count": 28,
     "metadata": {},
     "output_type": "execute_result"
    }
   ],
   "source": [
    "directed_at_Nan['product_id'] = directed_at_Nan['tweet_text'].apply(product_identifier)\n",
    "\n",
    "directed_at_Nan.product_id.value_counts()"
   ]
  },
  {
   "cell_type": "code",
   "execution_count": 29,
   "metadata": {
    "ExecuteTime": {
     "end_time": "2022-05-11T03:15:26.334260Z",
     "start_time": "2022-05-11T03:15:26.319159Z"
    }
   },
   "outputs": [],
   "source": [
    "Neg = tweets[tweets['is_there_an_emotion_directed_at_a_brand_or_product']=='Negative emotion']"
   ]
  },
  {
   "cell_type": "code",
   "execution_count": 30,
   "metadata": {
    "ExecuteTime": {
     "end_time": "2022-05-11T03:15:26.956601Z",
     "start_time": "2022-05-11T03:15:26.927441Z"
    }
   },
   "outputs": [
    {
     "data": {
      "text/html": [
       "<div>\n",
       "<style scoped>\n",
       "    .dataframe tbody tr th:only-of-type {\n",
       "        vertical-align: middle;\n",
       "    }\n",
       "\n",
       "    .dataframe tbody tr th {\n",
       "        vertical-align: top;\n",
       "    }\n",
       "\n",
       "    .dataframe thead th {\n",
       "        text-align: right;\n",
       "    }\n",
       "</style>\n",
       "<table border=\"1\" class=\"dataframe\">\n",
       "  <thead>\n",
       "    <tr style=\"text-align: right;\">\n",
       "      <th></th>\n",
       "      <th>tweet_text</th>\n",
       "      <th>emotion_in_tweet_is_directed_at</th>\n",
       "      <th>is_there_an_emotion_directed_at_a_brand_or_product</th>\n",
       "    </tr>\n",
       "  </thead>\n",
       "  <tbody>\n",
       "    <tr>\n",
       "      <th>0</th>\n",
       "      <td>.@wesley83 I have a 3G iPhone. After 3 hrs twe...</td>\n",
       "      <td>iPhone</td>\n",
       "      <td>Negative emotion</td>\n",
       "    </tr>\n",
       "    <tr>\n",
       "      <th>3</th>\n",
       "      <td>@sxsw I hope this year's festival isn't as cra...</td>\n",
       "      <td>iPad or iPhone App</td>\n",
       "      <td>Negative emotion</td>\n",
       "    </tr>\n",
       "    <tr>\n",
       "      <th>17</th>\n",
       "      <td>I just noticed DST is coming this weekend. How...</td>\n",
       "      <td>iPhone</td>\n",
       "      <td>Negative emotion</td>\n",
       "    </tr>\n",
       "    <tr>\n",
       "      <th>38</th>\n",
       "      <td>@mention  - False Alarm: Google Circles Not Co...</td>\n",
       "      <td>Google</td>\n",
       "      <td>Negative emotion</td>\n",
       "    </tr>\n",
       "    <tr>\n",
       "      <th>62</th>\n",
       "      <td>Again? RT @mention Line at the Apple store is ...</td>\n",
       "      <td>NaN</td>\n",
       "      <td>Negative emotion</td>\n",
       "    </tr>\n",
       "    <tr>\n",
       "      <th>...</th>\n",
       "      <td>...</td>\n",
       "      <td>...</td>\n",
       "      <td>...</td>\n",
       "    </tr>\n",
       "    <tr>\n",
       "      <th>8603</th>\n",
       "      <td>Google guy at #sxsw talk is explaining how he ...</td>\n",
       "      <td>NaN</td>\n",
       "      <td>Negative emotion</td>\n",
       "    </tr>\n",
       "    <tr>\n",
       "      <th>8611</th>\n",
       "      <td>I think my effing hubby is in line for an #iPa...</td>\n",
       "      <td>iPad</td>\n",
       "      <td>Negative emotion</td>\n",
       "    </tr>\n",
       "    <tr>\n",
       "      <th>8638</th>\n",
       "      <td>I'm pretty sure the panelist that thinks &amp;quot...</td>\n",
       "      <td>Apple</td>\n",
       "      <td>Negative emotion</td>\n",
       "    </tr>\n",
       "    <tr>\n",
       "      <th>8672</th>\n",
       "      <td>Hey is anyone doing #sxsw signing up for the g...</td>\n",
       "      <td>NaN</td>\n",
       "      <td>Negative emotion</td>\n",
       "    </tr>\n",
       "    <tr>\n",
       "      <th>8709</th>\n",
       "      <td>Diller says Google TV &amp;quot;might be run over ...</td>\n",
       "      <td>Other Google product or service</td>\n",
       "      <td>Negative emotion</td>\n",
       "    </tr>\n",
       "  </tbody>\n",
       "</table>\n",
       "<p>545 rows × 3 columns</p>\n",
       "</div>"
      ],
      "text/plain": [
       "                                             tweet_text  \\\n",
       "0     .@wesley83 I have a 3G iPhone. After 3 hrs twe...   \n",
       "3     @sxsw I hope this year's festival isn't as cra...   \n",
       "17    I just noticed DST is coming this weekend. How...   \n",
       "38    @mention  - False Alarm: Google Circles Not Co...   \n",
       "62    Again? RT @mention Line at the Apple store is ...   \n",
       "...                                                 ...   \n",
       "8603  Google guy at #sxsw talk is explaining how he ...   \n",
       "8611  I think my effing hubby is in line for an #iPa...   \n",
       "8638  I'm pretty sure the panelist that thinks &quot...   \n",
       "8672  Hey is anyone doing #sxsw signing up for the g...   \n",
       "8709  Diller says Google TV &quot;might be run over ...   \n",
       "\n",
       "      emotion_in_tweet_is_directed_at  \\\n",
       "0                              iPhone   \n",
       "3                  iPad or iPhone App   \n",
       "17                             iPhone   \n",
       "38                             Google   \n",
       "62                                NaN   \n",
       "...                               ...   \n",
       "8603                              NaN   \n",
       "8611                             iPad   \n",
       "8638                            Apple   \n",
       "8672                              NaN   \n",
       "8709  Other Google product or service   \n",
       "\n",
       "     is_there_an_emotion_directed_at_a_brand_or_product  \n",
       "0                                      Negative emotion  \n",
       "3                                      Negative emotion  \n",
       "17                                     Negative emotion  \n",
       "38                                     Negative emotion  \n",
       "62                                     Negative emotion  \n",
       "...                                                 ...  \n",
       "8603                                   Negative emotion  \n",
       "8611                                   Negative emotion  \n",
       "8638                                   Negative emotion  \n",
       "8672                                   Negative emotion  \n",
       "8709                                   Negative emotion  \n",
       "\n",
       "[545 rows x 3 columns]"
      ]
     },
     "execution_count": 30,
     "metadata": {},
     "output_type": "execute_result"
    }
   ],
   "source": [
    "Neg"
   ]
  },
  {
   "cell_type": "code",
   "execution_count": 31,
   "metadata": {
    "ExecuteTime": {
     "end_time": "2022-05-11T03:15:27.835605Z",
     "start_time": "2022-05-11T03:15:27.773735Z"
    }
   },
   "outputs": [
    {
     "data": {
      "text/plain": [
       "[('sxsw', 561),\n",
       " ('mention', 305),\n",
       " ('ipad', 204),\n",
       " ('quot', 169),\n",
       " ('iphone', 158),\n",
       " ('google', 144),\n",
       " ('rt', 136),\n",
       " ('apple', 118),\n",
       " ('link', 94),\n",
       " ('app', 58),\n",
       " ('store', 45),\n",
       " ('new', 41),\n",
       " ('like', 39),\n",
       " ('circles', 32),\n",
       " ('social', 30),\n",
       " ('people', 29),\n",
       " ('austin', 28),\n",
       " ('design', 27),\n",
       " ('apps', 27),\n",
       " ('need', 25),\n",
       " ('get', 24),\n",
       " ('android', 22),\n",
       " ('one', 22),\n",
       " ('amp', 21),\n",
       " ('launch', 21),\n",
       " ('today', 20),\n",
       " ('would', 19),\n",
       " ('line', 18),\n",
       " ('think', 18),\n",
       " ('time', 17),\n",
       " ('headaches', 16),\n",
       " ('says', 16),\n",
       " ('pop', 16),\n",
       " ('day', 16),\n",
       " ('long', 16),\n",
       " ('fail', 16),\n",
       " ('users', 15),\n",
       " ('news', 15),\n",
       " ('network', 15),\n",
       " ('see', 15),\n",
       " ('much', 15),\n",
       " ('america', 15),\n",
       " ('back', 14),\n",
       " ('battery', 14),\n",
       " ('money', 14),\n",
       " ('major', 14),\n",
       " ('really', 14),\n",
       " ('good', 14),\n",
       " ('fascist', 14),\n",
       " ('company', 14)]"
      ]
     },
     "execution_count": 31,
     "metadata": {},
     "output_type": "execute_result"
    }
   ],
   "source": [
    "Neg_word_freq = FreqDist()\n",
    "for tweet in Neg['tweet_text'].map(lambda x:doc_preparer(x,stem=False)):\n",
    "    for word in tweet.split():\n",
    "        Neg_word_freq[word] +=1\n",
    "Neg_word_freq.most_common(n=50)"
   ]
  },
  {
   "cell_type": "code",
   "execution_count": 32,
   "metadata": {
    "ExecuteTime": {
     "end_time": "2022-05-11T03:15:33.078341Z",
     "start_time": "2022-05-11T03:15:33.053410Z"
    }
   },
   "outputs": [],
   "source": [
    "Pos = tweets[tweets['is_there_an_emotion_directed_at_a_brand_or_product']=='Positive emotion']"
   ]
  },
  {
   "cell_type": "code",
   "execution_count": 33,
   "metadata": {
    "ExecuteTime": {
     "end_time": "2022-05-11T03:15:33.483237Z",
     "start_time": "2022-05-11T03:15:33.460878Z"
    }
   },
   "outputs": [
    {
     "data": {
      "text/html": [
       "<div>\n",
       "<style scoped>\n",
       "    .dataframe tbody tr th:only-of-type {\n",
       "        vertical-align: middle;\n",
       "    }\n",
       "\n",
       "    .dataframe tbody tr th {\n",
       "        vertical-align: top;\n",
       "    }\n",
       "\n",
       "    .dataframe thead th {\n",
       "        text-align: right;\n",
       "    }\n",
       "</style>\n",
       "<table border=\"1\" class=\"dataframe\">\n",
       "  <thead>\n",
       "    <tr style=\"text-align: right;\">\n",
       "      <th></th>\n",
       "      <th>tweet_text</th>\n",
       "      <th>emotion_in_tweet_is_directed_at</th>\n",
       "      <th>is_there_an_emotion_directed_at_a_brand_or_product</th>\n",
       "    </tr>\n",
       "  </thead>\n",
       "  <tbody>\n",
       "    <tr>\n",
       "      <th>1</th>\n",
       "      <td>@jessedee Know about @fludapp ? Awesome iPad/i...</td>\n",
       "      <td>iPad or iPhone App</td>\n",
       "      <td>Positive emotion</td>\n",
       "    </tr>\n",
       "    <tr>\n",
       "      <th>2</th>\n",
       "      <td>@swonderlin Can not wait for #iPad 2 also. The...</td>\n",
       "      <td>iPad</td>\n",
       "      <td>Positive emotion</td>\n",
       "    </tr>\n",
       "    <tr>\n",
       "      <th>4</th>\n",
       "      <td>@sxtxstate great stuff on Fri #SXSW: Marissa M...</td>\n",
       "      <td>Google</td>\n",
       "      <td>Positive emotion</td>\n",
       "    </tr>\n",
       "    <tr>\n",
       "      <th>7</th>\n",
       "      <td>#SXSW is just starting, #CTIA is around the co...</td>\n",
       "      <td>Android</td>\n",
       "      <td>Positive emotion</td>\n",
       "    </tr>\n",
       "    <tr>\n",
       "      <th>8</th>\n",
       "      <td>Beautifully smart and simple idea RT @madebyma...</td>\n",
       "      <td>iPad or iPhone App</td>\n",
       "      <td>Positive emotion</td>\n",
       "    </tr>\n",
       "    <tr>\n",
       "      <th>...</th>\n",
       "      <td>...</td>\n",
       "      <td>...</td>\n",
       "      <td>...</td>\n",
       "    </tr>\n",
       "    <tr>\n",
       "      <th>8701</th>\n",
       "      <td>@mention your iPhone 4 cases are Rad and Ready...</td>\n",
       "      <td>iPhone</td>\n",
       "      <td>Positive emotion</td>\n",
       "    </tr>\n",
       "    <tr>\n",
       "      <th>8706</th>\n",
       "      <td>@mention your PR guy just convinced me to swit...</td>\n",
       "      <td>iPhone</td>\n",
       "      <td>Positive emotion</td>\n",
       "    </tr>\n",
       "    <tr>\n",
       "      <th>8708</th>\n",
       "      <td>&amp;quot;papyrus...sort of like the ipad&amp;quot; - ...</td>\n",
       "      <td>iPad</td>\n",
       "      <td>Positive emotion</td>\n",
       "    </tr>\n",
       "    <tr>\n",
       "      <th>8713</th>\n",
       "      <td>I've always used Camera+ for my iPhone b/c it ...</td>\n",
       "      <td>iPad or iPhone App</td>\n",
       "      <td>Positive emotion</td>\n",
       "    </tr>\n",
       "    <tr>\n",
       "      <th>8716</th>\n",
       "      <td>Ipad everywhere. #SXSW {link}</td>\n",
       "      <td>iPad</td>\n",
       "      <td>Positive emotion</td>\n",
       "    </tr>\n",
       "  </tbody>\n",
       "</table>\n",
       "<p>2869 rows × 3 columns</p>\n",
       "</div>"
      ],
      "text/plain": [
       "                                             tweet_text  \\\n",
       "1     @jessedee Know about @fludapp ? Awesome iPad/i...   \n",
       "2     @swonderlin Can not wait for #iPad 2 also. The...   \n",
       "4     @sxtxstate great stuff on Fri #SXSW: Marissa M...   \n",
       "7     #SXSW is just starting, #CTIA is around the co...   \n",
       "8     Beautifully smart and simple idea RT @madebyma...   \n",
       "...                                                 ...   \n",
       "8701  @mention your iPhone 4 cases are Rad and Ready...   \n",
       "8706  @mention your PR guy just convinced me to swit...   \n",
       "8708  &quot;papyrus...sort of like the ipad&quot; - ...   \n",
       "8713  I've always used Camera+ for my iPhone b/c it ...   \n",
       "8716                      Ipad everywhere. #SXSW {link}   \n",
       "\n",
       "     emotion_in_tweet_is_directed_at  \\\n",
       "1                 iPad or iPhone App   \n",
       "2                               iPad   \n",
       "4                             Google   \n",
       "7                            Android   \n",
       "8                 iPad or iPhone App   \n",
       "...                              ...   \n",
       "8701                          iPhone   \n",
       "8706                          iPhone   \n",
       "8708                            iPad   \n",
       "8713              iPad or iPhone App   \n",
       "8716                            iPad   \n",
       "\n",
       "     is_there_an_emotion_directed_at_a_brand_or_product  \n",
       "1                                      Positive emotion  \n",
       "2                                      Positive emotion  \n",
       "4                                      Positive emotion  \n",
       "7                                      Positive emotion  \n",
       "8                                      Positive emotion  \n",
       "...                                                 ...  \n",
       "8701                                   Positive emotion  \n",
       "8706                                   Positive emotion  \n",
       "8708                                   Positive emotion  \n",
       "8713                                   Positive emotion  \n",
       "8716                                   Positive emotion  \n",
       "\n",
       "[2869 rows x 3 columns]"
      ]
     },
     "execution_count": 33,
     "metadata": {},
     "output_type": "execute_result"
    }
   ],
   "source": [
    "Pos"
   ]
  },
  {
   "cell_type": "code",
   "execution_count": 34,
   "metadata": {
    "ExecuteTime": {
     "end_time": "2022-05-11T03:15:34.061769Z",
     "start_time": "2022-05-11T03:15:33.882446Z"
    }
   },
   "outputs": [
    {
     "data": {
      "text/plain": [
       "[('sxsw', 3037),\n",
       " ('mention', 2153),\n",
       " ('ipad', 1201),\n",
       " ('link', 1170),\n",
       " ('rt', 933),\n",
       " ('apple', 902),\n",
       " ('google', 708),\n",
       " ('iphone', 532),\n",
       " ('store', 528),\n",
       " ('quot', 456),\n",
       " ('app', 387),\n",
       " ('new', 354),\n",
       " ('austin', 285),\n",
       " ('amp', 204),\n",
       " ('pop', 204),\n",
       " ('android', 199),\n",
       " ('get', 154),\n",
       " ('launch', 153),\n",
       " ('one', 143),\n",
       " ('party', 133),\n",
       " ('great', 130),\n",
       " ('line', 127),\n",
       " ('time', 124),\n",
       " ('free', 122),\n",
       " ('via', 122),\n",
       " ('social', 122),\n",
       " ('circles', 121),\n",
       " ('cool', 117),\n",
       " ('today', 112),\n",
       " ('day', 111),\n",
       " ('like', 110),\n",
       " ('w', 103),\n",
       " ('maps', 101),\n",
       " ('mobile', 96),\n",
       " ('sxswi', 95),\n",
       " ('go', 93),\n",
       " ('awesome', 91),\n",
       " ('good', 91),\n",
       " ('love', 90),\n",
       " ('network', 88),\n",
       " ('opening', 86),\n",
       " ('downtown', 85),\n",
       " ('check', 84),\n",
       " ('temporary', 84),\n",
       " ('people', 82),\n",
       " ('apps', 82),\n",
       " ('got', 79),\n",
       " ('see', 72),\n",
       " ('popup', 72),\n",
       " ('even', 70)]"
      ]
     },
     "execution_count": 34,
     "metadata": {},
     "output_type": "execute_result"
    }
   ],
   "source": [
    "pos_word_freq = FreqDist()\n",
    "for tweet in Pos['tweet_text'].map(lambda x:doc_preparer(x,stem=False)):\n",
    "    for word in tweet.split():\n",
    "        pos_word_freq[word] +=1\n",
    "pos_word_freq.most_common(n=50)"
   ]
  },
  {
   "cell_type": "code",
   "execution_count": 35,
   "metadata": {
    "ExecuteTime": {
     "end_time": "2022-05-11T03:15:34.832291Z",
     "start_time": "2022-05-11T03:15:34.821228Z"
    }
   },
   "outputs": [],
   "source": [
    "neg_keys = list(Neg_word_freq.most_common(n=50))"
   ]
  },
  {
   "cell_type": "code",
   "execution_count": 36,
   "metadata": {
    "ExecuteTime": {
     "end_time": "2022-05-11T03:15:35.316165Z",
     "start_time": "2022-05-11T03:15:35.301481Z"
    }
   },
   "outputs": [],
   "source": [
    "neg_keys = [t[0] for t in neg_keys]"
   ]
  },
  {
   "cell_type": "code",
   "execution_count": 37,
   "metadata": {
    "ExecuteTime": {
     "end_time": "2022-05-11T03:15:35.782885Z",
     "start_time": "2022-05-11T03:15:35.759066Z"
    }
   },
   "outputs": [
    {
     "data": {
      "text/plain": [
       "['sxsw',\n",
       " 'mention',\n",
       " 'ipad',\n",
       " 'quot',\n",
       " 'iphone',\n",
       " 'google',\n",
       " 'rt',\n",
       " 'apple',\n",
       " 'link',\n",
       " 'app',\n",
       " 'store',\n",
       " 'new',\n",
       " 'like',\n",
       " 'circles',\n",
       " 'social',\n",
       " 'people',\n",
       " 'austin',\n",
       " 'design',\n",
       " 'apps',\n",
       " 'need',\n",
       " 'get',\n",
       " 'android',\n",
       " 'one',\n",
       " 'amp',\n",
       " 'launch',\n",
       " 'today',\n",
       " 'would',\n",
       " 'line',\n",
       " 'think',\n",
       " 'time',\n",
       " 'headaches',\n",
       " 'says',\n",
       " 'pop',\n",
       " 'day',\n",
       " 'long',\n",
       " 'fail',\n",
       " 'users',\n",
       " 'news',\n",
       " 'network',\n",
       " 'see',\n",
       " 'much',\n",
       " 'america',\n",
       " 'back',\n",
       " 'battery',\n",
       " 'money',\n",
       " 'major',\n",
       " 'really',\n",
       " 'good',\n",
       " 'fascist',\n",
       " 'company']"
      ]
     },
     "execution_count": 37,
     "metadata": {},
     "output_type": "execute_result"
    }
   ],
   "source": [
    "neg_keys"
   ]
  },
  {
   "cell_type": "code",
   "execution_count": null,
   "metadata": {},
   "outputs": [],
   "source": []
  },
  {
   "cell_type": "code",
   "execution_count": 58,
   "metadata": {
    "ExecuteTime": {
     "end_time": "2022-05-11T03:45:57.428769Z",
     "start_time": "2022-05-11T03:45:57.418538Z"
    }
   },
   "outputs": [],
   "source": [
    "pos_keys = list(pos_word_freq.most_common(n=50))"
   ]
  },
  {
   "cell_type": "code",
   "execution_count": 59,
   "metadata": {
    "ExecuteTime": {
     "end_time": "2022-05-11T03:45:57.924670Z",
     "start_time": "2022-05-11T03:45:57.914459Z"
    }
   },
   "outputs": [],
   "source": [
    "pos_keys = [t[0] for t in pos_keys]"
   ]
  },
  {
   "cell_type": "code",
   "execution_count": 60,
   "metadata": {
    "ExecuteTime": {
     "end_time": "2022-05-11T03:45:59.064989Z",
     "start_time": "2022-05-11T03:45:59.048941Z"
    }
   },
   "outputs": [
    {
     "data": {
      "text/plain": [
       "['sxsw',\n",
       " 'mention',\n",
       " 'ipad',\n",
       " 'link',\n",
       " 'rt',\n",
       " 'apple',\n",
       " 'google',\n",
       " 'iphone',\n",
       " 'store',\n",
       " 'quot',\n",
       " 'app',\n",
       " 'new',\n",
       " 'austin',\n",
       " 'amp',\n",
       " 'pop',\n",
       " 'android',\n",
       " 'get',\n",
       " 'launch',\n",
       " 'one',\n",
       " 'party',\n",
       " 'great',\n",
       " 'line',\n",
       " 'time',\n",
       " 'free',\n",
       " 'via',\n",
       " 'social',\n",
       " 'circles',\n",
       " 'cool',\n",
       " 'today',\n",
       " 'day',\n",
       " 'like',\n",
       " 'w',\n",
       " 'maps',\n",
       " 'mobile',\n",
       " 'sxswi',\n",
       " 'go',\n",
       " 'awesome',\n",
       " 'good',\n",
       " 'love',\n",
       " 'network',\n",
       " 'opening',\n",
       " 'downtown',\n",
       " 'check',\n",
       " 'temporary',\n",
       " 'people',\n",
       " 'apps',\n",
       " 'got',\n",
       " 'see',\n",
       " 'popup',\n",
       " 'even']"
      ]
     },
     "execution_count": 60,
     "metadata": {},
     "output_type": "execute_result"
    }
   ],
   "source": [
    "pos_keys"
   ]
  },
  {
   "cell_type": "code",
   "execution_count": 41,
   "metadata": {
    "ExecuteTime": {
     "end_time": "2022-05-11T03:15:37.817234Z",
     "start_time": "2022-05-11T03:15:37.808230Z"
    }
   },
   "outputs": [
    {
     "data": {
      "text/plain": [
       "['see',\n",
       " 'network',\n",
       " 'circles',\n",
       " 'ipad',\n",
       " 'day',\n",
       " 'launch',\n",
       " 'social',\n",
       " 'people',\n",
       " 'google',\n",
       " 'get',\n",
       " 'one',\n",
       " 'like',\n",
       " 'time',\n",
       " 'mention',\n",
       " 'android',\n",
       " 'iphone',\n",
       " 'app',\n",
       " 'quot',\n",
       " 'rt',\n",
       " 'line',\n",
       " 'today',\n",
       " 'new',\n",
       " 'apple',\n",
       " 'apps',\n",
       " 'store',\n",
       " 'good',\n",
       " 'austin',\n",
       " 'sxsw',\n",
       " 'amp',\n",
       " 'pop',\n",
       " 'link']"
      ]
     },
     "execution_count": 41,
     "metadata": {},
     "output_type": "execute_result"
    }
   ],
   "source": [
    "list(set(neg_keys).intersection(pos_keys))"
   ]
  },
  {
   "cell_type": "code",
   "execution_count": 42,
   "metadata": {
    "ExecuteTime": {
     "end_time": "2022-05-11T03:15:38.048389Z",
     "start_time": "2022-05-11T03:15:38.035017Z"
    }
   },
   "outputs": [],
   "source": [
    "unique_pos = [element for element in pos_keys if element not in neg_keys]"
   ]
  },
  {
   "cell_type": "code",
   "execution_count": 43,
   "metadata": {
    "ExecuteTime": {
     "end_time": "2022-05-11T03:15:38.794395Z",
     "start_time": "2022-05-11T03:15:38.777518Z"
    }
   },
   "outputs": [
    {
     "data": {
      "text/plain": [
       "['party',\n",
       " 'great',\n",
       " 'free',\n",
       " 'via',\n",
       " 'cool',\n",
       " 'w',\n",
       " 'maps',\n",
       " 'mobile',\n",
       " 'sxswi',\n",
       " 'go',\n",
       " 'awesome',\n",
       " 'love',\n",
       " 'opening',\n",
       " 'downtown',\n",
       " 'check',\n",
       " 'temporary',\n",
       " 'got',\n",
       " 'popup',\n",
       " 'even']"
      ]
     },
     "execution_count": 43,
     "metadata": {},
     "output_type": "execute_result"
    }
   ],
   "source": [
    "unique_pos"
   ]
  },
  {
   "cell_type": "code",
   "execution_count": 44,
   "metadata": {
    "ExecuteTime": {
     "end_time": "2022-05-11T03:15:39.335333Z",
     "start_time": "2022-05-11T03:15:39.321329Z"
    }
   },
   "outputs": [],
   "source": [
    "unique_neg = [element for element in neg_keys if element not in pos_keys]"
   ]
  },
  {
   "cell_type": "code",
   "execution_count": 45,
   "metadata": {
    "ExecuteTime": {
     "end_time": "2022-05-11T03:15:39.799371Z",
     "start_time": "2022-05-11T03:15:39.786777Z"
    }
   },
   "outputs": [
    {
     "data": {
      "text/plain": [
       "['design',\n",
       " 'need',\n",
       " 'would',\n",
       " 'think',\n",
       " 'headaches',\n",
       " 'says',\n",
       " 'long',\n",
       " 'fail',\n",
       " 'users',\n",
       " 'news',\n",
       " 'much',\n",
       " 'america',\n",
       " 'back',\n",
       " 'battery',\n",
       " 'money',\n",
       " 'major',\n",
       " 'really',\n",
       " 'fascist',\n",
       " 'company']"
      ]
     },
     "execution_count": 45,
     "metadata": {},
     "output_type": "execute_result"
    }
   ],
   "source": [
    "unique_neg"
   ]
  },
  {
   "cell_type": "code",
   "execution_count": 75,
   "metadata": {
    "ExecuteTime": {
     "end_time": "2022-05-11T04:43:06.145390Z",
     "start_time": "2022-05-11T04:43:05.535972Z"
    }
   },
   "outputs": [
    {
     "data": {
      "image/png": "[encoded data removed]",
      "text/plain": [
       "<Figure size 432x288 with 1 Axes>"
      ]
     },
     "metadata": {
      "needs_background": "light"
     },
     "output_type": "display_data"
    }
   ],
   "source": [
    "text = [\n",
    " 'Standard_Deviants',\n",
    " 'Saad_Saeed',\n",
    " 'Luke_Dowker',\n",
    " 'Will_Norton',\n",
    " 'Marshall_Wylder'\n",
    " 'sxsw',\n",
    " 'mention',\n",
    " 'ipad',\n",
    " 'link',\n",
    " 'rt',\n",
    " 'apple',\n",
    " 'google',\n",
    " 'iphone',\n",
    " 'store',\n",
    " 'quot',\n",
    " 'app',\n",
    " 'new',\n",
    " 'austin',\n",
    " 'amp',\n",
    " 'pop',\n",
    " 'android',\n",
    " 'get',\n",
    " 'launch',\n",
    " 'one',\n",
    " 'party',\n",
    " 'great',\n",
    " 'line',\n",
    " 'time',\n",
    " 'free',\n",
    " 'via',\n",
    " 'social',\n",
    " 'circles',\n",
    " 'cool',\n",
    " 'today',\n",
    " 'day',\n",
    " 'like',\n",
    " 'w',\n",
    " 'maps',\n",
    " 'mobile',\n",
    " 'sxswi',\n",
    " 'go',\n",
    " 'awesome',\n",
    " 'good',\n",
    " 'love',\n",
    " 'network',\n",
    " 'opening',\n",
    " 'downtown',\n",
    " 'check',\n",
    " 'temporary',\n",
    " 'people',\n",
    " 'apps',\n",
    " 'got',\n",
    " 'see',\n",
    " 'popup',\n",
    " 'even',\n",
    " 'Saad']\n",
    "wc = WordCloud(max_words = 1000,\n",
    "               width = 1600,\n",
    "               height = 800,\n",
    "               collocations=False).generate(\",\".join(text))\n",
    "plt.axis(\"off\")\n",
    "plt.imshow(wc);"
   ]
  },
  {
   "cell_type": "code",
   "execution_count": null,
   "metadata": {},
   "outputs": [],
   "source": []
  },
  {
   "cell_type": "code",
   "execution_count": null,
   "metadata": {},
   "outputs": [],
   "source": []
  }
 ],
 "metadata": {
  "kernelspec": {
   "display_name": "Python (learn-env)",
   "language": "python",
   "name": "learn-env"
  },
  "language_info": {
   "codemirror_mode": {
    "name": "ipython",
    "version": 3
   },
   "file_extension": ".py",
   "mimetype": "text/x-python",
   "name": "python",
   "nbconvert_exporter": "python",
   "pygments_lexer": "ipython3",
   "version": "3.8.5"
  },
  "varInspector": {
   "cols": {
    "lenName": 16,
    "lenType": 16,
    "lenVar": 40
   },
   "kernels_config": {
    "python": {
     "delete_cmd_postfix": "",
     "delete_cmd_prefix": "del ",
     "library": "var_list.py",
     "varRefreshCmd": "print(var_dic_list())"
    },
    "r": {
     "delete_cmd_postfix": ") ",
     "delete_cmd_prefix": "rm(",
     "library": "var_list.r",
     "varRefreshCmd": "cat(var_dic_list()) "
    }
   },
   "position": {
    "height": "378.85px",
    "left": "961px",
    "right": "20px",
    "top": "120px",
    "width": "395px"
   },
   "types_to_exclude": [
    "module",
    "function",
    "builtin_function_or_method",
    "instance",
    "_Feature"
   ],
   "window_display": true
  }
 },
 "nbformat": 4,
 "nbformat_minor": 4
}
