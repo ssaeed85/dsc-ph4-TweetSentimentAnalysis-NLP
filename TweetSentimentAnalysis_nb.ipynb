{
 "cells": [
  {
   "cell_type": "markdown",
   "id": "1c6ac813",
   "metadata": {},
   "source": [
    "# References"
   ]
  },
  {
   "cell_type": "markdown",
   "id": "9b105d80",
   "metadata": {
    "ExecuteTime": {
     "end_time": "2022-05-09T17:25:54.110072Z",
     "start_time": "2022-05-09T17:25:54.080061Z"
    }
   },
   "source": [
    "https://github.com/jasonwei20/eda_nlp/blob/04ab29c5b18d2d72f9fa5b304322aaf4793acea0/code/eda.py#L86"
   ]
  },
  {
   "cell_type": "markdown",
   "id": "695e7cdc",
   "metadata": {},
   "source": [
    "# Imports"
   ]
  },
  {
   "cell_type": "code",
   "execution_count": 63,
   "id": "de0fb176",
   "metadata": {
    "ExecuteTime": {
     "end_time": "2022-05-10T21:06:28.842396Z",
     "start_time": "2022-05-10T21:06:28.823400Z"
    }
   },
   "outputs": [],
   "source": [
    "import pandas as pd\n",
    "pd.options.display.max_columns = 50   # max displayed columns\n",
    "pd.options.display.max_colwidth = 280 # width of a column\n",
    "\n",
    "import matplotlib.pyplot as plt\n",
    "from collections import defaultdict\n",
    "\n",
    "import random\n",
    "random.seed(42)\n",
    "np.random.RandomState(1)\n",
    "\n",
    "from sklearn.feature_extraction.text import TfidfVectorizer, CountVectorizer\n",
    "from sklearn.ensemble import RandomForestClassifier, GradientBoostingClassifier\n",
    "from sklearn.naive_bayes import MultinomialNB\n",
    "from sklearn.metrics import accuracy_score, precision_score, confusion_matrix, classification_report\n",
    "from sklearn.pipeline import Pipeline\n",
    "from sklearn.preprocessing import LabelEncoder\n",
    "from sklearn.model_selection import train_test_split, cross_val_score, cross_validate, GridSearchCV\n",
    "\n",
    "import nltk\n",
    "from nltk.probability import FreqDist\n",
    "from nltk.tokenize import regexp_tokenize, word_tokenize, RegexpTokenizer\n",
    "from nltk import pos_tag\n",
    "from nltk.corpus import wordnet, stopwords\n",
    "from nltk.stem import WordNetLemmatizer\n",
    "sw = stopwords.words('english')\n",
    "\n",
    "from googletrans import Translator\n",
    "\n",
    "import xgboost\n",
    "# from imblearn.over_sampling import SMOTE \n",
    "NB_n_jobs = -2"
   ]
  },
  {
   "cell_type": "code",
   "execution_count": 2,
   "id": "b205fce5",
   "metadata": {
    "ExecuteTime": {
     "end_time": "2022-05-10T20:43:33.006347Z",
     "start_time": "2022-05-10T20:43:32.991344Z"
    }
   },
   "outputs": [],
   "source": [
    "## Uncomment below and run if you nltk throws up errors\n",
    "#nltk.download('omw-1.4')"
   ]
  },
  {
   "cell_type": "code",
   "execution_count": 3,
   "id": "dbf1b269",
   "metadata": {
    "ExecuteTime": {
     "end_time": "2022-05-10T20:43:33.022350Z",
     "start_time": "2022-05-10T20:43:33.007347Z"
    }
   },
   "outputs": [],
   "source": [
    "import sys\n",
    "sys.path.append( 'src' )\n",
    "from pandas_functions import *"
   ]
  },
  {
   "cell_type": "code",
   "execution_count": 4,
   "id": "73058b5c",
   "metadata": {
    "ExecuteTime": {
     "end_time": "2022-05-10T20:43:33.038354Z",
     "start_time": "2022-05-10T20:43:33.024351Z"
    }
   },
   "outputs": [],
   "source": [
    "dataFolder_path = 'data/'"
   ]
  },
  {
   "cell_type": "markdown",
   "id": "c7876da2",
   "metadata": {},
   "source": [
    "# Helper functions"
   ]
  },
  {
   "cell_type": "code",
   "execution_count": 5,
   "id": "a02fd7c8",
   "metadata": {
    "ExecuteTime": {
     "end_time": "2022-05-10T20:43:33.054358Z",
     "start_time": "2022-05-10T20:43:33.039355Z"
    }
   },
   "outputs": [],
   "source": [
    "# To be put in src\n",
    "\n",
    "def doc_preparer(doc, stem = False, stop_words=sw):\n",
    "    '''\n",
    "\n",
    "    :param doc: a document from the satire corpus \n",
    "    :return: a document string with words which have been \n",
    "            lemmatized, \n",
    "            parsed for stopwords, \n",
    "            made lowercase,\n",
    "            and stripped of punctuation and numbers.\n",
    "            \n",
    "    Courtesy of Flatiron's lecture materials - \n",
    "    credit due to Daniel on helping me figure out the regex pattern to exclude Twitter mentions.\n",
    "    '''\n",
    "\n",
    "    \n",
    "    # Instantiate regex tokenizer\n",
    "    regex_pattern = r\"(?<![@A-Za-z0-9_])([a-zA-Z]+(?:'[a-z]+)?)\" \n",
    "    regex_token = RegexpTokenizer(regex_pattern)\n",
    "    \n",
    "    # Tokenize using regex pattern\n",
    "    doc = regex_token.tokenize(doc)\n",
    "    \n",
    "    # Lowercase all letters\n",
    "    doc = [word.lower() for word in doc]\n",
    "    \n",
    "    # Remove stop words\n",
    "    doc = [word for word in doc if word not in sw]\n",
    "   \n",
    "    # Stemming\n",
    "    if stem:\n",
    "        p_stemmer = nltk.stem.PorterStemmer()\n",
    "        doc = [p_stemmer.stem(word) for word in doc]\n",
    "        \n",
    "    return ' '.join(doc)\n",
    "\n",
    "\n",
    "def cv_printScores(cv_metric):\n",
    "    '''\n",
    "    Generic pretty printer of a cross validation\n",
    "    '''\n",
    "    print('CV Results')\n",
    "    print('='*32)\n",
    "    print('Accuracy')\n",
    "    print('-'*32)\n",
    "    print(f\"Training accuracy: {cv_metric['train_accuracy'].mean():.3f}\")\n",
    "    print(f\"Test accuracy:     {cv_metric['test_accuracy'].mean():.3f}\")\n",
    "    print('F-1 Score')\n",
    "    print('-'*32)\n",
    "    print(f\"Training F1 score: {cv_metric['train_f1_macro'].mean():.3f}\")\n",
    "    print(f\"Test F1 score:     {cv_metric['test_f1_macro'].mean():.3f}\")\n",
    "    \n",
    "\n",
    "    \n",
    "def getTopWordFreq(df,col,n):\n",
    "    '''\n",
    "    generates FreqDist and prints out top n words\n",
    "    df: dataframe\n",
    "    col: column you want to run a freqDist on\n",
    "    n: number of most common items    \n",
    "    '''\n",
    "    word_freq = FreqDist()\n",
    "    for text in df[col].map(lambda x:doc_preparer(x,stem=False)):\n",
    "        for word in text.split():\n",
    "            word_freq[word] +=1\n",
    "    return word_freq.most_common(n=n)"
   ]
  },
  {
   "cell_type": "markdown",
   "id": "ec305040",
   "metadata": {
    "ExecuteTime": {
     "end_time": "2022-05-10T19:29:12.698541Z",
     "start_time": "2022-05-10T19:29:12.694541Z"
    }
   },
   "source": [
    "# Data: Loading, Cleaning, and Munging"
   ]
  },
  {
   "cell_type": "markdown",
   "id": "f4231b8a",
   "metadata": {},
   "source": [
    "## Describe data here!!!!"
   ]
  },
  {
   "cell_type": "markdown",
   "id": "6ddf1650",
   "metadata": {},
   "source": [
    "This dataset is a subset of webscraped twitter data that was gathered (presumably) at the SXSW festival that is held annually at Austin, Texas. It is self described as a meeting of music, tech and film.\n",
    "\n",
    "\n",
    "This data was gathered from CrowdFlower. Per CrowdFlower:"
   ]
  },
  {
   "cell_type": "markdown",
   "id": "c976009c",
   "metadata": {},
   "source": [
    "Description:\n",
    ">Judge Emotion About Brands and Products\n",
    "\n",
    "Summary:\n",
    ">Contributors evaluated tweets about multiple brands and products. The crowd was asked if the tweet expressed positive, negative, or no emotion towards a brand and/or product. If some emotion was expressed they were also asked to say which brand or product was the target of that emotion. Added: August 30, 2013 by Kent Cavender-Bares | Data Rows: 9093 Download Now\n",
    "\n",
    "Source:\n",
    "https://www.crowdflower.com/data-for-everyone/"
   ]
  },
  {
   "cell_type": "markdown",
   "id": "6d6d77b1",
   "metadata": {
    "ExecuteTime": {
     "end_time": "2022-05-10T19:29:12.698541Z",
     "start_time": "2022-05-10T19:29:12.694541Z"
    }
   },
   "source": [
    "## Loading"
   ]
  },
  {
   "cell_type": "code",
   "execution_count": 6,
   "id": "8feb5fc5",
   "metadata": {
    "ExecuteTime": {
     "end_time": "2022-05-10T20:43:33.086365Z",
     "start_time": "2022-05-10T20:43:33.055358Z"
    }
   },
   "outputs": [],
   "source": [
    "data_df = pd.read_csv(dataFolder_path+'judge_1377884607_tweet_product_company.csv')"
   ]
  },
  {
   "cell_type": "code",
   "execution_count": 7,
   "id": "a953ec74",
   "metadata": {
    "ExecuteTime": {
     "end_time": "2022-05-10T20:43:33.102368Z",
     "start_time": "2022-05-10T20:43:33.087366Z"
    },
    "scrolled": true
   },
   "outputs": [
    {
     "data": {
      "text/html": [
       "<div>\n",
       "<style scoped>\n",
       "    .dataframe tbody tr th:only-of-type {\n",
       "        vertical-align: middle;\n",
       "    }\n",
       "\n",
       "    .dataframe tbody tr th {\n",
       "        vertical-align: top;\n",
       "    }\n",
       "\n",
       "    .dataframe thead th {\n",
       "        text-align: right;\n",
       "    }\n",
       "</style>\n",
       "<table border=\"1\" class=\"dataframe\">\n",
       "  <thead>\n",
       "    <tr style=\"text-align: right;\">\n",
       "      <th></th>\n",
       "      <th>tweet_text</th>\n",
       "      <th>emotion_in_tweet_is_directed_at</th>\n",
       "      <th>is_there_an_emotion_directed_at_a_brand_or_product</th>\n",
       "    </tr>\n",
       "  </thead>\n",
       "  <tbody>\n",
       "    <tr>\n",
       "      <th>0</th>\n",
       "      <td>.@wesley83 I have a 3G iPhone. After 3 hrs tweeting at #RISE_Austin, it was dead!  I need to upgrade. Plugin stations at #SXSW.</td>\n",
       "      <td>iPhone</td>\n",
       "      <td>Negative emotion</td>\n",
       "    </tr>\n",
       "    <tr>\n",
       "      <th>1</th>\n",
       "      <td>@jessedee Know about @fludapp ? Awesome iPad/iPhone app that you'll likely appreciate for its design. Also, they're giving free Ts at #SXSW</td>\n",
       "      <td>iPad or iPhone App</td>\n",
       "      <td>Positive emotion</td>\n",
       "    </tr>\n",
       "    <tr>\n",
       "      <th>2</th>\n",
       "      <td>@swonderlin Can not wait for #iPad 2 also. They should sale them down at #SXSW.</td>\n",
       "      <td>iPad</td>\n",
       "      <td>Positive emotion</td>\n",
       "    </tr>\n",
       "  </tbody>\n",
       "</table>\n",
       "</div>"
      ],
      "text/plain": [
       "                                                                                                                                    tweet_text  \\\n",
       "0              .@wesley83 I have a 3G iPhone. After 3 hrs tweeting at #RISE_Austin, it was dead!  I need to upgrade. Plugin stations at #SXSW.   \n",
       "1  @jessedee Know about @fludapp ? Awesome iPad/iPhone app that you'll likely appreciate for its design. Also, they're giving free Ts at #SXSW   \n",
       "2                                                              @swonderlin Can not wait for #iPad 2 also. They should sale them down at #SXSW.   \n",
       "\n",
       "  emotion_in_tweet_is_directed_at  \\\n",
       "0                          iPhone   \n",
       "1              iPad or iPhone App   \n",
       "2                            iPad   \n",
       "\n",
       "  is_there_an_emotion_directed_at_a_brand_or_product  \n",
       "0                                   Negative emotion  \n",
       "1                                   Positive emotion  \n",
       "2                                   Positive emotion  "
      ]
     },
     "execution_count": 7,
     "metadata": {},
     "output_type": "execute_result"
    }
   ],
   "source": [
    "data_df.head(3)"
   ]
  },
  {
   "cell_type": "code",
   "execution_count": 8,
   "id": "9e3d9a93",
   "metadata": {
    "ExecuteTime": {
     "end_time": "2022-05-10T20:43:33.118372Z",
     "start_time": "2022-05-10T20:43:33.103368Z"
    }
   },
   "outputs": [
    {
     "data": {
      "text/plain": [
       "(8721, 3)"
      ]
     },
     "execution_count": 8,
     "metadata": {},
     "output_type": "execute_result"
    }
   ],
   "source": [
    "data_df.shape"
   ]
  },
  {
   "cell_type": "markdown",
   "id": "bdd0779b",
   "metadata": {
    "ExecuteTime": {
     "end_time": "2022-05-10T19:29:12.698541Z",
     "start_time": "2022-05-10T19:29:12.694541Z"
    }
   },
   "source": [
    "## Cleaning"
   ]
  },
  {
   "cell_type": "markdown",
   "id": "aea8c53b",
   "metadata": {},
   "source": [
    "Let's rename the columns for ease of use. Note that `product` is a reserved word in Python; for the second column, initially titled `emotion_in_tweet_is_directed_at`, I use `product_name`."
   ]
  },
  {
   "cell_type": "code",
   "execution_count": 9,
   "id": "0402ea7a",
   "metadata": {
    "ExecuteTime": {
     "end_time": "2022-05-10T20:43:33.134376Z",
     "start_time": "2022-05-10T20:43:33.119372Z"
    }
   },
   "outputs": [],
   "source": [
    "data_df.rename(columns = {'tweet_text': 'text',\n",
    "                     'emotion_in_tweet_is_directed_at': 'product_name',\n",
    "                     'is_there_an_emotion_directed_at_a_brand_or_product': 'emotion'},\n",
    "               inplace = True)"
   ]
  },
  {
   "cell_type": "code",
   "execution_count": 10,
   "id": "3f11fc6f",
   "metadata": {
    "ExecuteTime": {
     "end_time": "2022-05-10T20:43:33.150379Z",
     "start_time": "2022-05-10T20:43:33.135376Z"
    }
   },
   "outputs": [
    {
     "data": {
      "text/plain": [
       "text               1\n",
       "product_name    5552\n",
       "emotion            0\n",
       "dtype: int64"
      ]
     },
     "execution_count": 10,
     "metadata": {},
     "output_type": "execute_result"
    }
   ],
   "source": [
    "data_df.isna().sum()"
   ]
  },
  {
   "cell_type": "markdown",
   "id": "adf21e80",
   "metadata": {},
   "source": [
    "Lots of nulls in `product_name`, which we'll have to deal with at one point or another, and exactly *one* null value in the `text` column. Let's check that out real quick..."
   ]
  },
  {
   "cell_type": "code",
   "execution_count": 11,
   "id": "c58cc997",
   "metadata": {
    "ExecuteTime": {
     "end_time": "2022-05-10T20:43:33.166383Z",
     "start_time": "2022-05-10T20:43:33.151379Z"
    },
    "scrolled": true
   },
   "outputs": [
    {
     "data": {
      "text/html": [
       "<div>\n",
       "<style scoped>\n",
       "    .dataframe tbody tr th:only-of-type {\n",
       "        vertical-align: middle;\n",
       "    }\n",
       "\n",
       "    .dataframe tbody tr th {\n",
       "        vertical-align: top;\n",
       "    }\n",
       "\n",
       "    .dataframe thead th {\n",
       "        text-align: right;\n",
       "    }\n",
       "</style>\n",
       "<table border=\"1\" class=\"dataframe\">\n",
       "  <thead>\n",
       "    <tr style=\"text-align: right;\">\n",
       "      <th></th>\n",
       "      <th>text</th>\n",
       "      <th>product_name</th>\n",
       "      <th>emotion</th>\n",
       "    </tr>\n",
       "  </thead>\n",
       "  <tbody>\n",
       "    <tr>\n",
       "      <th>6</th>\n",
       "      <td>NaN</td>\n",
       "      <td>NaN</td>\n",
       "      <td>No emotion toward brand or product</td>\n",
       "    </tr>\n",
       "  </tbody>\n",
       "</table>\n",
       "</div>"
      ],
      "text/plain": [
       "  text product_name                             emotion\n",
       "6  NaN          NaN  No emotion toward brand or product"
      ]
     },
     "execution_count": 11,
     "metadata": {},
     "output_type": "execute_result"
    }
   ],
   "source": [
    "data_df[data_df.text.isna()]"
   ]
  },
  {
   "cell_type": "markdown",
   "id": "93dfc7d0",
   "metadata": {
    "ExecuteTime": {
     "end_time": "2022-05-10T19:44:11.836326Z",
     "start_time": "2022-05-10T19:44:11.824323Z"
    }
   },
   "source": [
    "This record has no relevant information associated with it. No useful information can be drawn from it. Dropping this record"
   ]
  },
  {
   "cell_type": "code",
   "execution_count": 12,
   "id": "a6ccf738",
   "metadata": {
    "ExecuteTime": {
     "end_time": "2022-05-10T20:43:33.182387Z",
     "start_time": "2022-05-10T20:43:33.167383Z"
    }
   },
   "outputs": [],
   "source": [
    "data_df.dropna(subset=['text'],inplace=True)"
   ]
  },
  {
   "cell_type": "code",
   "execution_count": 13,
   "id": "52254b6f",
   "metadata": {
    "ExecuteTime": {
     "end_time": "2022-05-10T20:43:33.198391Z",
     "start_time": "2022-05-10T20:43:33.184387Z"
    },
    "scrolled": true
   },
   "outputs": [
    {
     "data": {
      "text/plain": [
       "(8720, 3)"
      ]
     },
     "execution_count": 13,
     "metadata": {},
     "output_type": "execute_result"
    }
   ],
   "source": [
    "data_df.shape"
   ]
  },
  {
   "cell_type": "markdown",
   "id": "2d1ab656",
   "metadata": {
    "ExecuteTime": {
     "end_time": "2022-05-10T19:29:12.698541Z",
     "start_time": "2022-05-10T19:29:12.694541Z"
    }
   },
   "source": [
    "## Munging"
   ]
  },
  {
   "cell_type": "code",
   "execution_count": 14,
   "id": "b3c9b482",
   "metadata": {
    "ExecuteTime": {
     "end_time": "2022-05-10T20:43:34.463819Z",
     "start_time": "2022-05-10T20:43:33.199390Z"
    },
    "scrolled": false
   },
   "outputs": [
    {
     "name": "stdout",
     "output_type": "stream",
     "text": [
      "Datframe has 8720 rows and 3 columns\n"
     ]
    },
    {
     "data": {
      "text/html": [
       "<div>\n",
       "<style scoped>\n",
       "    .dataframe tbody tr th:only-of-type {\n",
       "        vertical-align: middle;\n",
       "    }\n",
       "\n",
       "    .dataframe tbody tr th {\n",
       "        vertical-align: top;\n",
       "    }\n",
       "\n",
       "    .dataframe thead tr th {\n",
       "        text-align: left;\n",
       "    }\n",
       "\n",
       "    .dataframe thead tr:last-of-type th {\n",
       "        text-align: right;\n",
       "    }\n",
       "</style>\n",
       "<table border=\"1\" class=\"dataframe\">\n",
       "  <thead>\n",
       "    <tr>\n",
       "      <th>Info Table:</th>\n",
       "      <th colspan=\"2\" halign=\"left\">Zeroes</th>\n",
       "      <th colspan=\"2\" halign=\"left\">Nulls</th>\n",
       "      <th colspan=\"2\" halign=\"left\">Uniques</th>\n",
       "      <th colspan=\"2\" halign=\"left\">Missing/Unknown</th>\n",
       "      <th>Mean</th>\n",
       "      <th>Median</th>\n",
       "    </tr>\n",
       "    <tr>\n",
       "      <th>Details:</th>\n",
       "      <th>Count</th>\n",
       "      <th>Fraction</th>\n",
       "      <th>Count</th>\n",
       "      <th>Fraction</th>\n",
       "      <th>Count</th>\n",
       "      <th>Fraction</th>\n",
       "      <th>Count</th>\n",
       "      <th>Fraction</th>\n",
       "      <th></th>\n",
       "      <th></th>\n",
       "    </tr>\n",
       "    <tr>\n",
       "      <th>Columns:</th>\n",
       "      <th></th>\n",
       "      <th></th>\n",
       "      <th></th>\n",
       "      <th></th>\n",
       "      <th></th>\n",
       "      <th></th>\n",
       "      <th></th>\n",
       "      <th></th>\n",
       "      <th></th>\n",
       "      <th></th>\n",
       "    </tr>\n",
       "  </thead>\n",
       "  <tbody>\n",
       "    <tr>\n",
       "      <th>text</th>\n",
       "      <td>0</td>\n",
       "      <td>0.00 %</td>\n",
       "      <td>0</td>\n",
       "      <td>0.00 %</td>\n",
       "      <td>8693</td>\n",
       "      <td>99.69 %</td>\n",
       "      <td>0</td>\n",
       "      <td>0.00 %</td>\n",
       "      <td>0.0</td>\n",
       "      <td>0.0</td>\n",
       "    </tr>\n",
       "    <tr>\n",
       "      <th>product_name</th>\n",
       "      <td>0</td>\n",
       "      <td>0.00 %</td>\n",
       "      <td>5551</td>\n",
       "      <td>63.66 %</td>\n",
       "      <td>10</td>\n",
       "      <td>0.11 %</td>\n",
       "      <td>0</td>\n",
       "      <td>0.00 %</td>\n",
       "      <td>0.0</td>\n",
       "      <td>0.0</td>\n",
       "    </tr>\n",
       "    <tr>\n",
       "      <th>emotion</th>\n",
       "      <td>0</td>\n",
       "      <td>0.00 %</td>\n",
       "      <td>0</td>\n",
       "      <td>0.00 %</td>\n",
       "      <td>4</td>\n",
       "      <td>0.05 %</td>\n",
       "      <td>0</td>\n",
       "      <td>0.00 %</td>\n",
       "      <td>0.0</td>\n",
       "      <td>0.0</td>\n",
       "    </tr>\n",
       "  </tbody>\n",
       "</table>\n",
       "</div>"
      ],
      "text/plain": [
       "Info Table:  Zeroes          Nulls          Uniques          Missing/Unknown  \\\n",
       "Details:      Count Fraction Count Fraction   Count Fraction           Count   \n",
       "Columns:                                                                       \n",
       "text              0   0.00 %     0   0.00 %    8693  99.69 %               0   \n",
       "product_name      0   0.00 %  5551  63.66 %      10   0.11 %               0   \n",
       "emotion           0   0.00 %     0   0.00 %       4   0.05 %               0   \n",
       "\n",
       "Info Table:           Mean Median  \n",
       "Details:     Fraction              \n",
       "Columns:                           \n",
       "text           0.00 %  0.0    0.0  \n",
       "product_name   0.00 %  0.0    0.0  \n",
       "emotion        0.00 %  0.0    0.0  "
      ]
     },
     "metadata": {},
     "output_type": "display_data"
    }
   ],
   "source": [
    "dataFrame_info(data_df)"
   ]
  },
  {
   "cell_type": "markdown",
   "id": "45b10512",
   "metadata": {},
   "source": [
    "There is an extremely large number of nulls in product name, which we will have to account for. For the purpose of modeling, the columns we specifically care about are the `text` and `emotion` columns, since we are going to try and predict the emotional quotient of a tweet.\n",
    "\n",
    "Let's get a look of how the target column (`emotion`) is distributed."
   ]
  },
  {
   "cell_type": "code",
   "execution_count": 15,
   "id": "f4e48b4d",
   "metadata": {
    "ExecuteTime": {
     "end_time": "2022-05-10T20:43:34.479820Z",
     "start_time": "2022-05-10T20:43:34.464818Z"
    },
    "scrolled": false
   },
   "outputs": [
    {
     "name": "stdout",
     "output_type": "stream",
     "text": [
      "Emotion value counts:\n",
      "No emotion toward brand or product    5155\n",
      "Positive emotion                      2869\n",
      "Negative emotion                       545\n",
      "I can't tell                           151\n",
      "Name: emotion, dtype: int64\n"
     ]
    }
   ],
   "source": [
    "print(f\"Emotion value counts:\\n{data_df.emotion.value_counts()}\")"
   ]
  },
  {
   "cell_type": "markdown",
   "id": "ea418be5",
   "metadata": {},
   "source": [
    "There seems to be a significant imbalance in our data. We can confirm this by normalizing and visualizing the data"
   ]
  },
  {
   "cell_type": "code",
   "execution_count": 16,
   "id": "518a51cd",
   "metadata": {
    "ExecuteTime": {
     "end_time": "2022-05-10T20:43:34.606849Z",
     "start_time": "2022-05-10T20:43:34.480822Z"
    }
   },
   "outputs": [
    {
     "name": "stdout",
     "output_type": "stream",
     "text": [
      "Emotion value counts (normalized):\n",
      "No emotion toward brand or product    0.591170\n",
      "Positive emotion                      0.329014\n",
      "Negative emotion                      0.062500\n",
      "I can't tell                          0.017317\n",
      "Name: emotion, dtype: float64\n"
     ]
    },
    {
     "data": {
      "image/png": "[encoded data removed]",
      "text/plain": [
       "<Figure size 1008x576 with 1 Axes>"
      ]
     },
     "metadata": {
      "needs_background": "light"
     },
     "output_type": "display_data"
    }
   ],
   "source": [
    "fig, ax = plt.subplots(figsize = (14, 8))\n",
    "\n",
    "ax.bar(x = data_df.emotion.value_counts(normalize=True).index,\n",
    "       height = data_df.emotion.value_counts(normalize=True).values,\n",
    "       color = (0.2, 0.4, 0.6, 0.6),\n",
    "       edgecolor = 'black')\n",
    "\n",
    "plt.xticks(fontsize=12)\n",
    "plt.yticks(fontsize=12)\n",
    "\n",
    "ax.set_xlabel(xlabel=\"Sentiment\",\n",
    "              fontsize=15,\n",
    "              labelpad=14)\n",
    "ax.set_ylabel(ylabel=\"Proportion of documents in corpus\",\n",
    "              fontsize=15,\n",
    "              labelpad=14)\n",
    "ax.set_title(label=\"Distribution of sentiment\",\n",
    "             fontsize=22,\n",
    "             pad=10);\n",
    "\n",
    "\n",
    "\n",
    "print(f\"Emotion value counts (normalized):\\n{data_df.emotion.value_counts(normalize=True)}\")"
   ]
  },
  {
   "cell_type": "markdown",
   "id": "d0cecd51",
   "metadata": {},
   "source": [
    "`I can't tell` makes up less than 2% of our dataset, and doesn't offer much more information in the way of word significance than the tweets labeled `No emotion toward brand or product`. We will drop records where `emotion` has been recorded as `I can't tell`."
   ]
  },
  {
   "cell_type": "code",
   "execution_count": 17,
   "id": "6d58af14",
   "metadata": {
    "ExecuteTime": {
     "end_time": "2022-05-10T20:43:34.622852Z",
     "start_time": "2022-05-10T20:43:34.607850Z"
    },
    "scrolled": false
   },
   "outputs": [
    {
     "data": {
      "text/plain": [
       "(8569, 3)"
      ]
     },
     "execution_count": 17,
     "metadata": {},
     "output_type": "execute_result"
    }
   ],
   "source": [
    "data_df.drop(\n",
    "    index = data_df[data_df.emotion == \"I can't tell\"].index,\n",
    "    inplace = True)\n",
    "\n",
    "data_df.shape"
   ]
  },
  {
   "cell_type": "markdown",
   "id": "e1a3ff32",
   "metadata": {
    "ExecuteTime": {
     "end_time": "2022-05-09T02:36:50.450837Z",
     "start_time": "2022-05-09T02:36:50.432834Z"
    }
   },
   "source": [
    "Lets look at some of the most common words"
   ]
  },
  {
   "cell_type": "code",
   "execution_count": 18,
   "id": "afd4ebcb",
   "metadata": {
    "ExecuteTime": {
     "end_time": "2022-05-10T20:43:34.638856Z",
     "start_time": "2022-05-10T20:43:34.623853Z"
    }
   },
   "outputs": [],
   "source": [
    "# word_freq = FreqDist()\n",
    "# for tweet in data_df['tweet_text'].map(lambda x:doc_preparer(x,stem=False)):\n",
    "#     for word in tweet.split():\n",
    "#         word_freq[word] +=1\n",
    "# word_freq.most_common(n=50)"
   ]
  },
  {
   "cell_type": "markdown",
   "id": "91c6e783",
   "metadata": {},
   "source": [
    "Adding venue specific words and twitter specific words to stopwords"
   ]
  },
  {
   "cell_type": "code",
   "execution_count": 19,
   "id": "009fca3d",
   "metadata": {
    "ExecuteTime": {
     "end_time": "2022-05-10T20:43:34.654860Z",
     "start_time": "2022-05-10T20:43:34.639856Z"
    }
   },
   "outputs": [],
   "source": [
    "# #Maybe don't add mention? and link?\n",
    "# sw.extend(['sxsw','rt','quot','austin','sxswi',\n",
    "#            'mention','link',\n",
    "#            'today','w'\n",
    "#           ])"
   ]
  },
  {
   "cell_type": "code",
   "execution_count": 20,
   "id": "0e21d36a",
   "metadata": {
    "ExecuteTime": {
     "end_time": "2022-05-10T20:43:34.670233Z",
     "start_time": "2022-05-10T20:43:34.655860Z"
    }
   },
   "outputs": [],
   "source": [
    "# word_freq = FreqDist()\n",
    "# for tweet in data_df['tweet_text'].map(lambda x:doc_preparer(x,stem=True)):\n",
    "#     for word in tweet.split():\n",
    "#         word_freq[word] +=1\n",
    "# word_freq.most_common(n=50)"
   ]
  },
  {
   "cell_type": "markdown",
   "id": "81a0a887",
   "metadata": {},
   "source": [
    "### Improving our stop word list"
   ]
  },
  {
   "cell_type": "markdown",
   "id": "ae9eba7d",
   "metadata": {},
   "source": [
    "When working with webscraping and social data mining applications, or NLP problems in general, one of the problems that crops up is there is a large number of words that are commonly used. These words (such as 'a', 'are' etc) will uniquely identify with our `emotion` column since they are so widely used. \n",
    "We will be implementing nltk's stopwords module to remove such commonly used english words, however, we can improve upon this list of stopwords.\n",
    "\n",
    "To do so lets have a quick look at the most frequently used words across all tweets."
   ]
  },
  {
   "cell_type": "code",
   "execution_count": 21,
   "id": "160e3aee",
   "metadata": {
    "ExecuteTime": {
     "end_time": "2022-05-10T20:43:34.939294Z",
     "start_time": "2022-05-10T20:43:34.671234Z"
    },
    "scrolled": false
   },
   "outputs": [
    {
     "data": {
      "text/plain": [
       "[('sxsw', 9096),\n",
       " ('link', 4077),\n",
       " ('rt', 2925),\n",
       " ('ipad', 2836),\n",
       " ('google', 2329),\n",
       " ('apple', 2093),\n",
       " ('quot', 1582),\n",
       " ('iphone', 1492),\n",
       " ('store', 1397),\n",
       " ('new', 1057)]"
      ]
     },
     "execution_count": 21,
     "metadata": {},
     "output_type": "execute_result"
    }
   ],
   "source": [
    "# Lower case all text, remove punctuations, ignore stop words, get word frequency\n",
    "getTopWordFreq(data_df,'text',n=10)"
   ]
  },
  {
   "cell_type": "code",
   "execution_count": 22,
   "id": "07c429a9",
   "metadata": {
    "ExecuteTime": {
     "end_time": "2022-05-10T20:43:35.287372Z",
     "start_time": "2022-05-10T20:43:34.940294Z"
    }
   },
   "outputs": [
    {
     "data": {
      "text/plain": [
       "<BarContainer object of 10 artists>"
      ]
     },
     "execution_count": 22,
     "metadata": {},
     "output_type": "execute_result"
    },
    {
     "data": {
      "image/png": "[encoded data removed]",
      "text/plain": [
       "<Figure size 720x576 with 1 Axes>"
      ]
     },
     "metadata": {
      "needs_background": "light"
     },
     "output_type": "display_data"
    }
   ],
   "source": [
    "# Plot most frequent words\n",
    "fig,ax = plt.subplots(figsize = (10,8))\n",
    "num_of_bars = 10\n",
    "viz_data = getTopWordFreq(data_df,'text',n=num_of_bars)\n",
    "\n",
    "ax.bar(x = [word for word,freq in viz_data], \n",
    "      height = [freq for word,freq in viz_data])"
   ]
  },
  {
   "cell_type": "markdown",
   "id": "f138d452",
   "metadata": {},
   "source": [
    "Just by looking at this, we can see there is a high occurence of \n",
    "- venue specific words such  as `sxsw`\n",
    "- twitter specific words such as `rt`\n",
    "- brand or product specific words such as `iphone`\n",
    "\n",
    "These words probably occur across our various sentiments and may not necessarily add any meaning, unless a majority of their occurence is associated with a particular `emotion`"
   ]
  },
  {
   "cell_type": "markdown",
   "id": "f46c53bd",
   "metadata": {},
   "source": [
    "Instead of dropping words that just occur at a high frequency across the entire corpus, we will drop words that occur at a high frequency across our positive and negative emotional quotient."
   ]
  },
  {
   "cell_type": "markdown",
   "id": "8fac7078",
   "metadata": {},
   "source": [
    "This should ensure we don't accidentally remove a word from the corpus that is overall heavily represented but is mostly represented in any 1 `emotion`"
   ]
  },
  {
   "cell_type": "code",
   "execution_count": 23,
   "id": "d47dbc5c",
   "metadata": {
    "ExecuteTime": {
     "end_time": "2022-05-10T20:43:35.303209Z",
     "start_time": "2022-05-10T20:43:35.288373Z"
    }
   },
   "outputs": [],
   "source": [
    "neg_df = data_df[data_df['emotion']=='Negative emotion']\n",
    "pos_df = data_df[data_df['emotion']=='Positive emotion']"
   ]
  },
  {
   "cell_type": "markdown",
   "id": "3a1d691c",
   "metadata": {},
   "source": [
    "Sanity Check"
   ]
  },
  {
   "cell_type": "code",
   "execution_count": 24,
   "id": "de6240cc",
   "metadata": {
    "ExecuteTime": {
     "end_time": "2022-05-10T20:43:35.319213Z",
     "start_time": "2022-05-10T20:43:35.304209Z"
    }
   },
   "outputs": [
    {
     "data": {
      "text/html": [
       "<div>\n",
       "<style scoped>\n",
       "    .dataframe tbody tr th:only-of-type {\n",
       "        vertical-align: middle;\n",
       "    }\n",
       "\n",
       "    .dataframe tbody tr th {\n",
       "        vertical-align: top;\n",
       "    }\n",
       "\n",
       "    .dataframe thead th {\n",
       "        text-align: right;\n",
       "    }\n",
       "</style>\n",
       "<table border=\"1\" class=\"dataframe\">\n",
       "  <thead>\n",
       "    <tr style=\"text-align: right;\">\n",
       "      <th></th>\n",
       "      <th>text</th>\n",
       "      <th>product_name</th>\n",
       "      <th>emotion</th>\n",
       "    </tr>\n",
       "  </thead>\n",
       "  <tbody>\n",
       "    <tr>\n",
       "      <th>0</th>\n",
       "      <td>.@wesley83 I have a 3G iPhone. After 3 hrs tweeting at #RISE_Austin, it was dead!  I need to upgrade. Plugin stations at #SXSW.</td>\n",
       "      <td>iPhone</td>\n",
       "      <td>Negative emotion</td>\n",
       "    </tr>\n",
       "    <tr>\n",
       "      <th>3</th>\n",
       "      <td>@sxsw I hope this year's festival isn't as crashy as this year's iPhone app. #sxsw</td>\n",
       "      <td>iPad or iPhone App</td>\n",
       "      <td>Negative emotion</td>\n",
       "    </tr>\n",
       "    <tr>\n",
       "      <th>17</th>\n",
       "      <td>I just noticed DST is coming this weekend. How many iPhone users will be an hour late at SXSW come Sunday morning? #SXSW #iPhone</td>\n",
       "      <td>iPhone</td>\n",
       "      <td>Negative emotion</td>\n",
       "    </tr>\n",
       "  </tbody>\n",
       "</table>\n",
       "</div>"
      ],
      "text/plain": [
       "                                                                                                                                text  \\\n",
       "0    .@wesley83 I have a 3G iPhone. After 3 hrs tweeting at #RISE_Austin, it was dead!  I need to upgrade. Plugin stations at #SXSW.   \n",
       "3                                                 @sxsw I hope this year's festival isn't as crashy as this year's iPhone app. #sxsw   \n",
       "17  I just noticed DST is coming this weekend. How many iPhone users will be an hour late at SXSW come Sunday morning? #SXSW #iPhone   \n",
       "\n",
       "          product_name           emotion  \n",
       "0               iPhone  Negative emotion  \n",
       "3   iPad or iPhone App  Negative emotion  \n",
       "17              iPhone  Negative emotion  "
      ]
     },
     "execution_count": 24,
     "metadata": {},
     "output_type": "execute_result"
    }
   ],
   "source": [
    "neg_df.head(3)"
   ]
  },
  {
   "cell_type": "code",
   "execution_count": 25,
   "id": "e3f2b091",
   "metadata": {
    "ExecuteTime": {
     "end_time": "2022-05-10T20:43:35.335216Z",
     "start_time": "2022-05-10T20:43:35.320213Z"
    },
    "scrolled": false
   },
   "outputs": [
    {
     "data": {
      "text/html": [
       "<div>\n",
       "<style scoped>\n",
       "    .dataframe tbody tr th:only-of-type {\n",
       "        vertical-align: middle;\n",
       "    }\n",
       "\n",
       "    .dataframe tbody tr th {\n",
       "        vertical-align: top;\n",
       "    }\n",
       "\n",
       "    .dataframe thead th {\n",
       "        text-align: right;\n",
       "    }\n",
       "</style>\n",
       "<table border=\"1\" class=\"dataframe\">\n",
       "  <thead>\n",
       "    <tr style=\"text-align: right;\">\n",
       "      <th></th>\n",
       "      <th>text</th>\n",
       "      <th>product_name</th>\n",
       "      <th>emotion</th>\n",
       "    </tr>\n",
       "  </thead>\n",
       "  <tbody>\n",
       "    <tr>\n",
       "      <th>1</th>\n",
       "      <td>@jessedee Know about @fludapp ? Awesome iPad/iPhone app that you'll likely appreciate for its design. Also, they're giving free Ts at #SXSW</td>\n",
       "      <td>iPad or iPhone App</td>\n",
       "      <td>Positive emotion</td>\n",
       "    </tr>\n",
       "    <tr>\n",
       "      <th>2</th>\n",
       "      <td>@swonderlin Can not wait for #iPad 2 also. They should sale them down at #SXSW.</td>\n",
       "      <td>iPad</td>\n",
       "      <td>Positive emotion</td>\n",
       "    </tr>\n",
       "    <tr>\n",
       "      <th>4</th>\n",
       "      <td>@sxtxstate great stuff on Fri #SXSW: Marissa Mayer (Google), Tim O'Reilly (tech books/conferences) &amp;amp; Matt Mullenweg (Wordpress)</td>\n",
       "      <td>Google</td>\n",
       "      <td>Positive emotion</td>\n",
       "    </tr>\n",
       "  </tbody>\n",
       "</table>\n",
       "</div>"
      ],
      "text/plain": [
       "                                                                                                                                          text  \\\n",
       "1  @jessedee Know about @fludapp ? Awesome iPad/iPhone app that you'll likely appreciate for its design. Also, they're giving free Ts at #SXSW   \n",
       "2                                                              @swonderlin Can not wait for #iPad 2 also. They should sale them down at #SXSW.   \n",
       "4          @sxtxstate great stuff on Fri #SXSW: Marissa Mayer (Google), Tim O'Reilly (tech books/conferences) &amp; Matt Mullenweg (Wordpress)   \n",
       "\n",
       "         product_name           emotion  \n",
       "1  iPad or iPhone App  Positive emotion  \n",
       "2                iPad  Positive emotion  \n",
       "4              Google  Positive emotion  "
      ]
     },
     "execution_count": 25,
     "metadata": {},
     "output_type": "execute_result"
    }
   ],
   "source": [
    "pos_df.head(3)"
   ]
  },
  {
   "cell_type": "code",
   "execution_count": 26,
   "id": "c6fc443a",
   "metadata": {
    "ExecuteTime": {
     "end_time": "2022-05-10T20:43:35.717303Z",
     "start_time": "2022-05-10T20:43:35.336216Z"
    }
   },
   "outputs": [
    {
     "name": "stdout",
     "output_type": "stream",
     "text": [
      "As an example. Here are the top 5 words:\n",
      "Entire DataFrame: ['sxsw', 'link', 'rt']\n",
      "Positive Emotion: ['sxsw', 'ipad', 'link']\n",
      "negative Emotion: ['sxsw', 'ipad', 'quot']\n"
     ]
    }
   ],
   "source": [
    "print('As an example. Here are the top 5 words:')\n",
    "print(f\"Entire DataFrame: {[word for word,freq in getTopWordFreq(data_df,'text',3)]}\")\n",
    "print(f\"Positive Emotion: {[word for word,freq in getTopWordFreq(pos_df,'text',3)]}\")\n",
    "print(f\"negative Emotion: {[word for word,freq in getTopWordFreq(neg_df,'text',3)]}\")"
   ]
  },
  {
   "cell_type": "markdown",
   "id": "f5b80698",
   "metadata": {},
   "source": [
    "As you can tell, there is going to be a lot of crossover with certain terms (`sxsw`, `ipad` in our example above) which we should remove however, we'd want to retain words that are potentially more identifiable with a certain `emotion`. This is just the top 3 words, and we shall be using a larger set."
   ]
  },
  {
   "cell_type": "code",
   "execution_count": 27,
   "id": "fdec695f",
   "metadata": {
    "ExecuteTime": {
     "end_time": "2022-05-10T20:43:35.843984Z",
     "start_time": "2022-05-10T20:43:35.718303Z"
    },
    "scrolled": false
   },
   "outputs": [
    {
     "name": "stdout",
     "output_type": "stream",
     "text": [
      "31\n"
     ]
    },
    {
     "data": {
      "text/plain": [
       "['circles',\n",
       " 'austin',\n",
       " 'launch',\n",
       " 'today',\n",
       " 'line',\n",
       " 'google',\n",
       " 'sxsw',\n",
       " 'pop',\n",
       " 'app',\n",
       " 'quot',\n",
       " 'social',\n",
       " 'new',\n",
       " 'see',\n",
       " 'link',\n",
       " 'amp',\n",
       " 'good',\n",
       " 'rt',\n",
       " 'time',\n",
       " 'store',\n",
       " 'network',\n",
       " 'people',\n",
       " 'get',\n",
       " 'apps',\n",
       " 'iphone',\n",
       " \"i'm\",\n",
       " 'android',\n",
       " 'ipad',\n",
       " 'day',\n",
       " 'apple',\n",
       " 'like',\n",
       " 'one']"
      ]
     },
     "execution_count": 27,
     "metadata": {},
     "output_type": "execute_result"
    }
   ],
   "source": [
    "num_mostCommon_Words = 50\n",
    "common_neg_words = [word for word,freq in getTopWordFreq(neg_df, 'text',num_mostCommon_Words)]\n",
    "common_pos_words = [word for word,freq in getTopWordFreq(pos_df, 'text',num_mostCommon_Words)]\n",
    "new_sw_words = list(set(common_neg_words).intersection(set(common_pos_words)))\n",
    "print(len(new_sw_words))\n",
    "new_sw_words"
   ]
  },
  {
   "cell_type": "markdown",
   "id": "64ede383",
   "metadata": {},
   "source": [
    "We shall be appending this to our stopword list. As part of our `doc_preparer()` we shall be removing these words in the future"
   ]
  },
  {
   "cell_type": "code",
   "execution_count": 28,
   "id": "0fd40fce",
   "metadata": {
    "ExecuteTime": {
     "end_time": "2022-05-10T20:43:35.858990Z",
     "start_time": "2022-05-10T20:43:35.844986Z"
    }
   },
   "outputs": [],
   "source": [
    "sw.extend(new_sw_words)"
   ]
  },
  {
   "cell_type": "markdown",
   "id": "1b7a78a9",
   "metadata": {},
   "source": [
    "Lets have a look at the word distribution again"
   ]
  },
  {
   "cell_type": "code",
   "execution_count": 29,
   "id": "0956181b",
   "metadata": {
    "ExecuteTime": {
     "end_time": "2022-05-10T20:43:36.204082Z",
     "start_time": "2022-05-10T20:43:35.859989Z"
    }
   },
   "outputs": [
    {
     "data": {
      "text/plain": [
       "<BarContainer object of 10 artists>"
      ]
     },
     "execution_count": 29,
     "metadata": {},
     "output_type": "execute_result"
    },
    {
     "data": {
      "image/png": "[encoded data removed]",
      "text/plain": [
       "<Figure size 720x576 with 1 Axes>"
      ]
     },
     "metadata": {
      "needs_background": "light"
     },
     "output_type": "display_data"
    }
   ],
   "source": [
    "# Plot most frequent words\n",
    "fig,ax = plt.subplots(figsize = (10,8))\n",
    "num_of_bars = 10\n",
    "viz_data = getTopWordFreq(data_df,'text',n=num_of_bars)\n",
    "\n",
    "ax.bar(x = [word for word,freq in viz_data], \n",
    "      height = [freq for word,freq in viz_data])"
   ]
  },
  {
   "cell_type": "markdown",
   "id": "52fd0127",
   "metadata": {},
   "source": [
    "Already one can tell the skew of the graph is reduced."
   ]
  },
  {
   "cell_type": "markdown",
   "id": "f3579a78",
   "metadata": {},
   "source": [
    "### Stemming"
   ]
  },
  {
   "cell_type": "markdown",
   "id": "38865e04",
   "metadata": {},
   "source": [
    "We shall be creating a column of a cleaned text string built off of the original tweet"
   ]
  },
  {
   "cell_type": "code",
   "execution_count": 30,
   "id": "9e4fd93a",
   "metadata": {
    "ExecuteTime": {
     "end_time": "2022-05-10T20:43:37.180731Z",
     "start_time": "2022-05-10T20:43:36.205085Z"
    }
   },
   "outputs": [],
   "source": [
    "data_df['stemmed_text'] = data_df['text'].map(lambda x:doc_preparer(x,stem=True))"
   ]
  },
  {
   "cell_type": "code",
   "execution_count": 33,
   "id": "bfb76f15",
   "metadata": {
    "ExecuteTime": {
     "end_time": "2022-05-10T20:44:40.932783Z",
     "start_time": "2022-05-10T20:44:40.925781Z"
    }
   },
   "outputs": [
    {
     "data": {
      "text/html": [
       "<div>\n",
       "<style scoped>\n",
       "    .dataframe tbody tr th:only-of-type {\n",
       "        vertical-align: middle;\n",
       "    }\n",
       "\n",
       "    .dataframe tbody tr th {\n",
       "        vertical-align: top;\n",
       "    }\n",
       "\n",
       "    .dataframe thead th {\n",
       "        text-align: right;\n",
       "    }\n",
       "</style>\n",
       "<table border=\"1\" class=\"dataframe\">\n",
       "  <thead>\n",
       "    <tr style=\"text-align: right;\">\n",
       "      <th></th>\n",
       "      <th>text</th>\n",
       "      <th>stemmed_text</th>\n",
       "    </tr>\n",
       "  </thead>\n",
       "  <tbody>\n",
       "    <tr>\n",
       "      <th>0</th>\n",
       "      <td>.@wesley83 I have a 3G iPhone. After 3 hrs tweeting at #RISE_Austin, it was dead!  I need to upgrade. Plugin stations at #SXSW.</td>\n",
       "      <td>hr tweet rise dead need upgrad plugin station</td>\n",
       "    </tr>\n",
       "    <tr>\n",
       "      <th>1</th>\n",
       "      <td>@jessedee Know about @fludapp ? Awesome iPad/iPhone app that you'll likely appreciate for its design. Also, they're giving free Ts at #SXSW</td>\n",
       "      <td>know awesom like appreci design also they'r give free ts</td>\n",
       "    </tr>\n",
       "    <tr>\n",
       "      <th>2</th>\n",
       "      <td>@swonderlin Can not wait for #iPad 2 also. They should sale them down at #SXSW.</td>\n",
       "      <td>wait also sale</td>\n",
       "    </tr>\n",
       "    <tr>\n",
       "      <th>3</th>\n",
       "      <td>@sxsw I hope this year's festival isn't as crashy as this year's iPhone app. #sxsw</td>\n",
       "      <td>hope year' festiv crashi year'</td>\n",
       "    </tr>\n",
       "    <tr>\n",
       "      <th>4</th>\n",
       "      <td>@sxtxstate great stuff on Fri #SXSW: Marissa Mayer (Google), Tim O'Reilly (tech books/conferences) &amp;amp; Matt Mullenweg (Wordpress)</td>\n",
       "      <td>great stuff fri marissa mayer tim reilli tech book confer matt mullenweg wordpress</td>\n",
       "    </tr>\n",
       "  </tbody>\n",
       "</table>\n",
       "</div>"
      ],
      "text/plain": [
       "                                                                                                                                          text  \\\n",
       "0              .@wesley83 I have a 3G iPhone. After 3 hrs tweeting at #RISE_Austin, it was dead!  I need to upgrade. Plugin stations at #SXSW.   \n",
       "1  @jessedee Know about @fludapp ? Awesome iPad/iPhone app that you'll likely appreciate for its design. Also, they're giving free Ts at #SXSW   \n",
       "2                                                              @swonderlin Can not wait for #iPad 2 also. They should sale them down at #SXSW.   \n",
       "3                                                           @sxsw I hope this year's festival isn't as crashy as this year's iPhone app. #sxsw   \n",
       "4          @sxtxstate great stuff on Fri #SXSW: Marissa Mayer (Google), Tim O'Reilly (tech books/conferences) &amp; Matt Mullenweg (Wordpress)   \n",
       "\n",
       "                                                                         stemmed_text  \n",
       "0                                       hr tweet rise dead need upgrad plugin station  \n",
       "1                            know awesom like appreci design also they'r give free ts  \n",
       "2                                                                      wait also sale  \n",
       "3                                                      hope year' festiv crashi year'  \n",
       "4  great stuff fri marissa mayer tim reilli tech book confer matt mullenweg wordpress  "
      ]
     },
     "execution_count": 33,
     "metadata": {},
     "output_type": "execute_result"
    }
   ],
   "source": [
    "data_df[['text','stemmed_text']].head(5)"
   ]
  },
  {
   "cell_type": "markdown",
   "id": "7c3baaef",
   "metadata": {},
   "source": [
    "### Label Encoding the sentinment column"
   ]
  },
  {
   "cell_type": "markdown",
   "id": "cc207e90",
   "metadata": {},
   "source": [
    "To help with our classification models, we shall use a label encoder to encode the target `emotion` into a more computer friendly numerical column"
   ]
  },
  {
   "cell_type": "code",
   "execution_count": 36,
   "id": "b1c279ce",
   "metadata": {
    "ExecuteTime": {
     "end_time": "2022-05-10T20:46:19.367630Z",
     "start_time": "2022-05-10T20:46:19.350627Z"
    }
   },
   "outputs": [
    {
     "data": {
      "text/plain": [
       "array(['Negative emotion', 'No emotion toward brand or product',\n",
       "       'Positive emotion'], dtype=object)"
      ]
     },
     "execution_count": 36,
     "metadata": {},
     "output_type": "execute_result"
    }
   ],
   "source": [
    "le = LabelEncoder()\n",
    "data_df['sentiment_target'] = le.fit_transform(data_df.emotion)\n",
    "le.classes_"
   ]
  },
  {
   "cell_type": "code",
   "execution_count": 39,
   "id": "6903ec0b",
   "metadata": {
    "ExecuteTime": {
     "end_time": "2022-05-10T20:47:05.872001Z",
     "start_time": "2022-05-10T20:47:05.853997Z"
    },
    "scrolled": true
   },
   "outputs": [
    {
     "data": {
      "text/html": [
       "<div>\n",
       "<style scoped>\n",
       "    .dataframe tbody tr th:only-of-type {\n",
       "        vertical-align: middle;\n",
       "    }\n",
       "\n",
       "    .dataframe tbody tr th {\n",
       "        vertical-align: top;\n",
       "    }\n",
       "\n",
       "    .dataframe thead th {\n",
       "        text-align: right;\n",
       "    }\n",
       "</style>\n",
       "<table border=\"1\" class=\"dataframe\">\n",
       "  <thead>\n",
       "    <tr style=\"text-align: right;\">\n",
       "      <th></th>\n",
       "      <th>emotion</th>\n",
       "      <th>sentiment_target</th>\n",
       "    </tr>\n",
       "  </thead>\n",
       "  <tbody>\n",
       "    <tr>\n",
       "      <th>0</th>\n",
       "      <td>Negative emotion</td>\n",
       "      <td>0</td>\n",
       "    </tr>\n",
       "    <tr>\n",
       "      <th>1</th>\n",
       "      <td>Positive emotion</td>\n",
       "      <td>2</td>\n",
       "    </tr>\n",
       "    <tr>\n",
       "      <th>2</th>\n",
       "      <td>Positive emotion</td>\n",
       "      <td>2</td>\n",
       "    </tr>\n",
       "    <tr>\n",
       "      <th>3</th>\n",
       "      <td>Negative emotion</td>\n",
       "      <td>0</td>\n",
       "    </tr>\n",
       "    <tr>\n",
       "      <th>4</th>\n",
       "      <td>Positive emotion</td>\n",
       "      <td>2</td>\n",
       "    </tr>\n",
       "    <tr>\n",
       "      <th>5</th>\n",
       "      <td>No emotion toward brand or product</td>\n",
       "      <td>1</td>\n",
       "    </tr>\n",
       "    <tr>\n",
       "      <th>7</th>\n",
       "      <td>Positive emotion</td>\n",
       "      <td>2</td>\n",
       "    </tr>\n",
       "    <tr>\n",
       "      <th>8</th>\n",
       "      <td>Positive emotion</td>\n",
       "      <td>2</td>\n",
       "    </tr>\n",
       "    <tr>\n",
       "      <th>9</th>\n",
       "      <td>Positive emotion</td>\n",
       "      <td>2</td>\n",
       "    </tr>\n",
       "    <tr>\n",
       "      <th>10</th>\n",
       "      <td>Positive emotion</td>\n",
       "      <td>2</td>\n",
       "    </tr>\n",
       "  </tbody>\n",
       "</table>\n",
       "</div>"
      ],
      "text/plain": [
       "                               emotion  sentiment_target\n",
       "0                     Negative emotion                 0\n",
       "1                     Positive emotion                 2\n",
       "2                     Positive emotion                 2\n",
       "3                     Negative emotion                 0\n",
       "4                     Positive emotion                 2\n",
       "5   No emotion toward brand or product                 1\n",
       "7                     Positive emotion                 2\n",
       "8                     Positive emotion                 2\n",
       "9                     Positive emotion                 2\n",
       "10                    Positive emotion                 2"
      ]
     },
     "execution_count": 39,
     "metadata": {},
     "output_type": "execute_result"
    }
   ],
   "source": [
    "data_df[['emotion', 'sentiment_target']].head(10)"
   ]
  },
  {
   "cell_type": "markdown",
   "id": "6adb46d4",
   "metadata": {},
   "source": [
    "# Train-Test-Split"
   ]
  },
  {
   "cell_type": "code",
   "execution_count": 43,
   "id": "fe31240d",
   "metadata": {
    "ExecuteTime": {
     "end_time": "2022-05-10T20:49:06.527196Z",
     "start_time": "2022-05-10T20:49:06.510193Z"
    }
   },
   "outputs": [],
   "source": [
    "X = data_df['stemmed_text']\n",
    "y = data_df['sentiment_target']\n",
    "\n",
    "X_train, X_test, y_train, y_test = train_test_split(X,y,test_size = 0.3)"
   ]
  },
  {
   "cell_type": "markdown",
   "id": "b41b38e4",
   "metadata": {},
   "source": [
    "# Modeling"
   ]
  },
  {
   "cell_type": "markdown",
   "id": "96025cae",
   "metadata": {},
   "source": [
    "## CountVec with MNB"
   ]
  },
  {
   "cell_type": "code",
   "execution_count": 77,
   "id": "b4464e54",
   "metadata": {
    "ExecuteTime": {
     "end_time": "2022-05-10T21:12:56.652367Z",
     "start_time": "2022-05-10T21:12:56.567348Z"
    }
   },
   "outputs": [
    {
     "name": "stdout",
     "output_type": "stream",
     "text": [
      "CV Results\n",
      "================================\n",
      "Accuracy\n",
      "--------------------------------\n",
      "Training accuracy: 0.831\n",
      "Test accuracy:     0.661\n",
      "F-1 Score\n",
      "--------------------------------\n",
      "Training F1 score: 0.770\n",
      "Test F1 score:     0.512\n"
     ]
    },
    {
     "name": "stderr",
     "output_type": "stream",
     "text": [
      "[Parallel(n_jobs=-2)]: Using backend LokyBackend with 15 concurrent workers.\n",
      "[Parallel(n_jobs=-2)]: Done   5 out of   5 | elapsed:    0.0s finished\n"
     ]
    }
   ],
   "source": [
    "#Pipeline\n",
    "cvec_mnb_model_pipe = Pipeline([\n",
    "    ('cvec',CountVectorizer()),\n",
    "   ('mnb',MultinomialNB()\n",
    "   )\n",
    "])\n",
    "\n",
    "#5 fold Cross Validation\n",
    "cvec_mnb_cvResults = cross_validate(cvec_mnb_model_pipe,\n",
    "                                      X_train,\n",
    "                                      y_train,\n",
    "                                      scoring=('accuracy', 'f1_macro'),\n",
    "                                      cv=5,\n",
    "                                      verbose=1,\n",
    "                                      n_jobs = NB_n_jobs,\n",
    "                                      return_train_score=True)\n",
    "cv_printScores(cvec_mnb_cvResults)"
   ]
  },
  {
   "cell_type": "markdown",
   "id": "11d85bb4",
   "metadata": {},
   "source": [
    "We can already see some significant overfitting. This might be due to such a small and imbalanced dataset."
   ]
  },
  {
   "cell_type": "markdown",
   "id": "e9053e23",
   "metadata": {},
   "source": [
    "## TiffyDiffy with MNB"
   ]
  },
  {
   "cell_type": "code",
   "execution_count": 78,
   "id": "480ea48e",
   "metadata": {
    "ExecuteTime": {
     "end_time": "2022-05-10T21:12:58.080610Z",
     "start_time": "2022-05-10T21:12:57.991591Z"
    }
   },
   "outputs": [
    {
     "name": "stdout",
     "output_type": "stream",
     "text": [
      "CV Results\n",
      "================================\n",
      "Accuracy\n",
      "--------------------------------\n",
      "Training accuracy: 0.762\n",
      "Test accuracy:     0.658\n",
      "F-1 Score\n",
      "--------------------------------\n",
      "Training F1 score: 0.523\n",
      "Test F1 score:     0.400\n"
     ]
    },
    {
     "name": "stderr",
     "output_type": "stream",
     "text": [
      "[Parallel(n_jobs=-2)]: Using backend LokyBackend with 15 concurrent workers.\n",
      "[Parallel(n_jobs=-2)]: Done   5 out of   5 | elapsed:    0.0s finished\n"
     ]
    }
   ],
   "source": [
    "#Pipeline\n",
    "tvec_mnb_model_pipe = Pipeline([\n",
    "    ('tvec',TfidfVectorizer()),\n",
    "   ('mnb',MultinomialNB()\n",
    "   )\n",
    "])\n",
    "\n",
    "#5 fold Cross Validation\n",
    "tvec_mnb_cvResults = cross_validate(tvec_mnb_model_pipe,\n",
    "                                      X_train,\n",
    "                                      y_train,\n",
    "                                      scoring=('accuracy', 'f1_macro'),\n",
    "                                      cv=5,\n",
    "                                      verbose=1,\n",
    "                                      n_jobs = NB_n_jobs,\n",
    "                                      return_train_score=True)\n",
    "cv_printScores(tvec_mnb_cvResults)"
   ]
  },
  {
   "cell_type": "markdown",
   "id": "5630edbe",
   "metadata": {},
   "source": [
    "Using a TF-IDF vectorizer improves accuracy but at a major cost to the F1-score"
   ]
  },
  {
   "cell_type": "markdown",
   "id": "18944db7",
   "metadata": {
    "ExecuteTime": {
     "end_time": "2022-05-10T15:48:34.339194Z",
     "start_time": "2022-05-10T15:48:34.330192Z"
    }
   },
   "source": [
    "## CountVec with RF"
   ]
  },
  {
   "cell_type": "code",
   "execution_count": 79,
   "id": "704eaa67",
   "metadata": {
    "ExecuteTime": {
     "end_time": "2022-05-10T21:13:05.240275Z",
     "start_time": "2022-05-10T21:13:01.383210Z"
    }
   },
   "outputs": [
    {
     "name": "stderr",
     "output_type": "stream",
     "text": [
      "[Parallel(n_jobs=-2)]: Using backend LokyBackend with 15 concurrent workers.\n"
     ]
    },
    {
     "name": "stdout",
     "output_type": "stream",
     "text": [
      "CV Results\n",
      "================================\n",
      "Accuracy\n",
      "--------------------------------\n",
      "Training accuracy: 0.968\n",
      "Test accuracy:     0.676\n",
      "F-1 Score\n",
      "--------------------------------\n",
      "Training F1 score: 0.967\n",
      "Test F1 score:     0.554\n"
     ]
    },
    {
     "name": "stderr",
     "output_type": "stream",
     "text": [
      "[Parallel(n_jobs=-2)]: Done   5 out of   5 | elapsed:    3.7s finished\n"
     ]
    }
   ],
   "source": [
    "#Pipeline\n",
    "cvec_rfc_model_pipe = Pipeline([\n",
    "    ('cvec',CountVectorizer()),\n",
    "   ('rfc',RandomForestClassifier(random_state=42)\n",
    "   )\n",
    "])\n",
    "\n",
    "#5 fold Cross Validation\n",
    "cvec_rfc_cvResults = cross_validate(cvec_rfc_model_pipe,\n",
    "                                      X_train,\n",
    "                                      y_train,\n",
    "                                      scoring=('accuracy', 'f1_macro'),\n",
    "                                      cv=5,\n",
    "                                      verbose=1,\n",
    "                                      n_jobs = NB_n_jobs,\n",
    "                                      return_train_score=True)\n",
    "cv_printScores(cvec_rfc_cvResults)"
   ]
  },
  {
   "cell_type": "markdown",
   "id": "77883686",
   "metadata": {},
   "source": [
    "This is model is severely overfitting but it performs marginally better than the `MultinomialNB()` model"
   ]
  },
  {
   "cell_type": "markdown",
   "id": "1c219744",
   "metadata": {},
   "source": [
    "## TiffyDiffy with RandomForest"
   ]
  },
  {
   "cell_type": "code",
   "execution_count": 80,
   "id": "0f633ac9",
   "metadata": {
    "ExecuteTime": {
     "end_time": "2022-05-10T21:14:54.096264Z",
     "start_time": "2022-05-10T21:14:50.272394Z"
    }
   },
   "outputs": [
    {
     "name": "stderr",
     "output_type": "stream",
     "text": [
      "[Parallel(n_jobs=-2)]: Using backend LokyBackend with 15 concurrent workers.\n"
     ]
    },
    {
     "name": "stdout",
     "output_type": "stream",
     "text": [
      "CV Results\n",
      "================================\n",
      "Accuracy\n",
      "--------------------------------\n",
      "Training accuracy: 0.968\n",
      "Test accuracy:     0.677\n",
      "F-1 Score\n",
      "--------------------------------\n",
      "Training F1 score: 0.967\n",
      "Test F1 score:     0.543\n"
     ]
    },
    {
     "name": "stderr",
     "output_type": "stream",
     "text": [
      "[Parallel(n_jobs=-2)]: Done   5 out of   5 | elapsed:    3.7s finished\n"
     ]
    }
   ],
   "source": [
    "#Pipeline\n",
    "tvec_rfc_model_pipe = Pipeline([\n",
    "    ('tvec',TfidfVectorizer()),\n",
    "   ('rfc',RandomForestClassifier(random_state=42)\n",
    "   )\n",
    "])\n",
    "\n",
    "#5 fold Cross Validation\n",
    "tvec_rfc_cvResults = cross_validate(tvec_rfc_model_pipe,\n",
    "                                      X_train,\n",
    "                                      y_train,\n",
    "                                      scoring=('accuracy', 'f1_macro'),\n",
    "                                      cv=5,\n",
    "                                      verbose=1,\n",
    "                                      n_jobs = NB_n_jobs,\n",
    "                                      return_train_score=True)\n",
    "cv_printScores(tvec_rfc_cvResults)"
   ]
  },
  {
   "cell_type": "code",
   "execution_count": null,
   "id": "c1dca96d",
   "metadata": {
    "ExecuteTime": {
     "end_time": "2022-05-10T17:09:53.356368Z",
     "start_time": "2022-05-10T17:09:53.341361Z"
    }
   },
   "outputs": [],
   "source": [
    "# params = {}\n",
    "# params['rfc__criterion'] = ['gini','entropy']\n",
    "# params['rfc__n_estimators'] = np.arange(50,250,50)\n",
    "# params['rfc__max_depth'] = np.arange(150,200,10)\n",
    "# # params['rfc__max_leaf_nodes']=[4000,4500,5000]\n",
    "\n",
    "# rfc_model_pipe = Pipeline([\n",
    "#     ('vec',TfidfVectorizer()),\n",
    "#    ('rfc',RandomForestClassifier(random_state=42,n_jobs=NB_n_jobs))\n",
    "# ])\n",
    "\n",
    "# rfc_gs1 = GridSearchCV(estimator=rfc_model_pipe,\n",
    "#                            param_grid=params,\n",
    "#                            n_jobs=NB_n_jobs,\n",
    "#                            scoring=[ 'accuracy','precision_macro','recall_macro','f1_macro'],\n",
    "#                            refit='accuracy',\n",
    "#                            return_train_score=True)\n",
    "\n",
    "# rfc_gs1.fit(X_train,y_train)\n",
    "# prettyPrintGridCVResults(rfc_gs1)"
   ]
  },
  {
   "cell_type": "code",
   "execution_count": null,
   "id": "13814e0a",
   "metadata": {
    "ExecuteTime": {
     "end_time": "2022-05-10T17:09:53.812457Z",
     "start_time": "2022-05-10T17:09:53.800482Z"
    }
   },
   "outputs": [],
   "source": [
    "# rfc_gs1.best_estimator_.score(X_test,y_test)"
   ]
  },
  {
   "cell_type": "markdown",
   "id": "4b28be27",
   "metadata": {},
   "source": [
    "## CountVec with GradientBoosting Classifier"
   ]
  },
  {
   "cell_type": "code",
   "execution_count": 81,
   "id": "fc565c31",
   "metadata": {
    "ExecuteTime": {
     "end_time": "2022-05-10T21:16:35.372588Z",
     "start_time": "2022-05-10T21:16:34.024282Z"
    }
   },
   "outputs": [
    {
     "name": "stderr",
     "output_type": "stream",
     "text": [
      "[Parallel(n_jobs=-2)]: Using backend LokyBackend with 15 concurrent workers.\n"
     ]
    },
    {
     "name": "stdout",
     "output_type": "stream",
     "text": [
      "CV Results\n",
      "================================\n",
      "Accuracy\n",
      "--------------------------------\n",
      "Training accuracy: 0.713\n",
      "Test accuracy:     0.667\n",
      "F-1 Score\n",
      "--------------------------------\n",
      "Training F1 score: 0.532\n",
      "Test F1 score:     0.444\n"
     ]
    },
    {
     "name": "stderr",
     "output_type": "stream",
     "text": [
      "[Parallel(n_jobs=-2)]: Done   5 out of   5 | elapsed:    1.2s finished\n"
     ]
    }
   ],
   "source": [
    "#Pipeline\n",
    "cvec_gbc_model_pipe = Pipeline([\n",
    "    ('cvec',CountVectorizer()),\n",
    "   ('gbc',GradientBoostingClassifier(random_state=42)\n",
    "   )\n",
    "])\n",
    "\n",
    "#5 fold Cross Validation\n",
    "cvec_gbc_cvResults = cross_validate(cvec_gbc_model_pipe,\n",
    "                                      X_train,\n",
    "                                      y_train,\n",
    "                                      scoring=('accuracy', 'f1_macro'),\n",
    "                                      cv=5,\n",
    "                                      verbose=1,\n",
    "                                      n_jobs = NB_n_jobs,\n",
    "                                      return_train_score=True)\n",
    "cv_printScores(cvec_gbc_cvResults)"
   ]
  },
  {
   "cell_type": "markdown",
   "id": "aa965e30",
   "metadata": {},
   "source": [
    "## TiffyDiffy with GradientBoosting Classifier"
   ]
  },
  {
   "cell_type": "code",
   "execution_count": 84,
   "id": "e83f5f60",
   "metadata": {
    "ExecuteTime": {
     "end_time": "2022-05-10T21:17:29.858115Z",
     "start_time": "2022-05-10T21:17:27.640608Z"
    }
   },
   "outputs": [
    {
     "name": "stderr",
     "output_type": "stream",
     "text": [
      "[Parallel(n_jobs=-2)]: Using backend LokyBackend with 15 concurrent workers.\n"
     ]
    },
    {
     "name": "stdout",
     "output_type": "stream",
     "text": [
      "CV Results\n",
      "================================\n",
      "Accuracy\n",
      "--------------------------------\n",
      "Training accuracy: 0.722\n",
      "Test accuracy:     0.664\n",
      "F-1 Score\n",
      "--------------------------------\n",
      "Training F1 score: 0.563\n",
      "Test F1 score:     0.449\n"
     ]
    },
    {
     "name": "stderr",
     "output_type": "stream",
     "text": [
      "[Parallel(n_jobs=-2)]: Done   5 out of   5 | elapsed:    2.1s finished\n"
     ]
    }
   ],
   "source": [
    "#Pipeline\n",
    "tvec_gbc_model_pipe = Pipeline([\n",
    "    ('tvec',TfidfVectorizer()),\n",
    "   ('gbc',GradientBoostingClassifier(random_state=42)\n",
    "   )\n",
    "])\n",
    "\n",
    "#5 fold Cross Validation\n",
    "tvec_gbc_cvResults = cross_validate(tvec_gbc_model_pipe,\n",
    "                                      X_train,\n",
    "                                      y_train,\n",
    "                                      scoring=('accuracy', 'f1_macro'),\n",
    "                                      cv=5,\n",
    "                                      verbose=1,\n",
    "                                      n_jobs = NB_n_jobs,\n",
    "                                      return_train_score=True)\n",
    "cv_printScores(tvec_gbc_cvResults)"
   ]
  },
  {
   "cell_type": "code",
   "execution_count": null,
   "id": "6efc0c7a",
   "metadata": {},
   "outputs": [],
   "source": []
  },
  {
   "cell_type": "code",
   "execution_count": null,
   "id": "85ceae97",
   "metadata": {},
   "outputs": [],
   "source": []
  }
 ],
 "metadata": {
  "kernelspec": {
   "display_name": "tfGPU",
   "language": "python",
   "name": "tfgpu"
  },
  "language_info": {
   "codemirror_mode": {
    "name": "ipython",
    "version": 3
   },
   "file_extension": ".py",
   "mimetype": "text/x-python",
   "name": "python",
   "nbconvert_exporter": "python",
   "pygments_lexer": "ipython3",
   "version": "3.9.12"
  },
  "toc": {
   "base_numbering": 1,
   "nav_menu": {},
   "number_sections": true,
   "sideBar": true,
   "skip_h1_title": false,
   "title_cell": "Table of Contents",
   "title_sidebar": "Contents",
   "toc_cell": false,
   "toc_position": {
    "height": "calc(100% - 180px)",
    "left": "10px",
    "top": "150px",
    "width": "296px"
   },
   "toc_section_display": true,
   "toc_window_display": true
  },
  "varInspector": {
   "cols": {
    "lenName": 16,
    "lenType": 16,
    "lenVar": 40
   },
   "kernels_config": {
    "python": {
     "delete_cmd_postfix": "",
     "delete_cmd_prefix": "del ",
     "library": "var_list.py",
     "varRefreshCmd": "print(var_dic_list())"
    },
    "r": {
     "delete_cmd_postfix": ") ",
     "delete_cmd_prefix": "rm(",
     "library": "var_list.r",
     "varRefreshCmd": "cat(var_dic_list()) "
    }
   },
   "types_to_exclude": [
    "module",
    "function",
    "builtin_function_or_method",
    "instance",
    "_Feature"
   ],
   "window_display": false
  }
 },
 "nbformat": 4,
 "nbformat_minor": 5
}
