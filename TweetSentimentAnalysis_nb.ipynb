{
 "cells": [
  {
   "cell_type": "markdown",
   "id": "695e7cdc",
   "metadata": {},
   "source": [
    "# Imports"
   ]
  },
  {
   "cell_type": "code",
   "execution_count": 1,
   "id": "de0fb176",
   "metadata": {
    "ExecuteTime": {
     "end_time": "2022-05-10T22:33:00.614734Z",
     "start_time": "2022-05-10T22:32:59.057723Z"
    }
   },
   "outputs": [],
   "source": [
    "import pandas as pd\n",
    "pd.options.display.max_columns = 50   # max displayed columns\n",
    "pd.options.display.max_colwidth = 280 # width of a column\n",
    "\n",
    "import matplotlib.pyplot as plt\n",
    "\n",
    "import random\n",
    "random.seed(42)\n",
    "\n",
    "import numpy as np\n",
    "np.random.RandomState(42)\n",
    "\n",
    "\n",
    "from sklearn.feature_extraction.text import TfidfVectorizer, CountVectorizer\n",
    "from sklearn.ensemble import RandomForestClassifier, GradientBoostingClassifier\n",
    "from sklearn.naive_bayes import MultinomialNB\n",
    "from sklearn.metrics import confusion_matrix, classification_report,ConfusionMatrixDisplay\n",
    "from sklearn.pipeline import Pipeline\n",
    "from sklearn.preprocessing import LabelEncoder\n",
    "from sklearn.model_selection import train_test_split, cross_validate, GridSearchCV\n",
    "\n",
    "# import nltk\n",
    "# from nltk.probability import FreqDist\n",
    "# from nltk.tokenize import RegexpTokenizer\n",
    "from nltk.corpus import stopwords\n",
    "sw = stopwords.words('english')\n",
    "\n",
    "\n",
    "import xgboost\n",
    "# from imblearn.over_sampling import SMOTE \n",
    "\n"
   ]
  },
  {
   "cell_type": "code",
   "execution_count": 2,
   "id": "ee7a8baf",
   "metadata": {
    "ExecuteTime": {
     "end_time": "2022-05-10T22:33:00.630744Z",
     "start_time": "2022-05-10T22:33:00.615735Z"
    }
   },
   "outputs": [],
   "source": [
    "## Uncomment below and run if you nltk throws up errors\n",
    "#nltk.download('omw-1.4')"
   ]
  },
  {
   "cell_type": "markdown",
   "id": "588cbe11",
   "metadata": {},
   "source": [
    "### Helper Functions"
   ]
  },
  {
   "cell_type": "code",
   "execution_count": 3,
   "id": "2be261d6",
   "metadata": {
    "ExecuteTime": {
     "end_time": "2022-05-10T22:33:00.646750Z",
     "start_time": "2022-05-10T22:33:00.631744Z"
    }
   },
   "outputs": [],
   "source": [
    "#Additional Helper functions can be found in 'src/'\n",
    "\n",
    "import sys\n",
    "sys.path.append( 'src' )\n",
    "from pandas_functions import dataFrame_info\n",
    "from documentParser import doc_preparer , getTopWordFreq \n",
    "from modelingResultPrettyPrinter import prettyPrintGridCVResults, prettyPrintCVScores"
   ]
  },
  {
   "cell_type": "markdown",
   "id": "6cd032d5",
   "metadata": {},
   "source": [
    "### Note: n_jobs"
   ]
  },
  {
   "cell_type": "markdown",
   "id": "a573526b",
   "metadata": {},
   "source": [
    "**Note:** To speed up running of model fit cells, the n_jobs parameter is set to a global variable. This can be set to -1 to allow access to the entirety of your machine's CPU resources for operations in this notebook (where applicable). This ***will*** make your machine essentially unusable until the operations have finished performing. Set this to None for regular operations"
   ]
  },
  {
   "cell_type": "code",
   "execution_count": 4,
   "id": "ba815a03",
   "metadata": {
    "ExecuteTime": {
     "end_time": "2022-05-10T22:33:00.662308Z",
     "start_time": "2022-05-10T22:33:00.648750Z"
    }
   },
   "outputs": [],
   "source": [
    "NB_n_jobs = -2"
   ]
  },
  {
   "cell_type": "markdown",
   "id": "42540287",
   "metadata": {
    "ExecuteTime": {
     "end_time": "2022-05-10T19:29:12.698541Z",
     "start_time": "2022-05-10T19:29:12.694541Z"
    }
   },
   "source": [
    "# Data: Loading, Cleaning, and Munging"
   ]
  },
  {
   "cell_type": "markdown",
   "id": "4866fdef",
   "metadata": {},
   "source": [
    "## Describe data here!!!!"
   ]
  },
  {
   "cell_type": "markdown",
   "id": "28324bac",
   "metadata": {},
   "source": [
    "This dataset is a subset of webscraped twitter data that was gathered (presumably) at the SXSW festival that is held annually at Austin, Texas. It is self described as a meeting of music, tech and film.\n",
    "\n",
    "\n",
    "This data was gathered from CrowdFlower. Per CrowdFlower:"
   ]
  },
  {
   "cell_type": "markdown",
   "id": "4dfa1d58",
   "metadata": {},
   "source": [
    "Description:\n",
    ">Judge Emotion About Brands and Products\n",
    "\n",
    "Summary:\n",
    ">Contributors evaluated tweets about multiple brands and products. The crowd was asked if the tweet expressed positive, negative, or no emotion towards a brand and/or product. If some emotion was expressed they were also asked to say which brand or product was the target of that emotion. Added: August 30, 2013 by Kent Cavender-Bares | Data Rows: 9093 Download Now\n",
    "\n",
    "Source:\n",
    "https://www.crowdflower.com/data-for-everyone/"
   ]
  },
  {
   "cell_type": "markdown",
   "id": "cfc99ce8",
   "metadata": {
    "ExecuteTime": {
     "end_time": "2022-05-10T19:29:12.698541Z",
     "start_time": "2022-05-10T19:29:12.694541Z"
    }
   },
   "source": [
    "## Loading"
   ]
  },
  {
   "cell_type": "code",
   "execution_count": 5,
   "id": "51151839",
   "metadata": {
    "ExecuteTime": {
     "end_time": "2022-05-10T22:33:00.694323Z",
     "start_time": "2022-05-10T22:33:00.663310Z"
    }
   },
   "outputs": [],
   "source": [
    "dataFolder_path = 'data/'\n",
    "data_df = pd.read_csv(dataFolder_path+'judge_1377884607_tweet_product_company.csv')"
   ]
  },
  {
   "cell_type": "code",
   "execution_count": 6,
   "id": "e0af10ae",
   "metadata": {
    "ExecuteTime": {
     "end_time": "2022-05-10T22:33:00.710327Z",
     "start_time": "2022-05-10T22:33:00.695323Z"
    },
    "scrolled": true
   },
   "outputs": [
    {
     "data": {
      "text/html": [
       "<div>\n",
       "<style scoped>\n",
       "    .dataframe tbody tr th:only-of-type {\n",
       "        vertical-align: middle;\n",
       "    }\n",
       "\n",
       "    .dataframe tbody tr th {\n",
       "        vertical-align: top;\n",
       "    }\n",
       "\n",
       "    .dataframe thead th {\n",
       "        text-align: right;\n",
       "    }\n",
       "</style>\n",
       "<table border=\"1\" class=\"dataframe\">\n",
       "  <thead>\n",
       "    <tr style=\"text-align: right;\">\n",
       "      <th></th>\n",
       "      <th>tweet_text</th>\n",
       "      <th>emotion_in_tweet_is_directed_at</th>\n",
       "      <th>is_there_an_emotion_directed_at_a_brand_or_product</th>\n",
       "    </tr>\n",
       "  </thead>\n",
       "  <tbody>\n",
       "    <tr>\n",
       "      <th>0</th>\n",
       "      <td>.@wesley83 I have a 3G iPhone. After 3 hrs tweeting at #RISE_Austin, it was dead!  I need to upgrade. Plugin stations at #SXSW.</td>\n",
       "      <td>iPhone</td>\n",
       "      <td>Negative emotion</td>\n",
       "    </tr>\n",
       "    <tr>\n",
       "      <th>1</th>\n",
       "      <td>@jessedee Know about @fludapp ? Awesome iPad/iPhone app that you'll likely appreciate for its design. Also, they're giving free Ts at #SXSW</td>\n",
       "      <td>iPad or iPhone App</td>\n",
       "      <td>Positive emotion</td>\n",
       "    </tr>\n",
       "    <tr>\n",
       "      <th>2</th>\n",
       "      <td>@swonderlin Can not wait for #iPad 2 also. They should sale them down at #SXSW.</td>\n",
       "      <td>iPad</td>\n",
       "      <td>Positive emotion</td>\n",
       "    </tr>\n",
       "  </tbody>\n",
       "</table>\n",
       "</div>"
      ],
      "text/plain": [
       "                                                                                                                                    tweet_text  \\\n",
       "0              .@wesley83 I have a 3G iPhone. After 3 hrs tweeting at #RISE_Austin, it was dead!  I need to upgrade. Plugin stations at #SXSW.   \n",
       "1  @jessedee Know about @fludapp ? Awesome iPad/iPhone app that you'll likely appreciate for its design. Also, they're giving free Ts at #SXSW   \n",
       "2                                                              @swonderlin Can not wait for #iPad 2 also. They should sale them down at #SXSW.   \n",
       "\n",
       "  emotion_in_tweet_is_directed_at  \\\n",
       "0                          iPhone   \n",
       "1              iPad or iPhone App   \n",
       "2                            iPad   \n",
       "\n",
       "  is_there_an_emotion_directed_at_a_brand_or_product  \n",
       "0                                   Negative emotion  \n",
       "1                                   Positive emotion  \n",
       "2                                   Positive emotion  "
      ]
     },
     "execution_count": 6,
     "metadata": {},
     "output_type": "execute_result"
    }
   ],
   "source": [
    "data_df.head(3)"
   ]
  },
  {
   "cell_type": "code",
   "execution_count": 7,
   "id": "b3845142",
   "metadata": {
    "ExecuteTime": {
     "end_time": "2022-05-10T22:33:00.726331Z",
     "start_time": "2022-05-10T22:33:00.711327Z"
    }
   },
   "outputs": [
    {
     "data": {
      "text/plain": [
       "(8721, 3)"
      ]
     },
     "execution_count": 7,
     "metadata": {},
     "output_type": "execute_result"
    }
   ],
   "source": [
    "data_df.shape"
   ]
  },
  {
   "cell_type": "markdown",
   "id": "57feaf86",
   "metadata": {
    "ExecuteTime": {
     "end_time": "2022-05-10T19:29:12.698541Z",
     "start_time": "2022-05-10T19:29:12.694541Z"
    }
   },
   "source": [
    "## Cleaning"
   ]
  },
  {
   "cell_type": "markdown",
   "id": "6ae34701",
   "metadata": {},
   "source": [
    "Let's rename the columns for ease of use. Note that `product` is a reserved word in Python; for the second column, initially titled `emotion_in_tweet_is_directed_at`, I use `product_name`."
   ]
  },
  {
   "cell_type": "code",
   "execution_count": 8,
   "id": "36a4cade",
   "metadata": {
    "ExecuteTime": {
     "end_time": "2022-05-10T22:33:00.742334Z",
     "start_time": "2022-05-10T22:33:00.727334Z"
    }
   },
   "outputs": [],
   "source": [
    "data_df.rename(columns = {'tweet_text': 'text',\n",
    "                     'emotion_in_tweet_is_directed_at': 'product_name',\n",
    "                     'is_there_an_emotion_directed_at_a_brand_or_product': 'emotion'},\n",
    "               inplace = True)"
   ]
  },
  {
   "cell_type": "code",
   "execution_count": 9,
   "id": "6ae1e4f0",
   "metadata": {
    "ExecuteTime": {
     "end_time": "2022-05-10T22:33:00.758338Z",
     "start_time": "2022-05-10T22:33:00.743334Z"
    }
   },
   "outputs": [
    {
     "data": {
      "text/plain": [
       "text               1\n",
       "product_name    5552\n",
       "emotion            0\n",
       "dtype: int64"
      ]
     },
     "execution_count": 9,
     "metadata": {},
     "output_type": "execute_result"
    }
   ],
   "source": [
    "data_df.isna().sum()"
   ]
  },
  {
   "cell_type": "markdown",
   "id": "8cc5957b",
   "metadata": {},
   "source": [
    "Lots of nulls in `product_name`, which we'll have to deal with at one point or another, and exactly *one* null value in the `text` column. Let's check that out real quick..."
   ]
  },
  {
   "cell_type": "code",
   "execution_count": 10,
   "id": "096b5d2e",
   "metadata": {
    "ExecuteTime": {
     "end_time": "2022-05-10T22:33:00.774341Z",
     "start_time": "2022-05-10T22:33:00.759338Z"
    },
    "scrolled": true
   },
   "outputs": [
    {
     "data": {
      "text/html": [
       "<div>\n",
       "<style scoped>\n",
       "    .dataframe tbody tr th:only-of-type {\n",
       "        vertical-align: middle;\n",
       "    }\n",
       "\n",
       "    .dataframe tbody tr th {\n",
       "        vertical-align: top;\n",
       "    }\n",
       "\n",
       "    .dataframe thead th {\n",
       "        text-align: right;\n",
       "    }\n",
       "</style>\n",
       "<table border=\"1\" class=\"dataframe\">\n",
       "  <thead>\n",
       "    <tr style=\"text-align: right;\">\n",
       "      <th></th>\n",
       "      <th>text</th>\n",
       "      <th>product_name</th>\n",
       "      <th>emotion</th>\n",
       "    </tr>\n",
       "  </thead>\n",
       "  <tbody>\n",
       "    <tr>\n",
       "      <th>6</th>\n",
       "      <td>NaN</td>\n",
       "      <td>NaN</td>\n",
       "      <td>No emotion toward brand or product</td>\n",
       "    </tr>\n",
       "  </tbody>\n",
       "</table>\n",
       "</div>"
      ],
      "text/plain": [
       "  text product_name                             emotion\n",
       "6  NaN          NaN  No emotion toward brand or product"
      ]
     },
     "execution_count": 10,
     "metadata": {},
     "output_type": "execute_result"
    }
   ],
   "source": [
    "data_df[data_df.text.isna()]"
   ]
  },
  {
   "cell_type": "markdown",
   "id": "0b81ea57",
   "metadata": {
    "ExecuteTime": {
     "end_time": "2022-05-10T19:44:11.836326Z",
     "start_time": "2022-05-10T19:44:11.824323Z"
    }
   },
   "source": [
    "This record has no relevant information associated with it. No useful information can be drawn from it. Dropping this record"
   ]
  },
  {
   "cell_type": "code",
   "execution_count": 11,
   "id": "939b70d1",
   "metadata": {
    "ExecuteTime": {
     "end_time": "2022-05-10T22:33:00.789345Z",
     "start_time": "2022-05-10T22:33:00.775342Z"
    }
   },
   "outputs": [],
   "source": [
    "data_df.dropna(subset=['text'],inplace=True)"
   ]
  },
  {
   "cell_type": "code",
   "execution_count": 12,
   "id": "43871f66",
   "metadata": {
    "ExecuteTime": {
     "end_time": "2022-05-10T22:33:00.805348Z",
     "start_time": "2022-05-10T22:33:00.790345Z"
    },
    "scrolled": true
   },
   "outputs": [
    {
     "data": {
      "text/plain": [
       "(8720, 3)"
      ]
     },
     "execution_count": 12,
     "metadata": {},
     "output_type": "execute_result"
    }
   ],
   "source": [
    "data_df.shape"
   ]
  },
  {
   "cell_type": "markdown",
   "id": "7d8c3e82",
   "metadata": {
    "ExecuteTime": {
     "end_time": "2022-05-10T19:29:12.698541Z",
     "start_time": "2022-05-10T19:29:12.694541Z"
    }
   },
   "source": [
    "## Munging"
   ]
  },
  {
   "cell_type": "code",
   "execution_count": 13,
   "id": "88480d4a",
   "metadata": {
    "ExecuteTime": {
     "end_time": "2022-05-10T22:33:02.135650Z",
     "start_time": "2022-05-10T22:33:00.808349Z"
    },
    "scrolled": false
   },
   "outputs": [
    {
     "name": "stdout",
     "output_type": "stream",
     "text": [
      "Datframe has 8720 rows and 3 columns\n"
     ]
    },
    {
     "data": {
      "text/html": [
       "<div>\n",
       "<style scoped>\n",
       "    .dataframe tbody tr th:only-of-type {\n",
       "        vertical-align: middle;\n",
       "    }\n",
       "\n",
       "    .dataframe tbody tr th {\n",
       "        vertical-align: top;\n",
       "    }\n",
       "\n",
       "    .dataframe thead tr th {\n",
       "        text-align: left;\n",
       "    }\n",
       "\n",
       "    .dataframe thead tr:last-of-type th {\n",
       "        text-align: right;\n",
       "    }\n",
       "</style>\n",
       "<table border=\"1\" class=\"dataframe\">\n",
       "  <thead>\n",
       "    <tr>\n",
       "      <th>Info Table:</th>\n",
       "      <th colspan=\"2\" halign=\"left\">Zeroes</th>\n",
       "      <th colspan=\"2\" halign=\"left\">Nulls</th>\n",
       "      <th colspan=\"2\" halign=\"left\">Uniques</th>\n",
       "      <th colspan=\"2\" halign=\"left\">Missing/Unknown</th>\n",
       "      <th>Mean</th>\n",
       "      <th>Median</th>\n",
       "    </tr>\n",
       "    <tr>\n",
       "      <th>Details:</th>\n",
       "      <th>Count</th>\n",
       "      <th>Fraction</th>\n",
       "      <th>Count</th>\n",
       "      <th>Fraction</th>\n",
       "      <th>Count</th>\n",
       "      <th>Fraction</th>\n",
       "      <th>Count</th>\n",
       "      <th>Fraction</th>\n",
       "      <th></th>\n",
       "      <th></th>\n",
       "    </tr>\n",
       "    <tr>\n",
       "      <th>Columns:</th>\n",
       "      <th></th>\n",
       "      <th></th>\n",
       "      <th></th>\n",
       "      <th></th>\n",
       "      <th></th>\n",
       "      <th></th>\n",
       "      <th></th>\n",
       "      <th></th>\n",
       "      <th></th>\n",
       "      <th></th>\n",
       "    </tr>\n",
       "  </thead>\n",
       "  <tbody>\n",
       "    <tr>\n",
       "      <th>text</th>\n",
       "      <td>0</td>\n",
       "      <td>0.00 %</td>\n",
       "      <td>0</td>\n",
       "      <td>0.00 %</td>\n",
       "      <td>8693</td>\n",
       "      <td>99.69 %</td>\n",
       "      <td>0</td>\n",
       "      <td>0.00 %</td>\n",
       "      <td>0.0</td>\n",
       "      <td>0.0</td>\n",
       "    </tr>\n",
       "    <tr>\n",
       "      <th>product_name</th>\n",
       "      <td>0</td>\n",
       "      <td>0.00 %</td>\n",
       "      <td>5551</td>\n",
       "      <td>63.66 %</td>\n",
       "      <td>10</td>\n",
       "      <td>0.11 %</td>\n",
       "      <td>0</td>\n",
       "      <td>0.00 %</td>\n",
       "      <td>0.0</td>\n",
       "      <td>0.0</td>\n",
       "    </tr>\n",
       "    <tr>\n",
       "      <th>emotion</th>\n",
       "      <td>0</td>\n",
       "      <td>0.00 %</td>\n",
       "      <td>0</td>\n",
       "      <td>0.00 %</td>\n",
       "      <td>4</td>\n",
       "      <td>0.05 %</td>\n",
       "      <td>0</td>\n",
       "      <td>0.00 %</td>\n",
       "      <td>0.0</td>\n",
       "      <td>0.0</td>\n",
       "    </tr>\n",
       "  </tbody>\n",
       "</table>\n",
       "</div>"
      ],
      "text/plain": [
       "Info Table:  Zeroes          Nulls          Uniques          Missing/Unknown  \\\n",
       "Details:      Count Fraction Count Fraction   Count Fraction           Count   \n",
       "Columns:                                                                       \n",
       "text              0   0.00 %     0   0.00 %    8693  99.69 %               0   \n",
       "product_name      0   0.00 %  5551  63.66 %      10   0.11 %               0   \n",
       "emotion           0   0.00 %     0   0.00 %       4   0.05 %               0   \n",
       "\n",
       "Info Table:           Mean Median  \n",
       "Details:     Fraction              \n",
       "Columns:                           \n",
       "text           0.00 %  0.0    0.0  \n",
       "product_name   0.00 %  0.0    0.0  \n",
       "emotion        0.00 %  0.0    0.0  "
      ]
     },
     "metadata": {},
     "output_type": "display_data"
    }
   ],
   "source": [
    "dataFrame_info(data_df)"
   ]
  },
  {
   "cell_type": "markdown",
   "id": "0c21922e",
   "metadata": {},
   "source": [
    "There is an extremely large number of nulls in product name, which we will have to account for. For the purpose of modeling, the columns we specifically care about are the `text` and `emotion` columns, since we are going to try and predict the emotional quotient of a tweet.\n",
    "\n",
    "Let's get a look of how the target column (`emotion`) is distributed."
   ]
  },
  {
   "cell_type": "code",
   "execution_count": 14,
   "id": "30a13a02",
   "metadata": {
    "ExecuteTime": {
     "end_time": "2022-05-10T22:33:02.151654Z",
     "start_time": "2022-05-10T22:33:02.136651Z"
    },
    "scrolled": true
   },
   "outputs": [
    {
     "name": "stdout",
     "output_type": "stream",
     "text": [
      "Emotion value counts:\n",
      "No emotion toward brand or product    5155\n",
      "Positive emotion                      2869\n",
      "Negative emotion                       545\n",
      "I can't tell                           151\n",
      "Name: emotion, dtype: int64\n"
     ]
    }
   ],
   "source": [
    "print(f\"Emotion value counts:\\n{data_df.emotion.value_counts()}\")"
   ]
  },
  {
   "cell_type": "markdown",
   "id": "005d7b97",
   "metadata": {},
   "source": [
    "There seems to be a significant imbalance in our data. We can confirm this by normalizing and visualizing the data"
   ]
  },
  {
   "cell_type": "code",
   "execution_count": 15,
   "id": "c54b95d4",
   "metadata": {
    "ExecuteTime": {
     "end_time": "2022-05-10T22:33:02.263679Z",
     "start_time": "2022-05-10T22:33:02.152655Z"
    }
   },
   "outputs": [
    {
     "name": "stdout",
     "output_type": "stream",
     "text": [
      "Emotion value counts (normalized):\n",
      "No emotion toward brand or product    0.591170\n",
      "Positive emotion                      0.329014\n",
      "Negative emotion                      0.062500\n",
      "I can't tell                          0.017317\n",
      "Name: emotion, dtype: float64\n"
     ]
    },
    {
     "data": {
      "image/png": "[encoded data removed]",
      "text/plain": [
       "<Figure size 1008x576 with 1 Axes>"
      ]
     },
     "metadata": {
      "needs_background": "light"
     },
     "output_type": "display_data"
    }
   ],
   "source": [
    "fig, ax = plt.subplots(figsize = (14, 8))\n",
    "\n",
    "ax.bar(x = data_df.emotion.value_counts(normalize=True).index,\n",
    "       height = data_df.emotion.value_counts(normalize=True).values,\n",
    "       color = (0.2, 0.4, 0.6, 0.6),\n",
    "       edgecolor = 'black')\n",
    "\n",
    "plt.xticks(fontsize=12)\n",
    "plt.yticks(fontsize=12)\n",
    "\n",
    "ax.set_xlabel(xlabel=\"Sentiment\",\n",
    "              fontsize=15,\n",
    "              labelpad=14)\n",
    "ax.set_ylabel(ylabel=\"Proportion of documents in corpus\",\n",
    "              fontsize=15,\n",
    "              labelpad=14)\n",
    "ax.set_title(label=\"Distribution of sentiment\",\n",
    "             fontsize=22,\n",
    "             pad=10);\n",
    "\n",
    "\n",
    "\n",
    "print(f\"Emotion value counts (normalized):\\n{data_df.emotion.value_counts(normalize=True)}\")"
   ]
  },
  {
   "cell_type": "markdown",
   "id": "e5a00a40",
   "metadata": {},
   "source": [
    "`I can't tell` makes up less than 2% of our dataset, and doesn't offer much more information in the way of word significance than the tweets labeled `No emotion toward brand or product`. We will drop records where `emotion` has been recorded as `I can't tell`."
   ]
  },
  {
   "cell_type": "code",
   "execution_count": 16,
   "id": "cd37574f",
   "metadata": {
    "ExecuteTime": {
     "end_time": "2022-05-10T22:33:02.279683Z",
     "start_time": "2022-05-10T22:33:02.264680Z"
    },
    "scrolled": false
   },
   "outputs": [
    {
     "data": {
      "text/plain": [
       "(8569, 3)"
      ]
     },
     "execution_count": 16,
     "metadata": {},
     "output_type": "execute_result"
    }
   ],
   "source": [
    "data_df.drop(\n",
    "    index = data_df[data_df.emotion == \"I can't tell\"].index,\n",
    "    inplace = True)\n",
    "\n",
    "data_df.shape"
   ]
  },
  {
   "cell_type": "markdown",
   "id": "81a0a887",
   "metadata": {},
   "source": [
    "### StopWords"
   ]
  },
  {
   "cell_type": "markdown",
   "id": "966f3903",
   "metadata": {},
   "source": [
    "When working with webscraping and social data mining applications, or NLP problems in general, one of the problems that crops up is there is a large number of words that are commonly used. These words (such as 'a', 'are' etc) won't be able to uniquely identify with our `emotion` column since they are so widely used. \\\n",
    "We will be implementing nltk's stopwords module to remove such commonly used english words, here is a few examples of such words."
   ]
  },
  {
   "cell_type": "code",
   "execution_count": 17,
   "id": "6da9f7ca",
   "metadata": {
    "ExecuteTime": {
     "end_time": "2022-05-10T22:33:02.294686Z",
     "start_time": "2022-05-10T22:33:02.280683Z"
    }
   },
   "outputs": [
    {
     "data": {
      "text/plain": [
       "['i', 'me', 'my', 'myself', 'we', 'our', 'ours', 'ourselves', 'you', \"you're\"]"
      ]
     },
     "execution_count": 17,
     "metadata": {},
     "output_type": "execute_result"
    }
   ],
   "source": [
    "sw[:10]"
   ]
  },
  {
   "cell_type": "markdown",
   "id": "a24d2812",
   "metadata": {},
   "source": [
    "But we can improve upon this. To do so lets have a quick look at the most frequently used words across all tweets."
   ]
  },
  {
   "cell_type": "code",
   "execution_count": 18,
   "id": "301bfc4e",
   "metadata": {
    "ExecuteTime": {
     "end_time": "2022-05-10T22:33:02.564747Z",
     "start_time": "2022-05-10T22:33:02.295686Z"
    },
    "scrolled": true
   },
   "outputs": [
    {
     "data": {
      "text/plain": [
       "[('sxsw', 9096),\n",
       " ('link', 4077),\n",
       " ('rt', 2925),\n",
       " ('ipad', 2836),\n",
       " ('google', 2329),\n",
       " ('apple', 2093),\n",
       " ('quot', 1582),\n",
       " ('iphone', 1492),\n",
       " ('store', 1397),\n",
       " ('new', 1057)]"
      ]
     },
     "execution_count": 18,
     "metadata": {},
     "output_type": "execute_result"
    }
   ],
   "source": [
    "# Lower case all text, remove punctuations, ignore stop words, get word frequency\n",
    "getTopWordFreq(data_df,'text',n=10,stop_words = sw)"
   ]
  },
  {
   "cell_type": "code",
   "execution_count": 19,
   "id": "39c5716a",
   "metadata": {
    "ExecuteTime": {
     "end_time": "2022-05-10T22:33:02.912738Z",
     "start_time": "2022-05-10T22:33:02.565748Z"
    }
   },
   "outputs": [
    {
     "data": {
      "text/plain": [
       "<BarContainer object of 10 artists>"
      ]
     },
     "execution_count": 19,
     "metadata": {},
     "output_type": "execute_result"
    },
    {
     "data": {
      "image/png": "[encoded data removed]",
      "text/plain": [
       "<Figure size 720x576 with 1 Axes>"
      ]
     },
     "metadata": {
      "needs_background": "light"
     },
     "output_type": "display_data"
    }
   ],
   "source": [
    "# Plot most frequent words\n",
    "fig,ax = plt.subplots(figsize = (10,8))\n",
    "num_of_bars = 10\n",
    "viz_data = getTopWordFreq(data_df,'text',n=num_of_bars,stop_words = sw)\n",
    "\n",
    "ax.bar(x = [word for word,freq in viz_data], \n",
    "      height = [freq for word,freq in viz_data])"
   ]
  },
  {
   "cell_type": "markdown",
   "id": "3081338a",
   "metadata": {},
   "source": [
    "Just by looking at this, we can see there is a high occurence of \n",
    "- venue specific words such  as `sxsw`\n",
    "- twitter specific words such as `rt`\n",
    "- brand or product specific words such as `iphone`\n",
    "\n",
    "These words probably occur across our various sentiments and may not necessarily add any meaning, unless a majority of their occurence is associated with a particular `emotion`"
   ]
  },
  {
   "cell_type": "markdown",
   "id": "4e56894b",
   "metadata": {},
   "source": [
    "Instead of dropping words that just occur at a high frequency across the entire corpus, we will drop words that occur at a high frequency across our positive and negative emotional quotient."
   ]
  },
  {
   "cell_type": "markdown",
   "id": "ccc97fd9",
   "metadata": {},
   "source": [
    "This should ensure we don't accidentally remove a word from the corpus that is overall heavily represented but is mostly represented in any 1 `emotion`"
   ]
  },
  {
   "cell_type": "code",
   "execution_count": 20,
   "id": "d47dbc5c",
   "metadata": {
    "ExecuteTime": {
     "end_time": "2022-05-10T22:33:02.928743Z",
     "start_time": "2022-05-10T22:33:02.913739Z"
    }
   },
   "outputs": [],
   "source": [
    "neg_df = data_df[data_df['emotion']=='Negative emotion']\n",
    "pos_df = data_df[data_df['emotion']=='Positive emotion']"
   ]
  },
  {
   "cell_type": "markdown",
   "id": "8287073e",
   "metadata": {},
   "source": [
    "Sanity Check"
   ]
  },
  {
   "cell_type": "code",
   "execution_count": 21,
   "id": "d7409055",
   "metadata": {
    "ExecuteTime": {
     "end_time": "2022-05-10T22:33:02.944747Z",
     "start_time": "2022-05-10T22:33:02.929744Z"
    },
    "scrolled": true
   },
   "outputs": [
    {
     "data": {
      "text/html": [
       "<div>\n",
       "<style scoped>\n",
       "    .dataframe tbody tr th:only-of-type {\n",
       "        vertical-align: middle;\n",
       "    }\n",
       "\n",
       "    .dataframe tbody tr th {\n",
       "        vertical-align: top;\n",
       "    }\n",
       "\n",
       "    .dataframe thead th {\n",
       "        text-align: right;\n",
       "    }\n",
       "</style>\n",
       "<table border=\"1\" class=\"dataframe\">\n",
       "  <thead>\n",
       "    <tr style=\"text-align: right;\">\n",
       "      <th></th>\n",
       "      <th>text</th>\n",
       "      <th>product_name</th>\n",
       "      <th>emotion</th>\n",
       "    </tr>\n",
       "  </thead>\n",
       "  <tbody>\n",
       "    <tr>\n",
       "      <th>0</th>\n",
       "      <td>.@wesley83 I have a 3G iPhone. After 3 hrs tweeting at #RISE_Austin, it was dead!  I need to upgrade. Plugin stations at #SXSW.</td>\n",
       "      <td>iPhone</td>\n",
       "      <td>Negative emotion</td>\n",
       "    </tr>\n",
       "    <tr>\n",
       "      <th>3</th>\n",
       "      <td>@sxsw I hope this year's festival isn't as crashy as this year's iPhone app. #sxsw</td>\n",
       "      <td>iPad or iPhone App</td>\n",
       "      <td>Negative emotion</td>\n",
       "    </tr>\n",
       "    <tr>\n",
       "      <th>17</th>\n",
       "      <td>I just noticed DST is coming this weekend. How many iPhone users will be an hour late at SXSW come Sunday morning? #SXSW #iPhone</td>\n",
       "      <td>iPhone</td>\n",
       "      <td>Negative emotion</td>\n",
       "    </tr>\n",
       "  </tbody>\n",
       "</table>\n",
       "</div>"
      ],
      "text/plain": [
       "                                                                                                                                text  \\\n",
       "0    .@wesley83 I have a 3G iPhone. After 3 hrs tweeting at #RISE_Austin, it was dead!  I need to upgrade. Plugin stations at #SXSW.   \n",
       "3                                                 @sxsw I hope this year's festival isn't as crashy as this year's iPhone app. #sxsw   \n",
       "17  I just noticed DST is coming this weekend. How many iPhone users will be an hour late at SXSW come Sunday morning? #SXSW #iPhone   \n",
       "\n",
       "          product_name           emotion  \n",
       "0               iPhone  Negative emotion  \n",
       "3   iPad or iPhone App  Negative emotion  \n",
       "17              iPhone  Negative emotion  "
      ]
     },
     "execution_count": 21,
     "metadata": {},
     "output_type": "execute_result"
    }
   ],
   "source": [
    "neg_df.head(3)"
   ]
  },
  {
   "cell_type": "code",
   "execution_count": 22,
   "id": "7b5a6814",
   "metadata": {
    "ExecuteTime": {
     "end_time": "2022-05-10T22:33:02.959751Z",
     "start_time": "2022-05-10T22:33:02.945750Z"
    },
    "scrolled": false
   },
   "outputs": [
    {
     "data": {
      "text/html": [
       "<div>\n",
       "<style scoped>\n",
       "    .dataframe tbody tr th:only-of-type {\n",
       "        vertical-align: middle;\n",
       "    }\n",
       "\n",
       "    .dataframe tbody tr th {\n",
       "        vertical-align: top;\n",
       "    }\n",
       "\n",
       "    .dataframe thead th {\n",
       "        text-align: right;\n",
       "    }\n",
       "</style>\n",
       "<table border=\"1\" class=\"dataframe\">\n",
       "  <thead>\n",
       "    <tr style=\"text-align: right;\">\n",
       "      <th></th>\n",
       "      <th>text</th>\n",
       "      <th>product_name</th>\n",
       "      <th>emotion</th>\n",
       "    </tr>\n",
       "  </thead>\n",
       "  <tbody>\n",
       "    <tr>\n",
       "      <th>1</th>\n",
       "      <td>@jessedee Know about @fludapp ? Awesome iPad/iPhone app that you'll likely appreciate for its design. Also, they're giving free Ts at #SXSW</td>\n",
       "      <td>iPad or iPhone App</td>\n",
       "      <td>Positive emotion</td>\n",
       "    </tr>\n",
       "    <tr>\n",
       "      <th>2</th>\n",
       "      <td>@swonderlin Can not wait for #iPad 2 also. They should sale them down at #SXSW.</td>\n",
       "      <td>iPad</td>\n",
       "      <td>Positive emotion</td>\n",
       "    </tr>\n",
       "    <tr>\n",
       "      <th>4</th>\n",
       "      <td>@sxtxstate great stuff on Fri #SXSW: Marissa Mayer (Google), Tim O'Reilly (tech books/conferences) &amp;amp; Matt Mullenweg (Wordpress)</td>\n",
       "      <td>Google</td>\n",
       "      <td>Positive emotion</td>\n",
       "    </tr>\n",
       "  </tbody>\n",
       "</table>\n",
       "</div>"
      ],
      "text/plain": [
       "                                                                                                                                          text  \\\n",
       "1  @jessedee Know about @fludapp ? Awesome iPad/iPhone app that you'll likely appreciate for its design. Also, they're giving free Ts at #SXSW   \n",
       "2                                                              @swonderlin Can not wait for #iPad 2 also. They should sale them down at #SXSW.   \n",
       "4          @sxtxstate great stuff on Fri #SXSW: Marissa Mayer (Google), Tim O'Reilly (tech books/conferences) &amp; Matt Mullenweg (Wordpress)   \n",
       "\n",
       "         product_name           emotion  \n",
       "1  iPad or iPhone App  Positive emotion  \n",
       "2                iPad  Positive emotion  \n",
       "4              Google  Positive emotion  "
      ]
     },
     "execution_count": 22,
     "metadata": {},
     "output_type": "execute_result"
    }
   ],
   "source": [
    "pos_df.head(3)"
   ]
  },
  {
   "cell_type": "code",
   "execution_count": 23,
   "id": "aa1a134f",
   "metadata": {
    "ExecuteTime": {
     "end_time": "2022-05-10T22:33:03.340842Z",
     "start_time": "2022-05-10T22:33:02.960752Z"
    }
   },
   "outputs": [
    {
     "name": "stdout",
     "output_type": "stream",
     "text": [
      "As an example. Here are the top 5 words:\n",
      "Entire DataFrame: ['sxsw', 'link', 'rt']\n",
      "Positive Emotion: ['sxsw', 'ipad', 'link']\n",
      "negative Emotion: ['sxsw', 'ipad', 'quot']\n"
     ]
    }
   ],
   "source": [
    "print('As an example. Here are the top 5 words:')\n",
    "print(f\"Entire DataFrame: {[word for word,freq in getTopWordFreq(data_df,'text',3,stop_words = sw)]}\")\n",
    "print(f\"Positive Emotion: {[word for word,freq in getTopWordFreq(pos_df,'text',3,stop_words = sw)]}\")\n",
    "print(f\"negative Emotion: {[word for word,freq in getTopWordFreq(neg_df,'text',3,stop_words = sw)]}\")"
   ]
  },
  {
   "cell_type": "markdown",
   "id": "cc323984",
   "metadata": {},
   "source": [
    "As you can tell, there is going to be a lot of crossover with certain terms (`sxsw`, `ipad` in our example above) which we should remove however, we'd want to retain words that are potentially more identifiable with a certain `emotion`. This is just the top 3 words, and we shall be using a larger set."
   ]
  },
  {
   "cell_type": "code",
   "execution_count": 24,
   "id": "fdec695f",
   "metadata": {
    "ExecuteTime": {
     "end_time": "2022-05-10T22:33:03.466778Z",
     "start_time": "2022-05-10T22:33:03.341843Z"
    },
    "scrolled": false
   },
   "outputs": [
    {
     "name": "stdout",
     "output_type": "stream",
     "text": [
      "31\n"
     ]
    },
    {
     "data": {
      "text/plain": [
       "['app',\n",
       " 'one',\n",
       " 'time',\n",
       " 'quot',\n",
       " 'iphone',\n",
       " 'people',\n",
       " 'amp',\n",
       " 'social',\n",
       " 'link',\n",
       " 'like']"
      ]
     },
     "execution_count": 24,
     "metadata": {},
     "output_type": "execute_result"
    }
   ],
   "source": [
    "num_mostCommon_Words = 50\n",
    "common_neg_words = [word for word,freq in getTopWordFreq(neg_df, 'text',num_mostCommon_Words,stop_words = sw)]\n",
    "common_pos_words = [word for word,freq in getTopWordFreq(pos_df, 'text',num_mostCommon_Words,stop_words = sw)]\n",
    "new_sw_words = list(set(common_neg_words).intersection(set(common_pos_words)))\n",
    "print(len(new_sw_words))\n",
    "new_sw_words[:10]"
   ]
  },
  {
   "cell_type": "markdown",
   "id": "53693974",
   "metadata": {},
   "source": [
    "We shall be appending this to our stopword list. As part of our `doc_preparer()` we shall be removing these words in the future"
   ]
  },
  {
   "cell_type": "code",
   "execution_count": 25,
   "id": "4763725e",
   "metadata": {
    "ExecuteTime": {
     "end_time": "2022-05-10T22:33:03.481782Z",
     "start_time": "2022-05-10T22:33:03.467780Z"
    }
   },
   "outputs": [
    {
     "data": {
      "text/plain": [
       "179"
      ]
     },
     "execution_count": 25,
     "metadata": {},
     "output_type": "execute_result"
    }
   ],
   "source": [
    "len(sw)"
   ]
  },
  {
   "cell_type": "code",
   "execution_count": 26,
   "id": "0fd40fce",
   "metadata": {
    "ExecuteTime": {
     "end_time": "2022-05-10T22:33:03.497786Z",
     "start_time": "2022-05-10T22:33:03.482782Z"
    }
   },
   "outputs": [
    {
     "data": {
      "text/plain": [
       "210"
      ]
     },
     "execution_count": 26,
     "metadata": {},
     "output_type": "execute_result"
    }
   ],
   "source": [
    "sw.extend(new_sw_words)\n",
    "len(sw)"
   ]
  },
  {
   "cell_type": "markdown",
   "id": "cc9ad665",
   "metadata": {},
   "source": [
    "Lets have a look at the word distribution again"
   ]
  },
  {
   "cell_type": "code",
   "execution_count": 27,
   "id": "3669c841",
   "metadata": {
    "ExecuteTime": {
     "end_time": "2022-05-10T22:33:03.844869Z",
     "start_time": "2022-05-10T22:33:03.498787Z"
    }
   },
   "outputs": [
    {
     "data": {
      "text/plain": [
       "<BarContainer object of 10 artists>"
      ]
     },
     "execution_count": 27,
     "metadata": {},
     "output_type": "execute_result"
    },
    {
     "data": {
      "image/png": "[encoded data removed]",
      "text/plain": [
       "<Figure size 720x576 with 1 Axes>"
      ]
     },
     "metadata": {
      "needs_background": "light"
     },
     "output_type": "display_data"
    }
   ],
   "source": [
    "# Plot most frequent words\n",
    "fig,ax = plt.subplots(figsize = (10,8))\n",
    "num_of_bars = 10\n",
    "viz_data = getTopWordFreq(data_df,'text',n=num_of_bars,stop_words = sw)\n",
    "\n",
    "ax.bar(x = [word for word,freq in viz_data], \n",
    "      height = [freq for word,freq in viz_data])"
   ]
  },
  {
   "cell_type": "markdown",
   "id": "466cd153",
   "metadata": {},
   "source": [
    "Already one can tell the skew of the graph is reduced."
   ]
  },
  {
   "cell_type": "markdown",
   "id": "de719b33",
   "metadata": {},
   "source": [
    "### Stemming"
   ]
  },
  {
   "cell_type": "markdown",
   "id": "40bfcf20",
   "metadata": {},
   "source": [
    "We shall be creating a column of a cleaned text string built off of the original tweet"
   ]
  },
  {
   "cell_type": "code",
   "execution_count": 28,
   "id": "9e4fd93a",
   "metadata": {
    "ExecuteTime": {
     "end_time": "2022-05-10T22:33:16.783315Z",
     "start_time": "2022-05-10T22:33:15.407387Z"
    }
   },
   "outputs": [],
   "source": [
    "data_df['stemmed_text'] = data_df['text'].map(lambda x:doc_preparer(x,stem=True))"
   ]
  },
  {
   "cell_type": "code",
   "execution_count": 29,
   "id": "bfb76f15",
   "metadata": {
    "ExecuteTime": {
     "end_time": "2022-05-10T22:33:18.681868Z",
     "start_time": "2022-05-10T22:33:18.670866Z"
    }
   },
   "outputs": [
    {
     "data": {
      "text/html": [
       "<div>\n",
       "<style scoped>\n",
       "    .dataframe tbody tr th:only-of-type {\n",
       "        vertical-align: middle;\n",
       "    }\n",
       "\n",
       "    .dataframe tbody tr th {\n",
       "        vertical-align: top;\n",
       "    }\n",
       "\n",
       "    .dataframe thead th {\n",
       "        text-align: right;\n",
       "    }\n",
       "</style>\n",
       "<table border=\"1\" class=\"dataframe\">\n",
       "  <thead>\n",
       "    <tr style=\"text-align: right;\">\n",
       "      <th></th>\n",
       "      <th>text</th>\n",
       "      <th>stemmed_text</th>\n",
       "    </tr>\n",
       "  </thead>\n",
       "  <tbody>\n",
       "    <tr>\n",
       "      <th>0</th>\n",
       "      <td>.@wesley83 I have a 3G iPhone. After 3 hrs tweeting at #RISE_Austin, it was dead!  I need to upgrade. Plugin stations at #SXSW.</td>\n",
       "      <td>iphon hr tweet rise dead need upgrad plugin station sxsw</td>\n",
       "    </tr>\n",
       "    <tr>\n",
       "      <th>1</th>\n",
       "      <td>@jessedee Know about @fludapp ? Awesome iPad/iPhone app that you'll likely appreciate for its design. Also, they're giving free Ts at #SXSW</td>\n",
       "      <td>know awesom ipad iphon app like appreci design also they'r give free ts sxsw</td>\n",
       "    </tr>\n",
       "    <tr>\n",
       "      <th>2</th>\n",
       "      <td>@swonderlin Can not wait for #iPad 2 also. They should sale them down at #SXSW.</td>\n",
       "      <td>wait ipad also sale sxsw</td>\n",
       "    </tr>\n",
       "    <tr>\n",
       "      <th>3</th>\n",
       "      <td>@sxsw I hope this year's festival isn't as crashy as this year's iPhone app. #sxsw</td>\n",
       "      <td>hope year' festiv crashi year' iphon app sxsw</td>\n",
       "    </tr>\n",
       "    <tr>\n",
       "      <th>4</th>\n",
       "      <td>@sxtxstate great stuff on Fri #SXSW: Marissa Mayer (Google), Tim O'Reilly (tech books/conferences) &amp;amp; Matt Mullenweg (Wordpress)</td>\n",
       "      <td>great stuff fri sxsw marissa mayer googl tim reilli tech book confer amp matt mullenweg wordpress</td>\n",
       "    </tr>\n",
       "  </tbody>\n",
       "</table>\n",
       "</div>"
      ],
      "text/plain": [
       "                                                                                                                                          text  \\\n",
       "0              .@wesley83 I have a 3G iPhone. After 3 hrs tweeting at #RISE_Austin, it was dead!  I need to upgrade. Plugin stations at #SXSW.   \n",
       "1  @jessedee Know about @fludapp ? Awesome iPad/iPhone app that you'll likely appreciate for its design. Also, they're giving free Ts at #SXSW   \n",
       "2                                                              @swonderlin Can not wait for #iPad 2 also. They should sale them down at #SXSW.   \n",
       "3                                                           @sxsw I hope this year's festival isn't as crashy as this year's iPhone app. #sxsw   \n",
       "4          @sxtxstate great stuff on Fri #SXSW: Marissa Mayer (Google), Tim O'Reilly (tech books/conferences) &amp; Matt Mullenweg (Wordpress)   \n",
       "\n",
       "                                                                                        stemmed_text  \n",
       "0                                           iphon hr tweet rise dead need upgrad plugin station sxsw  \n",
       "1                       know awesom ipad iphon app like appreci design also they'r give free ts sxsw  \n",
       "2                                                                           wait ipad also sale sxsw  \n",
       "3                                                      hope year' festiv crashi year' iphon app sxsw  \n",
       "4  great stuff fri sxsw marissa mayer googl tim reilli tech book confer amp matt mullenweg wordpress  "
      ]
     },
     "execution_count": 29,
     "metadata": {},
     "output_type": "execute_result"
    }
   ],
   "source": [
    "data_df[['text','stemmed_text']].head(5)"
   ]
  },
  {
   "cell_type": "markdown",
   "id": "7c3baaef",
   "metadata": {},
   "source": [
    "### Label Encoding the emotion column"
   ]
  },
  {
   "cell_type": "markdown",
   "id": "6068ac95",
   "metadata": {},
   "source": [
    "To help with our classification models, we shall use a label encoder to encode the target `emotion` into a more computer friendly numerical column"
   ]
  },
  {
   "cell_type": "code",
   "execution_count": 30,
   "id": "b1c279ce",
   "metadata": {
    "ExecuteTime": {
     "end_time": "2022-05-10T22:33:28.738005Z",
     "start_time": "2022-05-10T22:33:28.718001Z"
    }
   },
   "outputs": [
    {
     "data": {
      "text/plain": [
       "array(['Negative emotion', 'No emotion toward brand or product',\n",
       "       'Positive emotion'], dtype=object)"
      ]
     },
     "execution_count": 30,
     "metadata": {},
     "output_type": "execute_result"
    }
   ],
   "source": [
    "le = LabelEncoder()\n",
    "data_df['sentiment_target'] = le.fit_transform(data_df.emotion)\n",
    "le.classes_"
   ]
  },
  {
   "cell_type": "code",
   "execution_count": 31,
   "id": "6903ec0b",
   "metadata": {
    "ExecuteTime": {
     "end_time": "2022-05-10T22:33:28.754009Z",
     "start_time": "2022-05-10T22:33:28.739005Z"
    },
    "scrolled": true
   },
   "outputs": [
    {
     "data": {
      "text/html": [
       "<div>\n",
       "<style scoped>\n",
       "    .dataframe tbody tr th:only-of-type {\n",
       "        vertical-align: middle;\n",
       "    }\n",
       "\n",
       "    .dataframe tbody tr th {\n",
       "        vertical-align: top;\n",
       "    }\n",
       "\n",
       "    .dataframe thead th {\n",
       "        text-align: right;\n",
       "    }\n",
       "</style>\n",
       "<table border=\"1\" class=\"dataframe\">\n",
       "  <thead>\n",
       "    <tr style=\"text-align: right;\">\n",
       "      <th></th>\n",
       "      <th>emotion</th>\n",
       "      <th>sentiment_target</th>\n",
       "    </tr>\n",
       "  </thead>\n",
       "  <tbody>\n",
       "    <tr>\n",
       "      <th>0</th>\n",
       "      <td>Negative emotion</td>\n",
       "      <td>0</td>\n",
       "    </tr>\n",
       "    <tr>\n",
       "      <th>1</th>\n",
       "      <td>Positive emotion</td>\n",
       "      <td>2</td>\n",
       "    </tr>\n",
       "    <tr>\n",
       "      <th>2</th>\n",
       "      <td>Positive emotion</td>\n",
       "      <td>2</td>\n",
       "    </tr>\n",
       "    <tr>\n",
       "      <th>3</th>\n",
       "      <td>Negative emotion</td>\n",
       "      <td>0</td>\n",
       "    </tr>\n",
       "    <tr>\n",
       "      <th>4</th>\n",
       "      <td>Positive emotion</td>\n",
       "      <td>2</td>\n",
       "    </tr>\n",
       "    <tr>\n",
       "      <th>5</th>\n",
       "      <td>No emotion toward brand or product</td>\n",
       "      <td>1</td>\n",
       "    </tr>\n",
       "    <tr>\n",
       "      <th>7</th>\n",
       "      <td>Positive emotion</td>\n",
       "      <td>2</td>\n",
       "    </tr>\n",
       "    <tr>\n",
       "      <th>8</th>\n",
       "      <td>Positive emotion</td>\n",
       "      <td>2</td>\n",
       "    </tr>\n",
       "    <tr>\n",
       "      <th>9</th>\n",
       "      <td>Positive emotion</td>\n",
       "      <td>2</td>\n",
       "    </tr>\n",
       "    <tr>\n",
       "      <th>10</th>\n",
       "      <td>Positive emotion</td>\n",
       "      <td>2</td>\n",
       "    </tr>\n",
       "  </tbody>\n",
       "</table>\n",
       "</div>"
      ],
      "text/plain": [
       "                               emotion  sentiment_target\n",
       "0                     Negative emotion                 0\n",
       "1                     Positive emotion                 2\n",
       "2                     Positive emotion                 2\n",
       "3                     Negative emotion                 0\n",
       "4                     Positive emotion                 2\n",
       "5   No emotion toward brand or product                 1\n",
       "7                     Positive emotion                 2\n",
       "8                     Positive emotion                 2\n",
       "9                     Positive emotion                 2\n",
       "10                    Positive emotion                 2"
      ]
     },
     "execution_count": 31,
     "metadata": {},
     "output_type": "execute_result"
    }
   ],
   "source": [
    "data_df[['emotion', 'sentiment_target']].head(10)"
   ]
  },
  {
   "cell_type": "markdown",
   "id": "6adb46d4",
   "metadata": {},
   "source": [
    "# Train-Test-Split"
   ]
  },
  {
   "cell_type": "code",
   "execution_count": 32,
   "id": "fe31240d",
   "metadata": {
    "ExecuteTime": {
     "end_time": "2022-05-10T22:33:28.770012Z",
     "start_time": "2022-05-10T22:33:28.755009Z"
    }
   },
   "outputs": [],
   "source": [
    "X = data_df['stemmed_text']\n",
    "y = data_df['sentiment_target']\n",
    "\n",
    "X_train, X_test, y_train, y_test = train_test_split(X,y,test_size = 0.3)"
   ]
  },
  {
   "cell_type": "markdown",
   "id": "ce8a081a",
   "metadata": {},
   "source": [
    "# Modeling"
   ]
  },
  {
   "cell_type": "markdown",
   "id": "96025cae",
   "metadata": {},
   "source": [
    "## `CountVectorizer()` with `MutinomialNB()`"
   ]
  },
  {
   "cell_type": "code",
   "execution_count": 33,
   "id": "ea7be613",
   "metadata": {
    "ExecuteTime": {
     "end_time": "2022-05-10T22:33:43.407002Z",
     "start_time": "2022-05-10T22:33:41.558705Z"
    }
   },
   "outputs": [
    {
     "name": "stderr",
     "output_type": "stream",
     "text": [
      "[Parallel(n_jobs=-2)]: Using backend LokyBackend with 15 concurrent workers.\n"
     ]
    },
    {
     "name": "stdout",
     "output_type": "stream",
     "text": [
      "CV Results\n",
      "================================\n",
      "Accuracy\n",
      "--------------------------------\n",
      "Training accuracy: 0.818\n",
      "Test accuracy:     0.666\n",
      "F-1 Score\n",
      "--------------------------------\n",
      "Training F1 score: 0.723\n",
      "Test F1 score:     0.492\n"
     ]
    },
    {
     "name": "stderr",
     "output_type": "stream",
     "text": [
      "[Parallel(n_jobs=-2)]: Done   5 out of   5 | elapsed:    1.7s finished\n"
     ]
    }
   ],
   "source": [
    "#Pipeline\n",
    "cvec_mnb_model_pipe = Pipeline([\n",
    "    ('cvec',CountVectorizer()),\n",
    "   ('mnb',MultinomialNB()\n",
    "   )\n",
    "])\n",
    "\n",
    "#5 fold Cross Validation\n",
    "cvec_mnb_cvResults = cross_validate(cvec_mnb_model_pipe,\n",
    "                                      X_train,\n",
    "                                      y_train,\n",
    "                                      scoring=('accuracy', 'f1_macro'),\n",
    "                                      cv=5,\n",
    "                                      verbose=1,\n",
    "                                      n_jobs = NB_n_jobs,\n",
    "                                      return_train_score=True)\n",
    "prettyPrintCVScores(cvec_mnb_cvResults)"
   ]
  },
  {
   "cell_type": "markdown",
   "id": "91806569",
   "metadata": {},
   "source": [
    "We can already see some significant overfitting. This might be due to such a small and imbalanced dataset."
   ]
  },
  {
   "cell_type": "markdown",
   "id": "e9053e23",
   "metadata": {},
   "source": [
    "## `TfidfVectorizer()` with `MutinomialNB()`"
   ]
  },
  {
   "cell_type": "code",
   "execution_count": 34,
   "id": "0d8edd1f",
   "metadata": {
    "ExecuteTime": {
     "end_time": "2022-05-10T22:33:44.160914Z",
     "start_time": "2022-05-10T22:33:43.409001Z"
    }
   },
   "outputs": [
    {
     "name": "stderr",
     "output_type": "stream",
     "text": [
      "[Parallel(n_jobs=-2)]: Using backend LokyBackend with 15 concurrent workers.\n"
     ]
    },
    {
     "name": "stdout",
     "output_type": "stream",
     "text": [
      "CV Results\n",
      "================================\n",
      "Accuracy\n",
      "--------------------------------\n",
      "Training accuracy: 0.752\n",
      "Test accuracy:     0.656\n",
      "F-1 Score\n",
      "--------------------------------\n",
      "Training F1 score: 0.493\n",
      "Test F1 score:     0.384\n"
     ]
    },
    {
     "name": "stderr",
     "output_type": "stream",
     "text": [
      "[Parallel(n_jobs=-2)]: Done   5 out of   5 | elapsed:    0.6s finished\n"
     ]
    }
   ],
   "source": [
    "#Pipeline\n",
    "tvec_mnb_model_pipe = Pipeline([\n",
    "    ('tvec',TfidfVectorizer()),\n",
    "   ('mnb',MultinomialNB()\n",
    "   )\n",
    "])\n",
    "\n",
    "#5 fold Cross Validation\n",
    "tvec_mnb_cvResults = cross_validate(tvec_mnb_model_pipe,\n",
    "                                      X_train,\n",
    "                                      y_train,\n",
    "                                      scoring=('accuracy', 'f1_macro'),\n",
    "                                      cv=5,\n",
    "                                      verbose=1,\n",
    "                                      n_jobs = NB_n_jobs,\n",
    "                                      return_train_score=True)\n",
    "prettyPrintCVScores(tvec_mnb_cvResults)"
   ]
  },
  {
   "cell_type": "markdown",
   "id": "2929cb6d",
   "metadata": {},
   "source": [
    "Using a TF-IDF vectorizer improves accuracy but at a major cost to the F1-score"
   ]
  },
  {
   "cell_type": "markdown",
   "id": "18944db7",
   "metadata": {
    "ExecuteTime": {
     "end_time": "2022-05-10T15:48:34.339194Z",
     "start_time": "2022-05-10T15:48:34.330192Z"
    }
   },
   "source": [
    "## `CountVectorizer()` with `RandomForestClassifier()`"
   ]
  },
  {
   "cell_type": "code",
   "execution_count": 35,
   "id": "b1ab4b19",
   "metadata": {
    "ExecuteTime": {
     "end_time": "2022-05-10T22:33:47.847746Z",
     "start_time": "2022-05-10T22:33:44.161914Z"
    }
   },
   "outputs": [
    {
     "name": "stderr",
     "output_type": "stream",
     "text": [
      "[Parallel(n_jobs=-2)]: Using backend LokyBackend with 15 concurrent workers.\n"
     ]
    },
    {
     "name": "stdout",
     "output_type": "stream",
     "text": [
      "CV Results\n",
      "================================\n",
      "Accuracy\n",
      "--------------------------------\n",
      "Training accuracy: 0.992\n",
      "Test accuracy:     0.692\n",
      "F-1 Score\n",
      "--------------------------------\n",
      "Training F1 score: 0.992\n",
      "Test F1 score:     0.519\n"
     ]
    },
    {
     "name": "stderr",
     "output_type": "stream",
     "text": [
      "[Parallel(n_jobs=-2)]: Done   5 out of   5 | elapsed:    3.6s finished\n"
     ]
    }
   ],
   "source": [
    "#Pipeline\n",
    "cvec_rfc_model_pipe = Pipeline([\n",
    "    ('cvec',CountVectorizer()),\n",
    "   ('rfc',RandomForestClassifier(random_state=42)\n",
    "   )\n",
    "])\n",
    "\n",
    "#5 fold Cross Validation\n",
    "cvec_rfc_cvResults = cross_validate(cvec_rfc_model_pipe,\n",
    "                                      X_train,\n",
    "                                      y_train,\n",
    "                                      scoring=('accuracy', 'f1_macro'),\n",
    "                                      cv=5,\n",
    "                                      verbose=1,\n",
    "                                      n_jobs = NB_n_jobs,\n",
    "                                      return_train_score=True)\n",
    "prettyPrintCVScores(cvec_rfc_cvResults)"
   ]
  },
  {
   "cell_type": "markdown",
   "id": "24a16797",
   "metadata": {},
   "source": [
    "This is model is severely overfitting but it performs marginally better than the `MultinomialNB()` model"
   ]
  },
  {
   "cell_type": "markdown",
   "id": "1c219744",
   "metadata": {},
   "source": [
    "## `TfidfVectorizer()` with `RandomForestClassifier()`"
   ]
  },
  {
   "cell_type": "code",
   "execution_count": 36,
   "id": "028754a5",
   "metadata": {
    "ExecuteTime": {
     "end_time": "2022-05-10T22:33:50.304303Z",
     "start_time": "2022-05-10T22:33:47.850748Z"
    }
   },
   "outputs": [
    {
     "name": "stderr",
     "output_type": "stream",
     "text": [
      "[Parallel(n_jobs=-2)]: Using backend LokyBackend with 15 concurrent workers.\n"
     ]
    },
    {
     "name": "stdout",
     "output_type": "stream",
     "text": [
      "CV Results\n",
      "================================\n",
      "Accuracy\n",
      "--------------------------------\n",
      "Training accuracy: 0.992\n",
      "Test accuracy:     0.685\n",
      "F-1 Score\n",
      "--------------------------------\n",
      "Training F1 score: 0.992\n",
      "Test F1 score:     0.506\n"
     ]
    },
    {
     "name": "stderr",
     "output_type": "stream",
     "text": [
      "[Parallel(n_jobs=-2)]: Done   5 out of   5 | elapsed:    2.3s finished\n"
     ]
    }
   ],
   "source": [
    "#Pipeline\n",
    "tvec_rfc_model_pipe = Pipeline([\n",
    "    ('tvec',TfidfVectorizer()),\n",
    "   ('rfc',RandomForestClassifier(random_state=42)\n",
    "   )\n",
    "])\n",
    "\n",
    "#5 fold Cross Validation\n",
    "tvec_rfc_cvResults = cross_validate(tvec_rfc_model_pipe,\n",
    "                                      X_train,\n",
    "                                      y_train,\n",
    "                                      scoring=('accuracy', 'f1_macro'),\n",
    "                                      cv=5,\n",
    "                                      verbose=1,\n",
    "                                      n_jobs = NB_n_jobs,\n",
    "                                      return_train_score=True)\n",
    "prettyPrintCVScores(tvec_rfc_cvResults)"
   ]
  },
  {
   "cell_type": "markdown",
   "id": "744cfd6d",
   "metadata": {},
   "source": [
    "## `CountVectorizer()` with `GradientBoostingClassifier()`"
   ]
  },
  {
   "cell_type": "code",
   "execution_count": 37,
   "id": "a2f6ba3f",
   "metadata": {
    "ExecuteTime": {
     "end_time": "2022-05-10T22:33:52.062702Z",
     "start_time": "2022-05-10T22:33:50.305303Z"
    }
   },
   "outputs": [
    {
     "name": "stderr",
     "output_type": "stream",
     "text": [
      "[Parallel(n_jobs=-2)]: Using backend LokyBackend with 15 concurrent workers.\n"
     ]
    },
    {
     "name": "stdout",
     "output_type": "stream",
     "text": [
      "CV Results\n",
      "================================\n",
      "Accuracy\n",
      "--------------------------------\n",
      "Training accuracy: 0.731\n",
      "Test accuracy:     0.672\n",
      "F-1 Score\n",
      "--------------------------------\n",
      "Training F1 score: 0.561\n",
      "Test F1 score:     0.444\n"
     ]
    },
    {
     "name": "stderr",
     "output_type": "stream",
     "text": [
      "[Parallel(n_jobs=-2)]: Done   5 out of   5 | elapsed:    1.6s finished\n"
     ]
    }
   ],
   "source": [
    "#Pipeline\n",
    "cvec_gbc_model_pipe = Pipeline([\n",
    "    ('cvec',CountVectorizer()),\n",
    "   ('gbc',GradientBoostingClassifier(random_state=42)\n",
    "   )\n",
    "])\n",
    "\n",
    "#5 fold Cross Validation\n",
    "cvec_gbc_cvResults = cross_validate(cvec_gbc_model_pipe,\n",
    "                                      X_train,\n",
    "                                      y_train,\n",
    "                                      scoring=('accuracy', 'f1_macro'),\n",
    "                                      cv=5,\n",
    "                                      verbose=1,\n",
    "                                      n_jobs = NB_n_jobs,\n",
    "                                      return_train_score=True)\n",
    "prettyPrintCVScores(cvec_gbc_cvResults)"
   ]
  },
  {
   "cell_type": "markdown",
   "id": "aa965e30",
   "metadata": {},
   "source": [
    "## `TfidfVectorizer()` with `GradientBoostingClassifier()`"
   ]
  },
  {
   "cell_type": "code",
   "execution_count": 38,
   "id": "21bdded6",
   "metadata": {
    "ExecuteTime": {
     "end_time": "2022-05-10T22:33:55.680523Z",
     "start_time": "2022-05-10T22:33:52.063703Z"
    }
   },
   "outputs": [
    {
     "name": "stderr",
     "output_type": "stream",
     "text": [
      "[Parallel(n_jobs=-2)]: Using backend LokyBackend with 15 concurrent workers.\n"
     ]
    },
    {
     "name": "stdout",
     "output_type": "stream",
     "text": [
      "CV Results\n",
      "================================\n",
      "Accuracy\n",
      "--------------------------------\n",
      "Training accuracy: 0.745\n",
      "Test accuracy:     0.675\n",
      "F-1 Score\n",
      "--------------------------------\n",
      "Training F1 score: 0.595\n",
      "Test F1 score:     0.462\n"
     ]
    },
    {
     "name": "stderr",
     "output_type": "stream",
     "text": [
      "[Parallel(n_jobs=-2)]: Done   5 out of   5 | elapsed:    3.5s finished\n"
     ]
    }
   ],
   "source": [
    "#Pipeline\n",
    "tvec_gbc_model_pipe = Pipeline([\n",
    "    ('tvec',TfidfVectorizer()),\n",
    "   ('gbc',GradientBoostingClassifier(random_state=42)\n",
    "   )\n",
    "])\n",
    "\n",
    "#5 fold Cross Validation\n",
    "tvec_gbc_cvResults = cross_validate(tvec_gbc_model_pipe,\n",
    "                                      X_train,\n",
    "                                      y_train,\n",
    "                                      scoring=('accuracy', 'f1_macro'),\n",
    "                                      cv=5,\n",
    "                                      verbose=1,\n",
    "                                      n_jobs = NB_n_jobs,\n",
    "                                      return_train_score=True)\n",
    "prettyPrintCVScores(tvec_gbc_cvResults)"
   ]
  },
  {
   "cell_type": "code",
   "execution_count": null,
   "id": "6efc0c7a",
   "metadata": {},
   "outputs": [],
   "source": []
  },
  {
   "cell_type": "markdown",
   "id": "0ec7f266",
   "metadata": {},
   "source": [
    "## `CountVectorizer()` with `XGBRFClassifier()`"
   ]
  },
  {
   "cell_type": "code",
   "execution_count": 39,
   "id": "85ceae97",
   "metadata": {
    "ExecuteTime": {
     "end_time": "2022-05-10T22:33:57.626821Z",
     "start_time": "2022-05-10T22:33:55.681523Z"
    }
   },
   "outputs": [
    {
     "name": "stderr",
     "output_type": "stream",
     "text": [
      "[Parallel(n_jobs=-2)]: Using backend LokyBackend with 15 concurrent workers.\n"
     ]
    },
    {
     "name": "stdout",
     "output_type": "stream",
     "text": [
      "CV Results\n",
      "================================\n",
      "Accuracy\n",
      "--------------------------------\n",
      "Training accuracy: 0.670\n",
      "Test accuracy:     0.646\n",
      "F-1 Score\n",
      "--------------------------------\n",
      "Training F1 score: 0.425\n",
      "Test F1 score:     0.370\n"
     ]
    },
    {
     "name": "stderr",
     "output_type": "stream",
     "text": [
      "[Parallel(n_jobs=-2)]: Done   5 out of   5 | elapsed:    1.8s finished\n"
     ]
    }
   ],
   "source": [
    "#Pipeline\n",
    "cvec_xgb_model_pipe = Pipeline([\n",
    "    ('cvec',CountVectorizer()),\n",
    "   ('xgb',xgboost.XGBRFClassifier(random_state=42)\n",
    "   )\n",
    "])\n",
    "\n",
    "#5 fold Cross Validation\n",
    "cvec_xgb_cvResults = cross_validate(cvec_xgb_model_pipe,\n",
    "                                      X_train,\n",
    "                                      y_train,\n",
    "                                      scoring=('accuracy', 'f1_macro'),\n",
    "                                      cv=5,\n",
    "                                      verbose=1,\n",
    "                                      n_jobs = NB_n_jobs,\n",
    "                                      return_train_score=True)\n",
    "prettyPrintCVScores(cvec_xgb_cvResults)"
   ]
  },
  {
   "cell_type": "markdown",
   "id": "64959ab8",
   "metadata": {},
   "source": [
    "## `TfidfVectorizer()` with `XGBRFClassifier()`"
   ]
  },
  {
   "cell_type": "code",
   "execution_count": 40,
   "id": "0f5e0017",
   "metadata": {
    "ExecuteTime": {
     "end_time": "2022-05-10T22:34:01.621727Z",
     "start_time": "2022-05-10T22:33:57.628821Z"
    },
    "scrolled": true
   },
   "outputs": [
    {
     "name": "stderr",
     "output_type": "stream",
     "text": [
      "[Parallel(n_jobs=-2)]: Using backend LokyBackend with 15 concurrent workers.\n"
     ]
    },
    {
     "name": "stdout",
     "output_type": "stream",
     "text": [
      "CV Results\n",
      "================================\n",
      "Accuracy\n",
      "--------------------------------\n",
      "Training accuracy: 0.689\n",
      "Test accuracy:     0.648\n",
      "F-1 Score\n",
      "--------------------------------\n",
      "Training F1 score: 0.467\n",
      "Test F1 score:     0.384\n"
     ]
    },
    {
     "name": "stderr",
     "output_type": "stream",
     "text": [
      "[Parallel(n_jobs=-2)]: Done   5 out of   5 | elapsed:    3.9s finished\n"
     ]
    }
   ],
   "source": [
    "#Pipeline\n",
    "tvec_xgb_model_pipe = Pipeline([\n",
    "    ('tvec',TfidfVectorizer()),\n",
    "   ('gbc',xgboost.XGBRFClassifier(random_state=42)\n",
    "   )\n",
    "])\n",
    "\n",
    "#5 fold Cross Validation\n",
    "tvec_xgb_cvResults = cross_validate(tvec_xgb_model_pipe,\n",
    "                                      X_train,\n",
    "                                      y_train,\n",
    "                                      scoring=('accuracy', 'f1_macro'),\n",
    "                                      cv=5,\n",
    "                                      verbose=1,\n",
    "                                      n_jobs = NB_n_jobs,\n",
    "                                      return_train_score=True)\n",
    "prettyPrintCVScores(tvec_xgb_cvResults)"
   ]
  },
  {
   "cell_type": "markdown",
   "id": "cd07c542",
   "metadata": {
    "ExecuteTime": {
     "end_time": "2022-05-10T21:32:16.675935Z",
     "start_time": "2022-05-10T21:32:16.665932Z"
    }
   },
   "source": [
    "# Hypertuning best model"
   ]
  },
  {
   "cell_type": "markdown",
   "id": "8f74b29e",
   "metadata": {},
   "source": [
    "Our count vectorized > random forest model worked best. Hypertuning it"
   ]
  },
  {
   "cell_type": "code",
   "execution_count": 41,
   "id": "7b09510e",
   "metadata": {
    "ExecuteTime": {
     "end_time": "2022-05-10T22:36:28.712812Z",
     "start_time": "2022-05-10T22:34:01.622727Z"
    },
    "scrolled": false
   },
   "outputs": [
    {
     "data": {
      "text/html": [
       "<div>\n",
       "<style scoped>\n",
       "    .dataframe tbody tr th:only-of-type {\n",
       "        vertical-align: middle;\n",
       "    }\n",
       "\n",
       "    .dataframe tbody tr th {\n",
       "        vertical-align: top;\n",
       "    }\n",
       "\n",
       "    .dataframe thead th {\n",
       "        text-align: right;\n",
       "    }\n",
       "</style>\n",
       "<table border=\"1\" class=\"dataframe\">\n",
       "  <thead>\n",
       "    <tr style=\"text-align: right;\">\n",
       "      <th></th>\n",
       "      <th>Mean Test Accuracy</th>\n",
       "      <th>Mean Test Precision (macro)</th>\n",
       "      <th>Mean Test Recall (macro)</th>\n",
       "      <th>Mean Test F1-Score (macro)</th>\n",
       "      <th>param_rfc__criterion</th>\n",
       "      <th>param_rfc__max_depth</th>\n",
       "      <th>param_rfc__n_estimators</th>\n",
       "    </tr>\n",
       "    <tr>\n",
       "      <th>Rank (By Accuracy)</th>\n",
       "      <th></th>\n",
       "      <th></th>\n",
       "      <th></th>\n",
       "      <th></th>\n",
       "      <th></th>\n",
       "      <th></th>\n",
       "      <th></th>\n",
       "    </tr>\n",
       "  </thead>\n",
       "  <tbody>\n",
       "    <tr>\n",
       "      <th>1</th>\n",
       "      <td>0.6932</td>\n",
       "      <td>0.6939</td>\n",
       "      <td>0.4886</td>\n",
       "      <td>0.5149</td>\n",
       "      <td>gini</td>\n",
       "      <td>150</td>\n",
       "      <td>100</td>\n",
       "    </tr>\n",
       "    <tr>\n",
       "      <th>2</th>\n",
       "      <td>0.6931</td>\n",
       "      <td>0.6869</td>\n",
       "      <td>0.4878</td>\n",
       "      <td>0.5134</td>\n",
       "      <td>gini</td>\n",
       "      <td>150</td>\n",
       "      <td>50</td>\n",
       "    </tr>\n",
       "    <tr>\n",
       "      <th>3</th>\n",
       "      <td>0.6927</td>\n",
       "      <td>0.6916</td>\n",
       "      <td>0.4871</td>\n",
       "      <td>0.5129</td>\n",
       "      <td>gini</td>\n",
       "      <td>150</td>\n",
       "      <td>200</td>\n",
       "    </tr>\n",
       "    <tr>\n",
       "      <th>4</th>\n",
       "      <td>0.6922</td>\n",
       "      <td>0.6758</td>\n",
       "      <td>0.4883</td>\n",
       "      <td>0.5136</td>\n",
       "      <td>gini</td>\n",
       "      <td>170</td>\n",
       "      <td>200</td>\n",
       "    </tr>\n",
       "    <tr>\n",
       "      <th>5</th>\n",
       "      <td>0.6921</td>\n",
       "      <td>0.6879</td>\n",
       "      <td>0.4883</td>\n",
       "      <td>0.5146</td>\n",
       "      <td>gini</td>\n",
       "      <td>160</td>\n",
       "      <td>200</td>\n",
       "    </tr>\n",
       "    <tr>\n",
       "      <th>...</th>\n",
       "      <td>...</td>\n",
       "      <td>...</td>\n",
       "      <td>...</td>\n",
       "      <td>...</td>\n",
       "      <td>...</td>\n",
       "      <td>...</td>\n",
       "      <td>...</td>\n",
       "    </tr>\n",
       "    <tr>\n",
       "      <th>76</th>\n",
       "      <td>0.6836</td>\n",
       "      <td>0.6684</td>\n",
       "      <td>0.4852</td>\n",
       "      <td>0.5114</td>\n",
       "      <td>entropy</td>\n",
       "      <td>170</td>\n",
       "      <td>100</td>\n",
       "    </tr>\n",
       "    <tr>\n",
       "      <th>77</th>\n",
       "      <td>0.6834</td>\n",
       "      <td>0.6729</td>\n",
       "      <td>0.4747</td>\n",
       "      <td>0.4979</td>\n",
       "      <td>entropy</td>\n",
       "      <td>100</td>\n",
       "      <td>50</td>\n",
       "    </tr>\n",
       "    <tr>\n",
       "      <th>78</th>\n",
       "      <td>0.6831</td>\n",
       "      <td>0.6670</td>\n",
       "      <td>0.4817</td>\n",
       "      <td>0.5067</td>\n",
       "      <td>entropy</td>\n",
       "      <td>150</td>\n",
       "      <td>50</td>\n",
       "    </tr>\n",
       "    <tr>\n",
       "      <th>79</th>\n",
       "      <td>0.6831</td>\n",
       "      <td>0.6574</td>\n",
       "      <td>0.4846</td>\n",
       "      <td>0.5098</td>\n",
       "      <td>entropy</td>\n",
       "      <td>170</td>\n",
       "      <td>50</td>\n",
       "    </tr>\n",
       "    <tr>\n",
       "      <th>80</th>\n",
       "      <td>0.6826</td>\n",
       "      <td>0.6648</td>\n",
       "      <td>0.4787</td>\n",
       "      <td>0.5025</td>\n",
       "      <td>entropy</td>\n",
       "      <td>130</td>\n",
       "      <td>50</td>\n",
       "    </tr>\n",
       "  </tbody>\n",
       "</table>\n",
       "<p>80 rows × 7 columns</p>\n",
       "</div>"
      ],
      "text/plain": [
       "                   Mean Test Accuracy Mean Test Precision (macro)  \\\n",
       "Rank (By Accuracy)                                                  \n",
       "1                              0.6932                      0.6939   \n",
       "2                              0.6931                      0.6869   \n",
       "3                              0.6927                      0.6916   \n",
       "4                              0.6922                      0.6758   \n",
       "5                              0.6921                      0.6879   \n",
       "...                               ...                         ...   \n",
       "76                             0.6836                      0.6684   \n",
       "77                             0.6834                      0.6729   \n",
       "78                             0.6831                      0.6670   \n",
       "79                             0.6831                      0.6574   \n",
       "80                             0.6826                      0.6648   \n",
       "\n",
       "                   Mean Test Recall (macro) Mean Test F1-Score (macro)  \\\n",
       "Rank (By Accuracy)                                                       \n",
       "1                                    0.4886                     0.5149   \n",
       "2                                    0.4878                     0.5134   \n",
       "3                                    0.4871                     0.5129   \n",
       "4                                    0.4883                     0.5136   \n",
       "5                                    0.4883                     0.5146   \n",
       "...                                     ...                        ...   \n",
       "76                                   0.4852                     0.5114   \n",
       "77                                   0.4747                     0.4979   \n",
       "78                                   0.4817                     0.5067   \n",
       "79                                   0.4846                     0.5098   \n",
       "80                                   0.4787                     0.5025   \n",
       "\n",
       "                   param_rfc__criterion param_rfc__max_depth  \\\n",
       "Rank (By Accuracy)                                             \n",
       "1                                  gini                  150   \n",
       "2                                  gini                  150   \n",
       "3                                  gini                  150   \n",
       "4                                  gini                  170   \n",
       "5                                  gini                  160   \n",
       "...                                 ...                  ...   \n",
       "76                              entropy                  170   \n",
       "77                              entropy                  100   \n",
       "78                              entropy                  150   \n",
       "79                              entropy                  170   \n",
       "80                              entropy                  130   \n",
       "\n",
       "                   param_rfc__n_estimators  \n",
       "Rank (By Accuracy)                          \n",
       "1                                      100  \n",
       "2                                       50  \n",
       "3                                      200  \n",
       "4                                      200  \n",
       "5                                      200  \n",
       "...                                    ...  \n",
       "76                                     100  \n",
       "77                                      50  \n",
       "78                                      50  \n",
       "79                                      50  \n",
       "80                                      50  \n",
       "\n",
       "[80 rows x 7 columns]"
      ]
     },
     "execution_count": 41,
     "metadata": {},
     "output_type": "execute_result"
    }
   ],
   "source": [
    "params = {}\n",
    "params['rfc__criterion'] = ['gini','entropy']\n",
    "params['rfc__n_estimators'] = np.arange(50,250,50)\n",
    "params['rfc__max_depth'] = np.arange(100,200,10)\n",
    "# params['rfc__max_leaf_nodes']=[4000,4500,5000]\n",
    "\n",
    "cvec_rfc_model_pipe = Pipeline([\n",
    "    ('cvec',CountVectorizer()),\n",
    "   ('rfc',RandomForestClassifier(random_state=42)\n",
    "   )\n",
    "])\n",
    "\n",
    "cvec_rfc_gs = GridSearchCV(estimator=cvec_rfc_model_pipe,\n",
    "                           param_grid=params,\n",
    "                           n_jobs=NB_n_jobs,\n",
    "                           scoring=[ 'accuracy','precision_macro','recall_macro','f1_macro'],\n",
    "                           refit='accuracy',\n",
    "                           return_train_score=True)\n",
    "\n",
    "cvec_rfc_gs.fit(X_train,y_train)\n",
    "prettyPrintGridCVResults(cvec_rfc_gs)"
   ]
  },
  {
   "cell_type": "code",
   "execution_count": 42,
   "id": "1ac3924c",
   "metadata": {
    "ExecuteTime": {
     "end_time": "2022-05-10T22:36:28.824837Z",
     "start_time": "2022-05-10T22:36:28.714813Z"
    }
   },
   "outputs": [
    {
     "name": "stdout",
     "output_type": "stream",
     "text": [
      "              precision    recall  f1-score   support\n",
      "\n",
      "           0       0.66      0.22      0.33       180\n",
      "           1       0.70      0.88      0.78      1537\n",
      "           2       0.67      0.45      0.54       854\n",
      "\n",
      "    accuracy                           0.69      2571\n",
      "   macro avg       0.68      0.51      0.55      2571\n",
      "weighted avg       0.68      0.69      0.67      2571\n",
      "\n"
     ]
    }
   ],
   "source": [
    "cr = classification_report(y_test, cvec_rfc_gs.best_estimator_.predict(X_test))\n",
    "print(cr)"
   ]
  },
  {
   "cell_type": "markdown",
   "id": "fdf30a3e",
   "metadata": {},
   "source": [
    "Overall accuracy is around 69% with an F1-Score of 67%"
   ]
  },
  {
   "cell_type": "code",
   "execution_count": 43,
   "id": "bf0733eb",
   "metadata": {
    "ExecuteTime": {
     "end_time": "2022-05-10T22:36:28.935866Z",
     "start_time": "2022-05-10T22:36:28.825837Z"
    }
   },
   "outputs": [],
   "source": [
    "cm = confusion_matrix(y_test, cvec_rfc_gs.best_estimator_.predict(X_test))"
   ]
  },
  {
   "cell_type": "code",
   "execution_count": 46,
   "id": "a153b9ec",
   "metadata": {
    "ExecuteTime": {
     "end_time": "2022-05-10T22:37:22.924830Z",
     "start_time": "2022-05-10T22:37:22.703958Z"
    }
   },
   "outputs": [
    {
     "data": {
      "image/png": "[encoded data removed]",
      "text/plain": [
       "<Figure size 720x720 with 2 Axes>"
      ]
     },
     "metadata": {
      "needs_background": "light"
     },
     "output_type": "display_data"
    }
   ],
   "source": [
    "fig, ax = plt.subplots(figsize=(10,10))\n",
    "disp = ConfusionMatrixDisplay.from_estimator(\n",
    "        cvec_rfc_gs.best_estimator_,\n",
    "        X_test,\n",
    "        y_test,\n",
    "        display_labels=le.classes_,\n",
    "        cmap='OrRd',\n",
    "        normalize='true',\n",
    "        ax=ax\n",
    "       ).ax_.set_title('Normalized Confusion Matrix')"
   ]
  },
  {
   "cell_type": "markdown",
   "id": "6e935e6a",
   "metadata": {},
   "source": [
    "As can be seen our model has a long way to go. Currently the model performs its worst with clasiffying `Negative emotion` and best at `No emotion toward brand or product`. This is primarily due to a heavy imbalance in the classes.\n",
    "Techniques to over come the imbalance will need to be employed."
   ]
  },
  {
   "cell_type": "markdown",
   "id": "48cc592c",
   "metadata": {
    "ExecuteTime": {
     "end_time": "2022-05-10T21:53:11.957407Z",
     "start_time": "2022-05-10T21:53:11.948405Z"
    }
   },
   "source": [
    "# Future Steps"
   ]
  },
  {
   "cell_type": "markdown",
   "id": "e19db020",
   "metadata": {},
   "source": [
    "Potential upsampling techniques to be utilised:\n",
    "- Backtranslation on minority sample to augment the training set\n",
    "- Synonymising the minority sample to augment the training set\n",
    "- SMOTEing the the minority sample to augment the training set"
   ]
  },
  {
   "cell_type": "code",
   "execution_count": null,
   "id": "5d6e305e",
   "metadata": {},
   "outputs": [],
   "source": []
  }
 ],
 "metadata": {
  "kernelspec": {
   "display_name": "tfGPU",
   "language": "python",
   "name": "tfgpu"
  },
  "language_info": {
   "codemirror_mode": {
    "name": "ipython",
    "version": 3
   },
   "file_extension": ".py",
   "mimetype": "text/x-python",
   "name": "python",
   "nbconvert_exporter": "python",
   "pygments_lexer": "ipython3",
   "version": "3.9.12"
  },
  "toc": {
   "base_numbering": 1,
   "nav_menu": {},
   "number_sections": true,
   "sideBar": true,
   "skip_h1_title": false,
   "title_cell": "Table of Contents",
   "title_sidebar": "Contents",
   "toc_cell": false,
   "toc_position": {
    "height": "calc(100% - 180px)",
    "left": "10px",
    "top": "150px",
    "width": "450px"
   },
   "toc_section_display": true,
   "toc_window_display": true
  },
  "varInspector": {
   "cols": {
    "lenName": 16,
    "lenType": 16,
    "lenVar": 40
   },
   "kernels_config": {
    "python": {
     "delete_cmd_postfix": "",
     "delete_cmd_prefix": "del ",
     "library": "var_list.py",
     "varRefreshCmd": "print(var_dic_list())"
    },
    "r": {
     "delete_cmd_postfix": ") ",
     "delete_cmd_prefix": "rm(",
     "library": "var_list.r",
     "varRefreshCmd": "cat(var_dic_list()) "
    }
   },
   "types_to_exclude": [
    "module",
    "function",
    "builtin_function_or_method",
    "instance",
    "_Feature"
   ],
   "window_display": false
  }
 },
 "nbformat": 4,
 "nbformat_minor": 5
}
