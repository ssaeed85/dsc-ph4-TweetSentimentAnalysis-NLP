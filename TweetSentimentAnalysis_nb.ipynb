{
 "cells": [
  {
   "cell_type": "markdown",
   "metadata": {},
   "source": [
    "![img](./images/SplashHeader.png)"
   ]
  },
  {
   "cell_type": "markdown",
   "metadata": {},
   "source": [
    "# Imports"
   ]
  },
  {
   "cell_type": "code",
   "execution_count": 1,
   "metadata": {
    "ExecuteTime": {
     "end_time": "2022-05-12T14:28:43.595130Z",
     "start_time": "2022-05-12T14:28:41.614858Z"
    }
   },
   "outputs": [],
   "source": [
    "import pandas as pd\n",
    "pd.options.display.max_columns = 50   # max number of displayed columns\n",
    "pd.options.display.max_colwidth = 280 # max width of a column. Set to 280 to match with max tweet length\n",
    "\n",
    "import matplotlib.pyplot as plt\n",
    "\n",
    "import random\n",
    "random.seed(42)\n",
    "\n",
    "import numpy as np\n",
    "np.random.RandomState(42)\n",
    "\n",
    "from sklearn.feature_extraction.text import TfidfVectorizer, CountVectorizer\n",
    "from sklearn.ensemble import RandomForestClassifier, GradientBoostingClassifier\n",
    "from sklearn.naive_bayes import MultinomialNB\n",
    "from sklearn.metrics import confusion_matrix, classification_report,ConfusionMatrixDisplay\n",
    "from sklearn.pipeline import Pipeline\n",
    "from sklearn.preprocessing import LabelEncoder\n",
    "from sklearn.model_selection import train_test_split, cross_validate, GridSearchCV\n",
    "from sklearn.dummy import DummyClassifier\n",
    "\n",
    "\n",
    "from nltk.corpus import stopwords\n",
    "sw = stopwords.words('english')\n",
    "\n",
    "\n",
    "import xgboost\n",
    "# from imblearn.over_sampling import SMOTE \n",
    "\n"
   ]
  },
  {
   "cell_type": "code",
   "execution_count": 2,
   "metadata": {
    "ExecuteTime": {
     "end_time": "2022-05-12T14:28:43.611086Z",
     "start_time": "2022-05-12T14:28:43.597124Z"
    }
   },
   "outputs": [],
   "source": [
    "## Uncomment below and run if you nltk throws up errors\n",
    "#nltk.download('omw-1.4')"
   ]
  },
  {
   "cell_type": "markdown",
   "metadata": {},
   "source": [
    "### Helper Functions"
   ]
  },
  {
   "cell_type": "code",
   "execution_count": 3,
   "metadata": {
    "ExecuteTime": {
     "end_time": "2022-05-12T14:28:43.642004Z",
     "start_time": "2022-05-12T14:28:43.617073Z"
    }
   },
   "outputs": [],
   "source": [
    "#Additional Helper functions can be found in 'src/'\n",
    "\n",
    "import sys\n",
    "sys.path.append( 'src' )\n",
    "from pandas_functions import dataFrame_info\n",
    "from documentParser import doc_preparer , getTopWordFreq \n",
    "from modelingResultPrettyPrinter import prettyPrintGridCVResults, prettyPrintCVScores"
   ]
  },
  {
   "cell_type": "markdown",
   "metadata": {},
   "source": [
    "### Note: n_jobs"
   ]
  },
  {
   "cell_type": "markdown",
   "metadata": {},
   "source": [
    "**Note:** To speed up running of model fit cells, the n_jobs parameter is set to a global variable. This can be set to -1 to allow access to the entirety of your machine's CPU resources for operations in this notebook (where applicable). This ***will*** make your machine essentially unusable until the operations have finished performing. Set this to None for regular operations"
   ]
  },
  {
   "cell_type": "code",
   "execution_count": 4,
   "metadata": {
    "ExecuteTime": {
     "end_time": "2022-05-12T14:28:43.656995Z",
     "start_time": "2022-05-12T14:28:43.643998Z"
    }
   },
   "outputs": [],
   "source": [
    "NB_n_jobs = -2"
   ]
  },
  {
   "cell_type": "markdown",
   "metadata": {
    "ExecuteTime": {
     "end_time": "2022-05-10T19:29:12.698541Z",
     "start_time": "2022-05-10T19:29:12.694541Z"
    }
   },
   "source": [
    "# Data: Loading, Cleaning, and Munging"
   ]
  },
  {
   "cell_type": "markdown",
   "metadata": {},
   "source": [
    "## Describe data here!!!!"
   ]
  },
  {
   "cell_type": "markdown",
   "metadata": {},
   "source": [
    "This dataset is a subset of webscraped twitter data that was gathered (presumably) at the SXSW festival that is held annually at Austin, Texas. It is self described as a meeting of music, tech and film.\n",
    "\n",
    "\n",
    "This data was gathered from CrowdFlower. Per CrowdFlower's website for this dataset:"
   ]
  },
  {
   "cell_type": "markdown",
   "metadata": {},
   "source": [
    "Description:\n",
    ">Judge Emotion About Brands and Products\n",
    "\n",
    "Summary:\n",
    ">Contributors evaluated tweets about multiple brands and products. The crowd was asked if the tweet expressed positive, negative, or no emotion towards a brand and/or product. If some emotion was expressed they were also asked to say which brand or product was the target of that emotion. Added: August 30, 2013 by Kent Cavender-Bares | Data Rows: 9093 Download Now\n",
    "\n",
    "Source:\n",
    "https://www.crowdflower.com/data-for-everyone/"
   ]
  },
  {
   "cell_type": "markdown",
   "metadata": {
    "ExecuteTime": {
     "end_time": "2022-05-10T19:29:12.698541Z",
     "start_time": "2022-05-10T19:29:12.694541Z"
    }
   },
   "source": [
    "## Loading"
   ]
  },
  {
   "cell_type": "code",
   "execution_count": 5,
   "metadata": {
    "ExecuteTime": {
     "end_time": "2022-05-12T14:28:43.703925Z",
     "start_time": "2022-05-12T14:28:43.659957Z"
    }
   },
   "outputs": [],
   "source": [
    "dataFolder_path = 'data/'\n",
    "data_df = pd.read_csv(dataFolder_path+'judge_1377884607_tweet_product_company.csv')"
   ]
  },
  {
   "cell_type": "code",
   "execution_count": 6,
   "metadata": {
    "ExecuteTime": {
     "end_time": "2022-05-12T14:28:43.735840Z",
     "start_time": "2022-05-12T14:28:43.706949Z"
    },
    "scrolled": false
   },
   "outputs": [
    {
     "data": {
      "text/html": [
       "<div>\n",
       "<style scoped>\n",
       "    .dataframe tbody tr th:only-of-type {\n",
       "        vertical-align: middle;\n",
       "    }\n",
       "\n",
       "    .dataframe tbody tr th {\n",
       "        vertical-align: top;\n",
       "    }\n",
       "\n",
       "    .dataframe thead th {\n",
       "        text-align: right;\n",
       "    }\n",
       "</style>\n",
       "<table border=\"1\" class=\"dataframe\">\n",
       "  <thead>\n",
       "    <tr style=\"text-align: right;\">\n",
       "      <th></th>\n",
       "      <th>tweet_text</th>\n",
       "      <th>emotion_in_tweet_is_directed_at</th>\n",
       "      <th>is_there_an_emotion_directed_at_a_brand_or_product</th>\n",
       "    </tr>\n",
       "  </thead>\n",
       "  <tbody>\n",
       "    <tr>\n",
       "      <th>0</th>\n",
       "      <td>.@wesley83 I have a 3G iPhone. After 3 hrs tweeting at #RISE_Austin, it was dead!  I need to upgrade. Plugin stations at #SXSW.</td>\n",
       "      <td>iPhone</td>\n",
       "      <td>Negative emotion</td>\n",
       "    </tr>\n",
       "    <tr>\n",
       "      <th>1</th>\n",
       "      <td>@jessedee Know about @fludapp ? Awesome iPad/iPhone app that you'll likely appreciate for its design. Also, they're giving free Ts at #SXSW</td>\n",
       "      <td>iPad or iPhone App</td>\n",
       "      <td>Positive emotion</td>\n",
       "    </tr>\n",
       "    <tr>\n",
       "      <th>2</th>\n",
       "      <td>@swonderlin Can not wait for #iPad 2 also. They should sale them down at #SXSW.</td>\n",
       "      <td>iPad</td>\n",
       "      <td>Positive emotion</td>\n",
       "    </tr>\n",
       "  </tbody>\n",
       "</table>\n",
       "</div>"
      ],
      "text/plain": [
       "                                                                                                                                    tweet_text  \\\n",
       "0              .@wesley83 I have a 3G iPhone. After 3 hrs tweeting at #RISE_Austin, it was dead!  I need to upgrade. Plugin stations at #SXSW.   \n",
       "1  @jessedee Know about @fludapp ? Awesome iPad/iPhone app that you'll likely appreciate for its design. Also, they're giving free Ts at #SXSW   \n",
       "2                                                              @swonderlin Can not wait for #iPad 2 also. They should sale them down at #SXSW.   \n",
       "\n",
       "  emotion_in_tweet_is_directed_at  \\\n",
       "0                          iPhone   \n",
       "1              iPad or iPhone App   \n",
       "2                            iPad   \n",
       "\n",
       "  is_there_an_emotion_directed_at_a_brand_or_product  \n",
       "0                                   Negative emotion  \n",
       "1                                   Positive emotion  \n",
       "2                                   Positive emotion  "
      ]
     },
     "execution_count": 6,
     "metadata": {},
     "output_type": "execute_result"
    }
   ],
   "source": [
    "data_df.head(3)"
   ]
  },
  {
   "cell_type": "code",
   "execution_count": 7,
   "metadata": {
    "ExecuteTime": {
     "end_time": "2022-05-12T14:28:43.750799Z",
     "start_time": "2022-05-12T14:28:43.739828Z"
    }
   },
   "outputs": [
    {
     "data": {
      "text/plain": [
       "(8721, 3)"
      ]
     },
     "execution_count": 7,
     "metadata": {},
     "output_type": "execute_result"
    }
   ],
   "source": [
    "data_df.shape"
   ]
  },
  {
   "cell_type": "markdown",
   "metadata": {
    "ExecuteTime": {
     "end_time": "2022-05-10T19:29:12.698541Z",
     "start_time": "2022-05-10T19:29:12.694541Z"
    }
   },
   "source": [
    "## Cleaning"
   ]
  },
  {
   "cell_type": "markdown",
   "metadata": {},
   "source": [
    "Let's rename the columns for ease of use. Note that `product` is a reserved word in Python; for the second column, initially titled `emotion_in_tweet_is_directed_at`, we use `product_name`."
   ]
  },
  {
   "cell_type": "code",
   "execution_count": 8,
   "metadata": {
    "ExecuteTime": {
     "end_time": "2022-05-12T14:28:43.766756Z",
     "start_time": "2022-05-12T14:28:43.753792Z"
    }
   },
   "outputs": [],
   "source": [
    "data_df.rename(columns = {'tweet_text': 'text',\n",
    "                          'emotion_in_tweet_is_directed_at': 'product_name',\n",
    "                          'is_there_an_emotion_directed_at_a_brand_or_product': 'emotion'},\n",
    "               inplace = True)"
   ]
  },
  {
   "cell_type": "code",
   "execution_count": 9,
   "metadata": {
    "ExecuteTime": {
     "end_time": "2022-05-12T14:28:43.781751Z",
     "start_time": "2022-05-12T14:28:43.768751Z"
    },
    "scrolled": true
   },
   "outputs": [
    {
     "data": {
      "text/plain": [
       "text               1\n",
       "product_name    5552\n",
       "emotion            0\n",
       "dtype: int64"
      ]
     },
     "execution_count": 9,
     "metadata": {},
     "output_type": "execute_result"
    }
   ],
   "source": [
    "data_df.isna().sum()"
   ]
  },
  {
   "cell_type": "markdown",
   "metadata": {},
   "source": [
    "There is an extremely large number of nulls in `product name`. For the purpose of modeling, the columns we specifically care about are the `text` and `emotion` columns, since we are going to try and predict the emotional quotient of a tweet. Lets look at the one null record."
   ]
  },
  {
   "cell_type": "code",
   "execution_count": 10,
   "metadata": {
    "ExecuteTime": {
     "end_time": "2022-05-12T14:28:43.796677Z",
     "start_time": "2022-05-12T14:28:43.783712Z"
    },
    "scrolled": true
   },
   "outputs": [
    {
     "data": {
      "text/html": [
       "<div>\n",
       "<style scoped>\n",
       "    .dataframe tbody tr th:only-of-type {\n",
       "        vertical-align: middle;\n",
       "    }\n",
       "\n",
       "    .dataframe tbody tr th {\n",
       "        vertical-align: top;\n",
       "    }\n",
       "\n",
       "    .dataframe thead th {\n",
       "        text-align: right;\n",
       "    }\n",
       "</style>\n",
       "<table border=\"1\" class=\"dataframe\">\n",
       "  <thead>\n",
       "    <tr style=\"text-align: right;\">\n",
       "      <th></th>\n",
       "      <th>text</th>\n",
       "      <th>product_name</th>\n",
       "      <th>emotion</th>\n",
       "    </tr>\n",
       "  </thead>\n",
       "  <tbody>\n",
       "    <tr>\n",
       "      <th>6</th>\n",
       "      <td>NaN</td>\n",
       "      <td>NaN</td>\n",
       "      <td>No emotion toward brand or product</td>\n",
       "    </tr>\n",
       "  </tbody>\n",
       "</table>\n",
       "</div>"
      ],
      "text/plain": [
       "  text product_name                             emotion\n",
       "6  NaN          NaN  No emotion toward brand or product"
      ]
     },
     "execution_count": 10,
     "metadata": {},
     "output_type": "execute_result"
    }
   ],
   "source": [
    "data_df[data_df.text.isna()]"
   ]
  },
  {
   "cell_type": "markdown",
   "metadata": {
    "ExecuteTime": {
     "end_time": "2022-05-10T19:44:11.836326Z",
     "start_time": "2022-05-10T19:44:11.824323Z"
    }
   },
   "source": [
    "This record has no relevant information associated with it. No text, no emotion, no product. It was probably captured erroneously, or was probably unintentionally cleared after capturing. In either case, no useful information can be drawn from it. We shall drop this record"
   ]
  },
  {
   "cell_type": "code",
   "execution_count": 11,
   "metadata": {
    "ExecuteTime": {
     "end_time": "2022-05-12T14:28:43.828626Z",
     "start_time": "2022-05-12T14:28:43.799668Z"
    }
   },
   "outputs": [
    {
     "data": {
      "text/plain": [
       "(8720, 3)"
      ]
     },
     "execution_count": 11,
     "metadata": {},
     "output_type": "execute_result"
    }
   ],
   "source": [
    "data_df.dropna(subset=['text'],inplace=True)\n",
    "data_df.shape"
   ]
  },
  {
   "cell_type": "markdown",
   "metadata": {
    "ExecuteTime": {
     "end_time": "2022-05-10T19:29:12.698541Z",
     "start_time": "2022-05-10T19:29:12.694541Z"
    }
   },
   "source": [
    "## Munging"
   ]
  },
  {
   "cell_type": "code",
   "execution_count": 44,
   "metadata": {
    "ExecuteTime": {
     "end_time": "2022-05-12T15:00:03.230903Z",
     "start_time": "2022-05-12T15:00:03.226006Z"
    },
    "scrolled": false
   },
   "outputs": [],
   "source": [
    "# Custom function to show counts of zeroes, nulls, uniques and missing at a glance.\n",
    "# If column is numerical shows Mean and Median\n",
    "\n",
    "# dataFrame_info(data_df)"
   ]
  },
  {
   "cell_type": "markdown",
   "metadata": {},
   "source": [
    "`emotion` only has 4 unique values (classes). A well balanced dataset would go a long way in improving model predictions. Let's get a look of how the target column (`emotion`) is distributed."
   ]
  },
  {
   "cell_type": "code",
   "execution_count": 13,
   "metadata": {
    "ExecuteTime": {
     "end_time": "2022-05-12T14:29:41.868547Z",
     "start_time": "2022-05-12T14:29:41.853587Z"
    },
    "scrolled": true
   },
   "outputs": [
    {
     "name": "stdout",
     "output_type": "stream",
     "text": [
      "Emotion value counts:\n",
      "No emotion toward brand or product    5155\n",
      "Positive emotion                      2869\n",
      "Negative emotion                       545\n",
      "I can't tell                           151\n",
      "Name: emotion, dtype: int64\n"
     ]
    }
   ],
   "source": [
    "print(f\"Emotion value counts:\\n{data_df.emotion.value_counts()}\")"
   ]
  },
  {
   "cell_type": "markdown",
   "metadata": {},
   "source": [
    "There seems to be a significant imbalance in our data especially with 2 of our least represented classes. We can confirm this by normalizing and visualizing the data."
   ]
  },
  {
   "cell_type": "code",
   "execution_count": 14,
   "metadata": {
    "ExecuteTime": {
     "end_time": "2022-05-12T14:29:42.257454Z",
     "start_time": "2022-05-12T14:29:41.871539Z"
    }
   },
   "outputs": [
    {
     "name": "stdout",
     "output_type": "stream",
     "text": [
      "Emotion value counts (normalized):\n",
      "No emotion toward brand or product    0.591170\n",
      "Positive emotion                      0.329014\n",
      "Negative emotion                      0.062500\n",
      "I can't tell                          0.017317\n",
      "Name: emotion, dtype: float64\n"
     ]
    },
    {
     "data": {
      "image/png": "[encoded data removed]",
      "text/plain": [
       "<Figure size 1008x576 with 1 Axes>"
      ]
     },
     "metadata": {
      "needs_background": "light"
     },
     "output_type": "display_data"
    }
   ],
   "source": [
    "fig, ax = plt.subplots(figsize = (14, 8))\n",
    "\n",
    "ax.bar(x = data_df.emotion.value_counts(normalize=True).index,\n",
    "       height = data_df.emotion.value_counts(normalize=True).values,\n",
    "       color = (0.2, 0.4, 0.6, 0.6),\n",
    "       edgecolor = 'black')\n",
    "\n",
    "plt.xticks(fontsize=12,\n",
    "           rotation=10)\n",
    "plt.yticks(fontsize=12)\n",
    "\n",
    "ax.set_xlabel(xlabel=\"Sentiment\",\n",
    "              fontsize=15,\n",
    "              labelpad=14)\n",
    "ax.set_ylabel(ylabel=\"Proportion of documents in corpus\",\n",
    "              fontsize=15,\n",
    "              labelpad=14)\n",
    "ax.set_title(label=\"Distribution of sentiment\",\n",
    "             fontsize=22,\n",
    "             pad=10);\n",
    "\n",
    "\n",
    "\n",
    "print(f\"Emotion value counts (normalized):\\n{data_df.emotion.value_counts(normalize=True)}\")\n",
    "\n",
    "plt.savefig('images/Sentiment_Distribution.jpg',dpi='figure', \n",
    "        bbox_inches='tight', \n",
    "        facecolor='auto', \n",
    "       )"
   ]
  },
  {
   "cell_type": "markdown",
   "metadata": {},
   "source": [
    "`I can't tell` makes up less than 2% of our dataset, and doesn't offer much more information in the way of word significance than the tweets labeled `No emotion toward brand or product`. We will drop records where `emotion` has been recorded as `I can't tell`."
   ]
  },
  {
   "cell_type": "code",
   "execution_count": 15,
   "metadata": {
    "ExecuteTime": {
     "end_time": "2022-05-12T14:29:42.273246Z",
     "start_time": "2022-05-12T14:29:42.259240Z"
    },
    "scrolled": false
   },
   "outputs": [
    {
     "data": {
      "text/plain": [
       "(8569, 3)"
      ]
     },
     "execution_count": 15,
     "metadata": {},
     "output_type": "execute_result"
    }
   ],
   "source": [
    "data_df.drop(\n",
    "    index = data_df[data_df.emotion == \"I can't tell\"].index,\n",
    "    inplace = True)\n",
    "\n",
    "data_df.shape"
   ]
  },
  {
   "cell_type": "markdown",
   "metadata": {},
   "source": [
    "There is still a major imbalance in our dataset. Unfortunately, with a dataset this small, dropping any more records than absolutely necessary is not recommended. \\\n",
    "We may be able to supplement the data set down the line, but for now, we will continue with the dataset as is."
   ]
  },
  {
   "cell_type": "markdown",
   "metadata": {},
   "source": [
    "### StopWords"
   ]
  },
  {
   "cell_type": "markdown",
   "metadata": {},
   "source": [
    "When working with webscraping and social data mining applications, or NLP problems in general, one of the problems that crops up is there is a large number of words that are commonly used. These words (such as 'a', 'are' etc) won't be able to uniquely identify with our `emotion` column since they are so widely used. \\\n",
    "We will be implementing nltk's stopwords module to remove such commonly used english words, here is a few examples of such words."
   ]
  },
  {
   "cell_type": "code",
   "execution_count": 16,
   "metadata": {
    "ExecuteTime": {
     "end_time": "2022-05-12T14:29:42.288204Z",
     "start_time": "2022-05-12T14:29:42.276238Z"
    }
   },
   "outputs": [
    {
     "data": {
      "text/plain": [
       "['i', 'me', 'my', 'myself', 'we', 'our', 'ours', 'ourselves', 'you', \"you're\"]"
      ]
     },
     "execution_count": 16,
     "metadata": {},
     "output_type": "execute_result"
    }
   ],
   "source": [
    "sw[:10]"
   ]
  },
  {
   "cell_type": "markdown",
   "metadata": {},
   "source": [
    "But we can improve upon this. To do so lets have a quick look at the most frequently used words across all tweets."
   ]
  },
  {
   "cell_type": "code",
   "execution_count": 17,
   "metadata": {
    "ExecuteTime": {
     "end_time": "2022-05-12T14:29:42.986290Z",
     "start_time": "2022-05-12T14:29:42.290198Z"
    },
    "scrolled": true
   },
   "outputs": [
    {
     "data": {
      "text/plain": [
       "[('sxsw', 9108),\n",
       " ('link', 4077),\n",
       " ('rt', 2925),\n",
       " ('ipad', 2848),\n",
       " ('google', 2504),\n",
       " ('apple', 2184),\n",
       " ('quot', 1582),\n",
       " ('iphone', 1497),\n",
       " ('store', 1397),\n",
       " ('new', 1057)]"
      ]
     },
     "execution_count": 17,
     "metadata": {},
     "output_type": "execute_result"
    }
   ],
   "source": [
    "# Lower case all text, remove punctuations, ignore stop words, get word frequency\n",
    "getTopWordFreq(data_df,'text',n=10,stop_words = sw)"
   ]
  },
  {
   "cell_type": "code",
   "execution_count": 18,
   "metadata": {
    "ExecuteTime": {
     "end_time": "2022-05-12T14:29:43.991741Z",
     "start_time": "2022-05-12T14:29:42.988286Z"
    }
   },
   "outputs": [
    {
     "data": {
      "image/png": "[encoded data removed]",
      "text/plain": [
       "<Figure size 720x576 with 1 Axes>"
      ]
     },
     "metadata": {
      "needs_background": "light"
     },
     "output_type": "display_data"
    }
   ],
   "source": [
    "# Plot most frequent words\n",
    "fig, ax = plt.subplots(figsize=(10, 8))\n",
    "num_of_bars = 10\n",
    "viz_data = getTopWordFreq(data_df, 'text', n=num_of_bars, stop_words=sw)\n",
    "\n",
    "plt.xticks(fontsize=12,\n",
    "           rotation=20)\n",
    "plt.yticks(fontsize=12)\n",
    "ax.set_title('Word Frequency')\n",
    "\n",
    "ax.bar(x=[word for word, freq in viz_data],\n",
    "       height=[freq for word, freq in viz_data],\n",
    "       color=(0.2, 0.4, 0.6, 0.6),\n",
    "       edgecolor='black');\n",
    "\n",
    "plt.savefig('images/WordFreq_preSW.jpg',dpi='figure', \n",
    "        bbox_inches='tight', \n",
    "        facecolor='auto', \n",
    "       )"
   ]
  },
  {
   "cell_type": "markdown",
   "metadata": {},
   "source": [
    "Just by looking at this, we can see there is a high occurence of \n",
    "- venue specific words such  as `sxsw`\n",
    "- twitter specific words such as `rt`\n",
    "- brand or product specific words such as `iphone`\n",
    "\n",
    "These words probably occur across our various sentiments and may not necessarily add any meaning, unless a majority of their occurence is associated with a particular `emotion`"
   ]
  },
  {
   "cell_type": "markdown",
   "metadata": {},
   "source": [
    "Instead of dropping words that just occur at a high frequency across the entire corpus, we will drop words that occur at a high frequency across our positive _and_ negative emotional quotient."
   ]
  },
  {
   "cell_type": "markdown",
   "metadata": {},
   "source": [
    "This should ensure we don't accidentally remove a word from the corpus that is overall heavily represented but is mostly represented in any 1 `emotion` and helps form a clearer delineation between the two emotions."
   ]
  },
  {
   "cell_type": "code",
   "execution_count": 19,
   "metadata": {
    "ExecuteTime": {
     "end_time": "2022-05-12T14:29:44.007736Z",
     "start_time": "2022-05-12T14:29:43.993773Z"
    }
   },
   "outputs": [],
   "source": [
    "neg_df = data_df[data_df['emotion']=='Negative emotion']\n",
    "pos_df = data_df[data_df['emotion']=='Positive emotion']"
   ]
  },
  {
   "cell_type": "markdown",
   "metadata": {},
   "source": [
    "Sanity Check"
   ]
  },
  {
   "cell_type": "code",
   "execution_count": 20,
   "metadata": {
    "ExecuteTime": {
     "end_time": "2022-05-12T14:29:44.038653Z",
     "start_time": "2022-05-12T14:29:44.010729Z"
    },
    "scrolled": true
   },
   "outputs": [
    {
     "data": {
      "text/html": [
       "<div>\n",
       "<style scoped>\n",
       "    .dataframe tbody tr th:only-of-type {\n",
       "        vertical-align: middle;\n",
       "    }\n",
       "\n",
       "    .dataframe tbody tr th {\n",
       "        vertical-align: top;\n",
       "    }\n",
       "\n",
       "    .dataframe thead th {\n",
       "        text-align: right;\n",
       "    }\n",
       "</style>\n",
       "<table border=\"1\" class=\"dataframe\">\n",
       "  <thead>\n",
       "    <tr style=\"text-align: right;\">\n",
       "      <th></th>\n",
       "      <th>text</th>\n",
       "      <th>product_name</th>\n",
       "      <th>emotion</th>\n",
       "    </tr>\n",
       "  </thead>\n",
       "  <tbody>\n",
       "    <tr>\n",
       "      <th>0</th>\n",
       "      <td>.@wesley83 I have a 3G iPhone. After 3 hrs tweeting at #RISE_Austin, it was dead!  I need to upgrade. Plugin stations at #SXSW.</td>\n",
       "      <td>iPhone</td>\n",
       "      <td>Negative emotion</td>\n",
       "    </tr>\n",
       "    <tr>\n",
       "      <th>3</th>\n",
       "      <td>@sxsw I hope this year's festival isn't as crashy as this year's iPhone app. #sxsw</td>\n",
       "      <td>iPad or iPhone App</td>\n",
       "      <td>Negative emotion</td>\n",
       "    </tr>\n",
       "    <tr>\n",
       "      <th>17</th>\n",
       "      <td>I just noticed DST is coming this weekend. How many iPhone users will be an hour late at SXSW come Sunday morning? #SXSW #iPhone</td>\n",
       "      <td>iPhone</td>\n",
       "      <td>Negative emotion</td>\n",
       "    </tr>\n",
       "  </tbody>\n",
       "</table>\n",
       "</div>"
      ],
      "text/plain": [
       "                                                                                                                                text  \\\n",
       "0    .@wesley83 I have a 3G iPhone. After 3 hrs tweeting at #RISE_Austin, it was dead!  I need to upgrade. Plugin stations at #SXSW.   \n",
       "3                                                 @sxsw I hope this year's festival isn't as crashy as this year's iPhone app. #sxsw   \n",
       "17  I just noticed DST is coming this weekend. How many iPhone users will be an hour late at SXSW come Sunday morning? #SXSW #iPhone   \n",
       "\n",
       "          product_name           emotion  \n",
       "0               iPhone  Negative emotion  \n",
       "3   iPad or iPhone App  Negative emotion  \n",
       "17              iPhone  Negative emotion  "
      ]
     },
     "execution_count": 20,
     "metadata": {},
     "output_type": "execute_result"
    }
   ],
   "source": [
    "neg_df.head(3)"
   ]
  },
  {
   "cell_type": "code",
   "execution_count": 21,
   "metadata": {
    "ExecuteTime": {
     "end_time": "2022-05-12T14:29:44.069574Z",
     "start_time": "2022-05-12T14:29:44.042642Z"
    },
    "scrolled": false
   },
   "outputs": [
    {
     "data": {
      "text/html": [
       "<div>\n",
       "<style scoped>\n",
       "    .dataframe tbody tr th:only-of-type {\n",
       "        vertical-align: middle;\n",
       "    }\n",
       "\n",
       "    .dataframe tbody tr th {\n",
       "        vertical-align: top;\n",
       "    }\n",
       "\n",
       "    .dataframe thead th {\n",
       "        text-align: right;\n",
       "    }\n",
       "</style>\n",
       "<table border=\"1\" class=\"dataframe\">\n",
       "  <thead>\n",
       "    <tr style=\"text-align: right;\">\n",
       "      <th></th>\n",
       "      <th>text</th>\n",
       "      <th>product_name</th>\n",
       "      <th>emotion</th>\n",
       "    </tr>\n",
       "  </thead>\n",
       "  <tbody>\n",
       "    <tr>\n",
       "      <th>1</th>\n",
       "      <td>@jessedee Know about @fludapp ? Awesome iPad/iPhone app that you'll likely appreciate for its design. Also, they're giving free Ts at #SXSW</td>\n",
       "      <td>iPad or iPhone App</td>\n",
       "      <td>Positive emotion</td>\n",
       "    </tr>\n",
       "    <tr>\n",
       "      <th>2</th>\n",
       "      <td>@swonderlin Can not wait for #iPad 2 also. They should sale them down at #SXSW.</td>\n",
       "      <td>iPad</td>\n",
       "      <td>Positive emotion</td>\n",
       "    </tr>\n",
       "    <tr>\n",
       "      <th>4</th>\n",
       "      <td>@sxtxstate great stuff on Fri #SXSW: Marissa Mayer (Google), Tim O'Reilly (tech books/conferences) &amp;amp; Matt Mullenweg (Wordpress)</td>\n",
       "      <td>Google</td>\n",
       "      <td>Positive emotion</td>\n",
       "    </tr>\n",
       "  </tbody>\n",
       "</table>\n",
       "</div>"
      ],
      "text/plain": [
       "                                                                                                                                          text  \\\n",
       "1  @jessedee Know about @fludapp ? Awesome iPad/iPhone app that you'll likely appreciate for its design. Also, they're giving free Ts at #SXSW   \n",
       "2                                                              @swonderlin Can not wait for #iPad 2 also. They should sale them down at #SXSW.   \n",
       "4          @sxtxstate great stuff on Fri #SXSW: Marissa Mayer (Google), Tim O'Reilly (tech books/conferences) &amp; Matt Mullenweg (Wordpress)   \n",
       "\n",
       "         product_name           emotion  \n",
       "1  iPad or iPhone App  Positive emotion  \n",
       "2                iPad  Positive emotion  \n",
       "4              Google  Positive emotion  "
      ]
     },
     "execution_count": 21,
     "metadata": {},
     "output_type": "execute_result"
    }
   ],
   "source": [
    "pos_df.head(3)"
   ]
  },
  {
   "cell_type": "code",
   "execution_count": 22,
   "metadata": {
    "ExecuteTime": {
     "end_time": "2022-05-12T14:29:45.122079Z",
     "start_time": "2022-05-12T14:29:44.071565Z"
    }
   },
   "outputs": [
    {
     "name": "stdout",
     "output_type": "stream",
     "text": [
      "As an example. Here are the top 3 words:\n",
      "Entire DataFrame: ['sxsw', 'link', 'rt']\n",
      "Positive Emotion: ['sxsw', 'ipad', 'link']\n",
      "negative Emotion: ['sxsw', 'ipad', 'quot']\n"
     ]
    }
   ],
   "source": [
    "print('As an example. Here are the top 3 words:')\n",
    "print(f\"Entire DataFrame: {[word for word,freq in getTopWordFreq(data_df,'text',3,stop_words = sw)]}\")\n",
    "print(f\"Positive Emotion: {[word for word,freq in getTopWordFreq(pos_df,'text',3,stop_words = sw)]}\")\n",
    "print(f\"negative Emotion: {[word for word,freq in getTopWordFreq(neg_df,'text',3,stop_words = sw)]}\")"
   ]
  },
  {
   "cell_type": "markdown",
   "metadata": {},
   "source": [
    "As you can tell, there is going to be a lot of crossover with certain terms (`sxsw`, `ipad` in our example above) which we should remove however, we'd want to retain words that are potentially more identifiable with a certain `emotion`. This is just the top 3 words, and we shall be using a larger set.\\\n",
    "Looking at the top 50 common words in both positive and negative `emotion` tweets, there 31 common words."
   ]
  },
  {
   "cell_type": "code",
   "execution_count": 23,
   "metadata": {
    "ExecuteTime": {
     "end_time": "2022-05-12T14:29:45.414337Z",
     "start_time": "2022-05-12T14:29:45.123995Z"
    },
    "scrolled": false
   },
   "outputs": [
    {
     "name": "stdout",
     "output_type": "stream",
     "text": [
      "30\n"
     ]
    },
    {
     "data": {
      "text/plain": [
       "['new',\n",
       " 'line',\n",
       " 'ipad',\n",
       " 'one',\n",
       " 'day',\n",
       " 'time',\n",
       " 'link',\n",
       " 'get',\n",
       " 'like',\n",
       " 'rt',\n",
       " 'iphone',\n",
       " 'store',\n",
       " 'apple',\n",
       " 'amp',\n",
       " 'people',\n",
       " 'sxsw',\n",
       " 'quot',\n",
       " 'pop',\n",
       " 'app',\n",
       " 'circles',\n",
       " 'google',\n",
       " 'network',\n",
       " 'launch',\n",
       " 'android',\n",
       " 'austin',\n",
       " 'social',\n",
       " 'see',\n",
       " 'good',\n",
       " 'apps',\n",
       " 'today']"
      ]
     },
     "execution_count": 23,
     "metadata": {},
     "output_type": "execute_result"
    }
   ],
   "source": [
    "num_mostCommon_Words = 50\n",
    "common_neg_words = [word for word,freq in getTopWordFreq(neg_df, 'text',num_mostCommon_Words,stop_words = sw)]\n",
    "common_pos_words = [word for word,freq in getTopWordFreq(pos_df, 'text',num_mostCommon_Words,stop_words = sw)]\n",
    "new_sw_words = list(set(common_neg_words).intersection(set(common_pos_words)))\n",
    "print(len(new_sw_words))\n",
    "new_sw_words"
   ]
  },
  {
   "cell_type": "markdown",
   "metadata": {},
   "source": [
    "We shall be appending this to our stopword list. As part of our `doc_preparer()`, custom function to preprocess text, we shall be removing these words in the future"
   ]
  },
  {
   "cell_type": "code",
   "execution_count": 24,
   "metadata": {
    "ExecuteTime": {
     "end_time": "2022-05-12T14:29:45.429616Z",
     "start_time": "2022-05-12T14:29:45.418480Z"
    }
   },
   "outputs": [
    {
     "name": "stdout",
     "output_type": "stream",
     "text": [
      "Original number of stopwords: 179\n",
      "New number of stopwords:      209\n"
     ]
    }
   ],
   "source": [
    "print(f'Original number of stopwords: {len(sw)}')\n",
    "sw.extend(new_sw_words)\n",
    "print(f'New number of stopwords:      {len(sw)}')"
   ]
  },
  {
   "cell_type": "markdown",
   "metadata": {},
   "source": [
    "Lets have a look at the word distribution again"
   ]
  },
  {
   "cell_type": "code",
   "execution_count": 25,
   "metadata": {
    "ExecuteTime": {
     "end_time": "2022-05-12T14:29:46.514148Z",
     "start_time": "2022-05-12T14:29:45.431610Z"
    }
   },
   "outputs": [
    {
     "data": {
      "image/png": "[encoded data removed]",
      "text/plain": [
       "<Figure size 720x576 with 1 Axes>"
      ]
     },
     "metadata": {
      "needs_background": "light"
     },
     "output_type": "display_data"
    }
   ],
   "source": [
    "# Plot most frequent words\n",
    "fig, ax = plt.subplots(figsize=(10, 8))\n",
    "num_of_bars = 10\n",
    "viz_data = getTopWordFreq(data_df, 'text', n=num_of_bars, stop_words=sw)\n",
    "\n",
    "plt.xticks(fontsize=12,\n",
    "           rotation=20)\n",
    "plt.yticks(fontsize=12)\n",
    "ax.set_title('Word Frequency - Post updated StopWords')\n",
    "\n",
    "ax.bar(x=[word for word, freq in viz_data],\n",
    "       height=[freq for word, freq in viz_data],\n",
    "       color=(0.2, 0.4, 0.6, 0.6),\n",
    "       edgecolor='black')\n",
    "\n",
    "plt.savefig('images/WordFreq_postSW.jpg', dpi='figure',\n",
    "            bbox_inches='tight',\n",
    "            #             pad_inches=0.1,\n",
    "            facecolor='auto',\n",
    "            )"
   ]
  },
  {
   "cell_type": "markdown",
   "metadata": {},
   "source": [
    "Already one can tell the word count is a little more normalized."
   ]
  },
  {
   "cell_type": "markdown",
   "metadata": {},
   "source": [
    "### Stemming the tweet text"
   ]
  },
  {
   "cell_type": "markdown",
   "metadata": {},
   "source": [
    "We shall be creating a column of a cleaned text string built off of the original tweet"
   ]
  },
  {
   "cell_type": "code",
   "execution_count": 26,
   "metadata": {
    "ExecuteTime": {
     "end_time": "2022-05-12T14:29:49.405721Z",
     "start_time": "2022-05-12T14:29:46.516144Z"
    }
   },
   "outputs": [],
   "source": [
    "data_df['stemmed_text'] = data_df['text'].map(lambda x:doc_preparer(x,stem=True))"
   ]
  },
  {
   "cell_type": "code",
   "execution_count": 27,
   "metadata": {
    "ExecuteTime": {
     "end_time": "2022-05-12T14:29:49.420932Z",
     "start_time": "2022-05-12T14:29:49.407758Z"
    }
   },
   "outputs": [
    {
     "data": {
      "text/html": [
       "<div>\n",
       "<style scoped>\n",
       "    .dataframe tbody tr th:only-of-type {\n",
       "        vertical-align: middle;\n",
       "    }\n",
       "\n",
       "    .dataframe tbody tr th {\n",
       "        vertical-align: top;\n",
       "    }\n",
       "\n",
       "    .dataframe thead th {\n",
       "        text-align: right;\n",
       "    }\n",
       "</style>\n",
       "<table border=\"1\" class=\"dataframe\">\n",
       "  <thead>\n",
       "    <tr style=\"text-align: right;\">\n",
       "      <th></th>\n",
       "      <th>text</th>\n",
       "      <th>stemmed_text</th>\n",
       "    </tr>\n",
       "  </thead>\n",
       "  <tbody>\n",
       "    <tr>\n",
       "      <th>0</th>\n",
       "      <td>.@wesley83 I have a 3G iPhone. After 3 hrs tweeting at #RISE_Austin, it was dead!  I need to upgrade. Plugin stations at #SXSW.</td>\n",
       "      <td>iphon hr tweet rise dead need upgrad plugin station sxsw</td>\n",
       "    </tr>\n",
       "    <tr>\n",
       "      <th>1</th>\n",
       "      <td>@jessedee Know about @fludapp ? Awesome iPad/iPhone app that you'll likely appreciate for its design. Also, they're giving free Ts at #SXSW</td>\n",
       "      <td>know awesom ipad iphon app like appreci design also give free ts sxsw</td>\n",
       "    </tr>\n",
       "    <tr>\n",
       "      <th>2</th>\n",
       "      <td>@swonderlin Can not wait for #iPad 2 also. They should sale them down at #SXSW.</td>\n",
       "      <td>wait ipad also sale sxsw</td>\n",
       "    </tr>\n",
       "    <tr>\n",
       "      <th>3</th>\n",
       "      <td>@sxsw I hope this year's festival isn't as crashy as this year's iPhone app. #sxsw</td>\n",
       "      <td>hope year festiv crashi year iphon app sxsw</td>\n",
       "    </tr>\n",
       "    <tr>\n",
       "      <th>4</th>\n",
       "      <td>@sxtxstate great stuff on Fri #SXSW: Marissa Mayer (Google), Tim O'Reilly (tech books/conferences) &amp;amp; Matt Mullenweg (Wordpress)</td>\n",
       "      <td>great stuff fri sxsw marissa mayer googl tim reilli tech book confer amp matt mullenweg wordpress</td>\n",
       "    </tr>\n",
       "  </tbody>\n",
       "</table>\n",
       "</div>"
      ],
      "text/plain": [
       "                                                                                                                                          text  \\\n",
       "0              .@wesley83 I have a 3G iPhone. After 3 hrs tweeting at #RISE_Austin, it was dead!  I need to upgrade. Plugin stations at #SXSW.   \n",
       "1  @jessedee Know about @fludapp ? Awesome iPad/iPhone app that you'll likely appreciate for its design. Also, they're giving free Ts at #SXSW   \n",
       "2                                                              @swonderlin Can not wait for #iPad 2 also. They should sale them down at #SXSW.   \n",
       "3                                                           @sxsw I hope this year's festival isn't as crashy as this year's iPhone app. #sxsw   \n",
       "4          @sxtxstate great stuff on Fri #SXSW: Marissa Mayer (Google), Tim O'Reilly (tech books/conferences) &amp; Matt Mullenweg (Wordpress)   \n",
       "\n",
       "                                                                                        stemmed_text  \n",
       "0                                           iphon hr tweet rise dead need upgrad plugin station sxsw  \n",
       "1                              know awesom ipad iphon app like appreci design also give free ts sxsw  \n",
       "2                                                                           wait ipad also sale sxsw  \n",
       "3                                                        hope year festiv crashi year iphon app sxsw  \n",
       "4  great stuff fri sxsw marissa mayer googl tim reilli tech book confer amp matt mullenweg wordpress  "
      ]
     },
     "execution_count": 27,
     "metadata": {},
     "output_type": "execute_result"
    }
   ],
   "source": [
    "data_df[['text','stemmed_text']].head(5)"
   ]
  },
  {
   "cell_type": "markdown",
   "metadata": {},
   "source": [
    "### Label Encoding the emotion column"
   ]
  },
  {
   "cell_type": "markdown",
   "metadata": {},
   "source": [
    "To help with our classification models, we shall use a label encoder to encode the target `emotion` into a more computer friendly numerical column"
   ]
  },
  {
   "cell_type": "code",
   "execution_count": 28,
   "metadata": {
    "ExecuteTime": {
     "end_time": "2022-05-12T14:29:49.436101Z",
     "start_time": "2022-05-12T14:29:49.423923Z"
    }
   },
   "outputs": [
    {
     "data": {
      "text/plain": [
       "array(['Negative emotion', 'No emotion toward brand or product',\n",
       "       'Positive emotion'], dtype=object)"
      ]
     },
     "execution_count": 28,
     "metadata": {},
     "output_type": "execute_result"
    }
   ],
   "source": [
    "le = LabelEncoder()\n",
    "data_df['sentiment_target'] = le.fit_transform(data_df.emotion)\n",
    "le.classes_"
   ]
  },
  {
   "cell_type": "code",
   "execution_count": 29,
   "metadata": {
    "ExecuteTime": {
     "end_time": "2022-05-12T14:29:49.452027Z",
     "start_time": "2022-05-12T14:29:49.438065Z"
    },
    "scrolled": true
   },
   "outputs": [
    {
     "data": {
      "text/html": [
       "<div>\n",
       "<style scoped>\n",
       "    .dataframe tbody tr th:only-of-type {\n",
       "        vertical-align: middle;\n",
       "    }\n",
       "\n",
       "    .dataframe tbody tr th {\n",
       "        vertical-align: top;\n",
       "    }\n",
       "\n",
       "    .dataframe thead th {\n",
       "        text-align: right;\n",
       "    }\n",
       "</style>\n",
       "<table border=\"1\" class=\"dataframe\">\n",
       "  <thead>\n",
       "    <tr style=\"text-align: right;\">\n",
       "      <th></th>\n",
       "      <th>emotion</th>\n",
       "      <th>sentiment_target</th>\n",
       "    </tr>\n",
       "  </thead>\n",
       "  <tbody>\n",
       "    <tr>\n",
       "      <th>0</th>\n",
       "      <td>Negative emotion</td>\n",
       "      <td>0</td>\n",
       "    </tr>\n",
       "    <tr>\n",
       "      <th>1</th>\n",
       "      <td>Positive emotion</td>\n",
       "      <td>2</td>\n",
       "    </tr>\n",
       "    <tr>\n",
       "      <th>2</th>\n",
       "      <td>Positive emotion</td>\n",
       "      <td>2</td>\n",
       "    </tr>\n",
       "    <tr>\n",
       "      <th>3</th>\n",
       "      <td>Negative emotion</td>\n",
       "      <td>0</td>\n",
       "    </tr>\n",
       "    <tr>\n",
       "      <th>4</th>\n",
       "      <td>Positive emotion</td>\n",
       "      <td>2</td>\n",
       "    </tr>\n",
       "    <tr>\n",
       "      <th>5</th>\n",
       "      <td>No emotion toward brand or product</td>\n",
       "      <td>1</td>\n",
       "    </tr>\n",
       "    <tr>\n",
       "      <th>7</th>\n",
       "      <td>Positive emotion</td>\n",
       "      <td>2</td>\n",
       "    </tr>\n",
       "    <tr>\n",
       "      <th>8</th>\n",
       "      <td>Positive emotion</td>\n",
       "      <td>2</td>\n",
       "    </tr>\n",
       "    <tr>\n",
       "      <th>9</th>\n",
       "      <td>Positive emotion</td>\n",
       "      <td>2</td>\n",
       "    </tr>\n",
       "    <tr>\n",
       "      <th>10</th>\n",
       "      <td>Positive emotion</td>\n",
       "      <td>2</td>\n",
       "    </tr>\n",
       "  </tbody>\n",
       "</table>\n",
       "</div>"
      ],
      "text/plain": [
       "                               emotion  sentiment_target\n",
       "0                     Negative emotion                 0\n",
       "1                     Positive emotion                 2\n",
       "2                     Positive emotion                 2\n",
       "3                     Negative emotion                 0\n",
       "4                     Positive emotion                 2\n",
       "5   No emotion toward brand or product                 1\n",
       "7                     Positive emotion                 2\n",
       "8                     Positive emotion                 2\n",
       "9                     Positive emotion                 2\n",
       "10                    Positive emotion                 2"
      ]
     },
     "execution_count": 29,
     "metadata": {},
     "output_type": "execute_result"
    }
   ],
   "source": [
    "data_df[['emotion', 'sentiment_target']].head(10)"
   ]
  },
  {
   "cell_type": "markdown",
   "metadata": {},
   "source": [
    "# Train-Test-Split"
   ]
  },
  {
   "cell_type": "code",
   "execution_count": 30,
   "metadata": {
    "ExecuteTime": {
     "end_time": "2022-05-12T14:29:49.467027Z",
     "start_time": "2022-05-12T14:29:49.455021Z"
    }
   },
   "outputs": [],
   "source": [
    "X = data_df['stemmed_text']\n",
    "y = data_df['sentiment_target']\n",
    "\n",
    "X_train, X_test, y_train, y_test = train_test_split(X,y,test_size = 0.3)"
   ]
  },
  {
   "cell_type": "markdown",
   "metadata": {},
   "source": [
    "# Modeling"
   ]
  },
  {
   "cell_type": "markdown",
   "metadata": {},
   "source": [
    "## `CountVectorizer()` with `DummyClassifier()`"
   ]
  },
  {
   "cell_type": "code",
   "execution_count": 31,
   "metadata": {
    "ExecuteTime": {
     "end_time": "2022-05-12T14:29:52.345800Z",
     "start_time": "2022-05-12T14:29:49.469063Z"
    }
   },
   "outputs": [
    {
     "name": "stderr",
     "output_type": "stream",
     "text": [
      "[Parallel(n_jobs=-2)]: Using backend LokyBackend with 7 concurrent workers.\n"
     ]
    },
    {
     "name": "stdout",
     "output_type": "stream",
     "text": [
      "CV Results\n",
      "================================\n",
      "Accuracy\n",
      "--------------------------------\n",
      "Training accuracy: 0.601\n",
      "Test accuracy:     0.601\n",
      "F-1 Score\n",
      "--------------------------------\n",
      "Training F1 score: 0.250\n",
      "Test F1 score:     0.250\n"
     ]
    },
    {
     "name": "stderr",
     "output_type": "stream",
     "text": [
      "[Parallel(n_jobs=-2)]: Done   5 out of   5 | elapsed:    2.8s finished\n"
     ]
    }
   ],
   "source": [
    "#Pipeline\n",
    "cvec_dummy_model_pipe = Pipeline([\n",
    "    ('cvec',CountVectorizer()),\n",
    "   ('dum',DummyClassifier(strategy = 'most_frequent')\n",
    "   )\n",
    "])\n",
    "\n",
    "#5 fold Cross Validation\n",
    "cvec_dummy_cvResults = cross_validate(cvec_dummy_model_pipe,\n",
    "                                      X_train,\n",
    "                                      y_train,\n",
    "                                      scoring=('accuracy', 'f1_macro'),\n",
    "                                      cv=5,\n",
    "                                      verbose=1,\n",
    "                                      n_jobs = NB_n_jobs,\n",
    "                                      return_train_score=True)\n",
    "prettyPrintCVScores(cvec_dummy_cvResults)"
   ]
  },
  {
   "cell_type": "markdown",
   "metadata": {},
   "source": [
    "Our dummy classifier performs with 60% accuracy and 25% F1-score"
   ]
  },
  {
   "cell_type": "markdown",
   "metadata": {},
   "source": [
    "## `CountVectorizer()` with `MutinomialNB()`"
   ]
  },
  {
   "cell_type": "code",
   "execution_count": 32,
   "metadata": {
    "ExecuteTime": {
     "end_time": "2022-05-12T14:29:54.151054Z",
     "start_time": "2022-05-12T14:29:52.349789Z"
    }
   },
   "outputs": [
    {
     "name": "stderr",
     "output_type": "stream",
     "text": [
      "[Parallel(n_jobs=-2)]: Using backend LokyBackend with 7 concurrent workers.\n"
     ]
    },
    {
     "name": "stdout",
     "output_type": "stream",
     "text": [
      "CV Results\n",
      "================================\n",
      "Accuracy\n",
      "--------------------------------\n",
      "Training accuracy: 0.815\n",
      "Test accuracy:     0.664\n",
      "F-1 Score\n",
      "--------------------------------\n",
      "Training F1 score: 0.726\n",
      "Test F1 score:     0.505\n"
     ]
    },
    {
     "name": "stderr",
     "output_type": "stream",
     "text": [
      "[Parallel(n_jobs=-2)]: Done   5 out of   5 | elapsed:    1.7s finished\n"
     ]
    }
   ],
   "source": [
    "#Pipeline\n",
    "cvec_mnb_model_pipe = Pipeline([\n",
    "    ('cvec',CountVectorizer()),\n",
    "   ('mnb',MultinomialNB()\n",
    "   )\n",
    "])\n",
    "\n",
    "#5 fold Cross Validation\n",
    "cvec_mnb_cvResults = cross_validate(cvec_mnb_model_pipe,\n",
    "                                      X_train,\n",
    "                                      y_train,\n",
    "                                      scoring=('accuracy', 'f1_macro'),\n",
    "                                      cv=5,\n",
    "                                      verbose=1,\n",
    "                                      n_jobs = NB_n_jobs,\n",
    "                                      return_train_score=True)\n",
    "prettyPrintCVScores(cvec_mnb_cvResults)"
   ]
  },
  {
   "cell_type": "markdown",
   "metadata": {},
   "source": [
    "We can already see some significant overfitting. This might be due to such a small and imbalanced dataset."
   ]
  },
  {
   "cell_type": "markdown",
   "metadata": {},
   "source": [
    "## `TfidfVectorizer()` with `MutinomialNB()`"
   ]
  },
  {
   "cell_type": "code",
   "execution_count": 33,
   "metadata": {
    "ExecuteTime": {
     "end_time": "2022-05-12T14:29:54.695597Z",
     "start_time": "2022-05-12T14:29:54.155046Z"
    }
   },
   "outputs": [
    {
     "name": "stderr",
     "output_type": "stream",
     "text": [
      "[Parallel(n_jobs=-2)]: Using backend LokyBackend with 7 concurrent workers.\n"
     ]
    },
    {
     "name": "stdout",
     "output_type": "stream",
     "text": [
      "CV Results\n",
      "================================\n",
      "Accuracy\n",
      "--------------------------------\n",
      "Training accuracy: 0.745\n",
      "Test accuracy:     0.653\n",
      "F-1 Score\n",
      "--------------------------------\n",
      "Training F1 score: 0.484\n",
      "Test F1 score:     0.375\n"
     ]
    },
    {
     "name": "stderr",
     "output_type": "stream",
     "text": [
      "[Parallel(n_jobs=-2)]: Done   5 out of   5 | elapsed:    0.4s finished\n"
     ]
    }
   ],
   "source": [
    "#Pipeline\n",
    "tvec_mnb_model_pipe = Pipeline([\n",
    "    ('tvec',TfidfVectorizer()),\n",
    "   ('mnb',MultinomialNB()\n",
    "   )\n",
    "])\n",
    "\n",
    "#5 fold Cross Validation\n",
    "tvec_mnb_cvResults = cross_validate(tvec_mnb_model_pipe,\n",
    "                                      X_train,\n",
    "                                      y_train,\n",
    "                                      scoring=('accuracy', 'f1_macro'),\n",
    "                                      cv=5,\n",
    "                                      verbose=1,\n",
    "                                      n_jobs = NB_n_jobs,\n",
    "                                      return_train_score=True)\n",
    "prettyPrintCVScores(tvec_mnb_cvResults)"
   ]
  },
  {
   "cell_type": "markdown",
   "metadata": {},
   "source": [
    "Using a TF-IDF vectorizer improves accuracy but at a major cost to the F1-score"
   ]
  },
  {
   "cell_type": "markdown",
   "metadata": {
    "ExecuteTime": {
     "end_time": "2022-05-10T15:48:34.339194Z",
     "start_time": "2022-05-10T15:48:34.330192Z"
    }
   },
   "source": [
    "## `CountVectorizer()` with `RandomForestClassifier()`"
   ]
  },
  {
   "cell_type": "code",
   "execution_count": 34,
   "metadata": {
    "ExecuteTime": {
     "end_time": "2022-05-12T14:30:08.123791Z",
     "start_time": "2022-05-12T14:29:54.700584Z"
    }
   },
   "outputs": [
    {
     "name": "stderr",
     "output_type": "stream",
     "text": [
      "[Parallel(n_jobs=-2)]: Using backend LokyBackend with 7 concurrent workers.\n"
     ]
    },
    {
     "name": "stdout",
     "output_type": "stream",
     "text": [
      "CV Results\n",
      "================================\n",
      "Accuracy\n",
      "--------------------------------\n",
      "Training accuracy: 0.993\n",
      "Test accuracy:     0.681\n",
      "F-1 Score\n",
      "--------------------------------\n",
      "Training F1 score: 0.993\n",
      "Test F1 score:     0.508\n"
     ]
    },
    {
     "name": "stderr",
     "output_type": "stream",
     "text": [
      "[Parallel(n_jobs=-2)]: Done   5 out of   5 | elapsed:   13.3s finished\n"
     ]
    }
   ],
   "source": [
    "#Pipeline\n",
    "cvec_rfc_model_pipe = Pipeline([\n",
    "    ('cvec',CountVectorizer()),\n",
    "   ('rfc',RandomForestClassifier(random_state=42)\n",
    "   )\n",
    "])\n",
    "\n",
    "#5 fold Cross Validation\n",
    "cvec_rfc_cvResults = cross_validate(cvec_rfc_model_pipe,\n",
    "                                      X_train,\n",
    "                                      y_train,\n",
    "                                      scoring=('accuracy', 'f1_macro'),\n",
    "                                      cv=5,\n",
    "                                      verbose=1,\n",
    "                                      n_jobs = NB_n_jobs,\n",
    "                                      return_train_score=True)\n",
    "prettyPrintCVScores(cvec_rfc_cvResults)"
   ]
  },
  {
   "cell_type": "markdown",
   "metadata": {},
   "source": [
    "This is model is severely overfitting but it performs marginally better than the `MultinomialNB()` model"
   ]
  },
  {
   "cell_type": "markdown",
   "metadata": {},
   "source": [
    "## `TfidfVectorizer()` with `RandomForestClassifier()`"
   ]
  },
  {
   "cell_type": "code",
   "execution_count": 35,
   "metadata": {
    "ExecuteTime": {
     "end_time": "2022-05-12T14:30:17.318043Z",
     "start_time": "2022-05-12T14:30:08.134763Z"
    }
   },
   "outputs": [
    {
     "name": "stderr",
     "output_type": "stream",
     "text": [
      "[Parallel(n_jobs=-2)]: Using backend LokyBackend with 7 concurrent workers.\n"
     ]
    },
    {
     "name": "stdout",
     "output_type": "stream",
     "text": [
      "CV Results\n",
      "================================\n",
      "Accuracy\n",
      "--------------------------------\n",
      "Training accuracy: 0.993\n",
      "Test accuracy:     0.678\n",
      "F-1 Score\n",
      "--------------------------------\n",
      "Training F1 score: 0.993\n",
      "Test F1 score:     0.503\n"
     ]
    },
    {
     "name": "stderr",
     "output_type": "stream",
     "text": [
      "[Parallel(n_jobs=-2)]: Done   5 out of   5 | elapsed:    9.1s finished\n"
     ]
    }
   ],
   "source": [
    "#Pipeline\n",
    "tvec_rfc_model_pipe = Pipeline([\n",
    "    ('tvec',TfidfVectorizer()),\n",
    "   ('rfc',RandomForestClassifier(random_state=42)\n",
    "   )\n",
    "])\n",
    "\n",
    "#5 fold Cross Validation\n",
    "tvec_rfc_cvResults = cross_validate(tvec_rfc_model_pipe,\n",
    "                                      X_train,\n",
    "                                      y_train,\n",
    "                                      scoring=('accuracy', 'f1_macro'),\n",
    "                                      cv=5,\n",
    "                                      verbose=1,\n",
    "                                      n_jobs = NB_n_jobs,\n",
    "                                      return_train_score=True)\n",
    "prettyPrintCVScores(tvec_rfc_cvResults)"
   ]
  },
  {
   "cell_type": "markdown",
   "metadata": {},
   "source": [
    "## `CountVectorizer()` with `GradientBoostingClassifier()`"
   ]
  },
  {
   "cell_type": "code",
   "execution_count": 36,
   "metadata": {
    "ExecuteTime": {
     "end_time": "2022-05-12T14:30:23.579441Z",
     "start_time": "2022-05-12T14:30:17.323989Z"
    }
   },
   "outputs": [
    {
     "name": "stderr",
     "output_type": "stream",
     "text": [
      "[Parallel(n_jobs=-2)]: Using backend LokyBackend with 7 concurrent workers.\n"
     ]
    },
    {
     "name": "stdout",
     "output_type": "stream",
     "text": [
      "CV Results\n",
      "================================\n",
      "Accuracy\n",
      "--------------------------------\n",
      "Training accuracy: 0.725\n",
      "Test accuracy:     0.674\n",
      "F-1 Score\n",
      "--------------------------------\n",
      "Training F1 score: 0.558\n",
      "Test F1 score:     0.461\n"
     ]
    },
    {
     "name": "stderr",
     "output_type": "stream",
     "text": [
      "[Parallel(n_jobs=-2)]: Done   5 out of   5 | elapsed:    6.1s finished\n"
     ]
    }
   ],
   "source": [
    "#Pipeline\n",
    "cvec_gbc_model_pipe = Pipeline([\n",
    "    ('cvec',CountVectorizer()),\n",
    "   ('gbc',GradientBoostingClassifier(random_state=42)\n",
    "   )\n",
    "])\n",
    "\n",
    "#5 fold Cross Validation\n",
    "cvec_gbc_cvResults = cross_validate(cvec_gbc_model_pipe,\n",
    "                                      X_train,\n",
    "                                      y_train,\n",
    "                                      scoring=('accuracy', 'f1_macro'),\n",
    "                                      cv=5,\n",
    "                                      verbose=1,\n",
    "                                      n_jobs = NB_n_jobs,\n",
    "                                      return_train_score=True)\n",
    "prettyPrintCVScores(cvec_gbc_cvResults)"
   ]
  },
  {
   "cell_type": "markdown",
   "metadata": {},
   "source": [
    "## `TfidfVectorizer()` with `GradientBoostingClassifier()`"
   ]
  },
  {
   "cell_type": "code",
   "execution_count": 37,
   "metadata": {
    "ExecuteTime": {
     "end_time": "2022-05-12T14:30:36.843404Z",
     "start_time": "2022-05-12T14:30:23.583430Z"
    }
   },
   "outputs": [
    {
     "name": "stderr",
     "output_type": "stream",
     "text": [
      "[Parallel(n_jobs=-2)]: Using backend LokyBackend with 7 concurrent workers.\n"
     ]
    },
    {
     "name": "stdout",
     "output_type": "stream",
     "text": [
      "CV Results\n",
      "================================\n",
      "Accuracy\n",
      "--------------------------------\n",
      "Training accuracy: 0.739\n",
      "Test accuracy:     0.667\n",
      "F-1 Score\n",
      "--------------------------------\n",
      "Training F1 score: 0.597\n",
      "Test F1 score:     0.468\n"
     ]
    },
    {
     "name": "stderr",
     "output_type": "stream",
     "text": [
      "[Parallel(n_jobs=-2)]: Done   5 out of   5 | elapsed:   13.1s finished\n"
     ]
    }
   ],
   "source": [
    "#Pipeline\n",
    "tvec_gbc_model_pipe = Pipeline([\n",
    "    ('tvec',TfidfVectorizer()),\n",
    "   ('gbc',GradientBoostingClassifier(random_state=42)\n",
    "   )\n",
    "])\n",
    "\n",
    "#5 fold Cross Validation\n",
    "tvec_gbc_cvResults = cross_validate(tvec_gbc_model_pipe,\n",
    "                                      X_train,\n",
    "                                      y_train,\n",
    "                                      scoring=('accuracy', 'f1_macro'),\n",
    "                                      cv=5,\n",
    "                                      verbose=1,\n",
    "                                      n_jobs = NB_n_jobs,\n",
    "                                      return_train_score=True)\n",
    "prettyPrintCVScores(tvec_gbc_cvResults)"
   ]
  },
  {
   "cell_type": "code",
   "execution_count": null,
   "metadata": {},
   "outputs": [],
   "source": []
  },
  {
   "cell_type": "markdown",
   "metadata": {},
   "source": [
    "## `CountVectorizer()` with `XGBRFClassifier()`"
   ]
  },
  {
   "cell_type": "code",
   "execution_count": 38,
   "metadata": {
    "ExecuteTime": {
     "end_time": "2022-05-12T14:30:42.904318Z",
     "start_time": "2022-05-12T14:30:36.848075Z"
    }
   },
   "outputs": [
    {
     "name": "stderr",
     "output_type": "stream",
     "text": [
      "[Parallel(n_jobs=-2)]: Using backend LokyBackend with 7 concurrent workers.\n"
     ]
    },
    {
     "name": "stdout",
     "output_type": "stream",
     "text": [
      "CV Results\n",
      "================================\n",
      "Accuracy\n",
      "--------------------------------\n",
      "Training accuracy: 0.664\n",
      "Test accuracy:     0.642\n",
      "F-1 Score\n",
      "--------------------------------\n",
      "Training F1 score: 0.425\n",
      "Test F1 score:     0.383\n"
     ]
    },
    {
     "name": "stderr",
     "output_type": "stream",
     "text": [
      "[Parallel(n_jobs=-2)]: Done   5 out of   5 | elapsed:    5.9s finished\n"
     ]
    }
   ],
   "source": [
    "#Pipeline\n",
    "cvec_xgb_model_pipe = Pipeline([\n",
    "    ('cvec',CountVectorizer()),\n",
    "   ('xgb',xgboost.XGBRFClassifier(random_state=42)\n",
    "   )\n",
    "])\n",
    "\n",
    "#5 fold Cross Validation\n",
    "cvec_xgb_cvResults = cross_validate(cvec_xgb_model_pipe,\n",
    "                                      X_train,\n",
    "                                      y_train,\n",
    "                                      scoring=('accuracy', 'f1_macro'),\n",
    "                                      cv=5,\n",
    "                                      verbose=1,\n",
    "                                      n_jobs = NB_n_jobs,\n",
    "                                      return_train_score=True)\n",
    "prettyPrintCVScores(cvec_xgb_cvResults)"
   ]
  },
  {
   "cell_type": "markdown",
   "metadata": {},
   "source": [
    "## `TfidfVectorizer()` with `XGBRFClassifier()`"
   ]
  },
  {
   "cell_type": "code",
   "execution_count": 39,
   "metadata": {
    "ExecuteTime": {
     "end_time": "2022-05-12T14:30:54.846466Z",
     "start_time": "2022-05-12T14:30:42.909307Z"
    },
    "scrolled": true
   },
   "outputs": [
    {
     "name": "stderr",
     "output_type": "stream",
     "text": [
      "[Parallel(n_jobs=-2)]: Using backend LokyBackend with 7 concurrent workers.\n"
     ]
    },
    {
     "name": "stdout",
     "output_type": "stream",
     "text": [
      "CV Results\n",
      "================================\n",
      "Accuracy\n",
      "--------------------------------\n",
      "Training accuracy: 0.678\n",
      "Test accuracy:     0.638\n",
      "F-1 Score\n",
      "--------------------------------\n",
      "Training F1 score: 0.447\n",
      "Test F1 score:     0.380\n"
     ]
    },
    {
     "name": "stderr",
     "output_type": "stream",
     "text": [
      "[Parallel(n_jobs=-2)]: Done   5 out of   5 | elapsed:   11.8s finished\n"
     ]
    }
   ],
   "source": [
    "#Pipeline\n",
    "tvec_xgb_model_pipe = Pipeline([\n",
    "    ('tvec',TfidfVectorizer()),\n",
    "   ('gbc',xgboost.XGBRFClassifier(random_state=42)\n",
    "   )\n",
    "])\n",
    "\n",
    "#5 fold Cross Validation\n",
    "tvec_xgb_cvResults = cross_validate(tvec_xgb_model_pipe,\n",
    "                                      X_train,\n",
    "                                      y_train,\n",
    "                                      scoring=('accuracy', 'f1_macro'),\n",
    "                                      cv=5,\n",
    "                                      verbose=1,\n",
    "                                      n_jobs = NB_n_jobs,\n",
    "                                      return_train_score=True)\n",
    "prettyPrintCVScores(tvec_xgb_cvResults)"
   ]
  },
  {
   "cell_type": "markdown",
   "metadata": {
    "ExecuteTime": {
     "end_time": "2022-05-10T21:32:16.675935Z",
     "start_time": "2022-05-10T21:32:16.665932Z"
    }
   },
   "source": [
    "# Hypertuning best model"
   ]
  },
  {
   "cell_type": "markdown",
   "metadata": {},
   "source": [
    "Our count vectorized > random forest model worked best. Hypertuning it"
   ]
  },
  {
   "cell_type": "code",
   "execution_count": 40,
   "metadata": {
    "ExecuteTime": {
     "end_time": "2022-05-12T14:47:08.941805Z",
     "start_time": "2022-05-12T14:30:54.846466Z"
    },
    "scrolled": false
   },
   "outputs": [
    {
     "data": {
      "text/html": [
       "<div>\n",
       "<style scoped>\n",
       "    .dataframe tbody tr th:only-of-type {\n",
       "        vertical-align: middle;\n",
       "    }\n",
       "\n",
       "    .dataframe tbody tr th {\n",
       "        vertical-align: top;\n",
       "    }\n",
       "\n",
       "    .dataframe thead th {\n",
       "        text-align: right;\n",
       "    }\n",
       "</style>\n",
       "<table border=\"1\" class=\"dataframe\">\n",
       "  <thead>\n",
       "    <tr style=\"text-align: right;\">\n",
       "      <th></th>\n",
       "      <th>Mean Test Accuracy</th>\n",
       "      <th>Mean Test Precision (macro)</th>\n",
       "      <th>Mean Test Recall (macro)</th>\n",
       "      <th>Mean Test F1-Score (macro)</th>\n",
       "      <th>param_rfc__criterion</th>\n",
       "      <th>param_rfc__max_depth</th>\n",
       "      <th>param_rfc__n_estimators</th>\n",
       "    </tr>\n",
       "    <tr>\n",
       "      <th>Rank (By Accuracy)</th>\n",
       "      <th></th>\n",
       "      <th></th>\n",
       "      <th></th>\n",
       "      <th></th>\n",
       "      <th></th>\n",
       "      <th></th>\n",
       "      <th></th>\n",
       "    </tr>\n",
       "  </thead>\n",
       "  <tbody>\n",
       "    <tr>\n",
       "      <th>1</th>\n",
       "      <td>0.6809</td>\n",
       "      <td>0.6603</td>\n",
       "      <td>0.4690</td>\n",
       "      <td>0.4887</td>\n",
       "      <td>gini</td>\n",
       "      <td>110</td>\n",
       "      <td>200</td>\n",
       "    </tr>\n",
       "    <tr>\n",
       "      <th>2</th>\n",
       "      <td>0.6802</td>\n",
       "      <td>0.6571</td>\n",
       "      <td>0.4684</td>\n",
       "      <td>0.4881</td>\n",
       "      <td>gini</td>\n",
       "      <td>110</td>\n",
       "      <td>100</td>\n",
       "    </tr>\n",
       "    <tr>\n",
       "      <th>3</th>\n",
       "      <td>0.6796</td>\n",
       "      <td>0.6463</td>\n",
       "      <td>0.4794</td>\n",
       "      <td>0.5026</td>\n",
       "      <td>gini</td>\n",
       "      <td>180</td>\n",
       "      <td>150</td>\n",
       "    </tr>\n",
       "    <tr>\n",
       "      <th>4</th>\n",
       "      <td>0.6792</td>\n",
       "      <td>0.6438</td>\n",
       "      <td>0.4796</td>\n",
       "      <td>0.5027</td>\n",
       "      <td>gini</td>\n",
       "      <td>170</td>\n",
       "      <td>150</td>\n",
       "    </tr>\n",
       "    <tr>\n",
       "      <th>5</th>\n",
       "      <td>0.6792</td>\n",
       "      <td>0.6596</td>\n",
       "      <td>0.4666</td>\n",
       "      <td>0.4859</td>\n",
       "      <td>gini</td>\n",
       "      <td>100</td>\n",
       "      <td>150</td>\n",
       "    </tr>\n",
       "    <tr>\n",
       "      <th>...</th>\n",
       "      <td>...</td>\n",
       "      <td>...</td>\n",
       "      <td>...</td>\n",
       "      <td>...</td>\n",
       "      <td>...</td>\n",
       "      <td>...</td>\n",
       "      <td>...</td>\n",
       "    </tr>\n",
       "    <tr>\n",
       "      <th>76</th>\n",
       "      <td>0.6702</td>\n",
       "      <td>0.6286</td>\n",
       "      <td>0.4711</td>\n",
       "      <td>0.4924</td>\n",
       "      <td>entropy</td>\n",
       "      <td>140</td>\n",
       "      <td>50</td>\n",
       "    </tr>\n",
       "    <tr>\n",
       "      <th>77</th>\n",
       "      <td>0.6692</td>\n",
       "      <td>0.6180</td>\n",
       "      <td>0.4715</td>\n",
       "      <td>0.4926</td>\n",
       "      <td>entropy</td>\n",
       "      <td>180</td>\n",
       "      <td>50</td>\n",
       "    </tr>\n",
       "    <tr>\n",
       "      <th>78</th>\n",
       "      <td>0.6689</td>\n",
       "      <td>0.6380</td>\n",
       "      <td>0.4629</td>\n",
       "      <td>0.4820</td>\n",
       "      <td>entropy</td>\n",
       "      <td>100</td>\n",
       "      <td>50</td>\n",
       "    </tr>\n",
       "    <tr>\n",
       "      <th>79</th>\n",
       "      <td>0.6689</td>\n",
       "      <td>0.6298</td>\n",
       "      <td>0.4717</td>\n",
       "      <td>0.4940</td>\n",
       "      <td>entropy</td>\n",
       "      <td>160</td>\n",
       "      <td>50</td>\n",
       "    </tr>\n",
       "    <tr>\n",
       "      <th>80</th>\n",
       "      <td>0.6684</td>\n",
       "      <td>0.6354</td>\n",
       "      <td>0.4662</td>\n",
       "      <td>0.4866</td>\n",
       "      <td>entropy</td>\n",
       "      <td>110</td>\n",
       "      <td>50</td>\n",
       "    </tr>\n",
       "  </tbody>\n",
       "</table>\n",
       "<p>80 rows × 7 columns</p>\n",
       "</div>"
      ],
      "text/plain": [
       "                   Mean Test Accuracy Mean Test Precision (macro)  \\\n",
       "Rank (By Accuracy)                                                  \n",
       "1                              0.6809                      0.6603   \n",
       "2                              0.6802                      0.6571   \n",
       "3                              0.6796                      0.6463   \n",
       "4                              0.6792                      0.6438   \n",
       "5                              0.6792                      0.6596   \n",
       "...                               ...                         ...   \n",
       "76                             0.6702                      0.6286   \n",
       "77                             0.6692                      0.6180   \n",
       "78                             0.6689                      0.6380   \n",
       "79                             0.6689                      0.6298   \n",
       "80                             0.6684                      0.6354   \n",
       "\n",
       "                   Mean Test Recall (macro) Mean Test F1-Score (macro)  \\\n",
       "Rank (By Accuracy)                                                       \n",
       "1                                    0.4690                     0.4887   \n",
       "2                                    0.4684                     0.4881   \n",
       "3                                    0.4794                     0.5026   \n",
       "4                                    0.4796                     0.5027   \n",
       "5                                    0.4666                     0.4859   \n",
       "...                                     ...                        ...   \n",
       "76                                   0.4711                     0.4924   \n",
       "77                                   0.4715                     0.4926   \n",
       "78                                   0.4629                     0.4820   \n",
       "79                                   0.4717                     0.4940   \n",
       "80                                   0.4662                     0.4866   \n",
       "\n",
       "                   param_rfc__criterion param_rfc__max_depth  \\\n",
       "Rank (By Accuracy)                                             \n",
       "1                                  gini                  110   \n",
       "2                                  gini                  110   \n",
       "3                                  gini                  180   \n",
       "4                                  gini                  170   \n",
       "5                                  gini                  100   \n",
       "...                                 ...                  ...   \n",
       "76                              entropy                  140   \n",
       "77                              entropy                  180   \n",
       "78                              entropy                  100   \n",
       "79                              entropy                  160   \n",
       "80                              entropy                  110   \n",
       "\n",
       "                   param_rfc__n_estimators  \n",
       "Rank (By Accuracy)                          \n",
       "1                                      200  \n",
       "2                                      100  \n",
       "3                                      150  \n",
       "4                                      150  \n",
       "5                                      150  \n",
       "...                                    ...  \n",
       "76                                      50  \n",
       "77                                      50  \n",
       "78                                      50  \n",
       "79                                      50  \n",
       "80                                      50  \n",
       "\n",
       "[80 rows x 7 columns]"
      ]
     },
     "execution_count": 40,
     "metadata": {},
     "output_type": "execute_result"
    }
   ],
   "source": [
    "params = {}\n",
    "params['rfc__criterion'] = ['gini','entropy']\n",
    "params['rfc__n_estimators'] = np.arange(50,250,50)\n",
    "params['rfc__max_depth'] = np.arange(100,200,10)\n",
    "# params['rfc__max_leaf_nodes']=[4000,4500,5000]\n",
    "\n",
    "cvec_rfc_model_pipe = Pipeline([\n",
    "    ('cvec',CountVectorizer()),\n",
    "   ('rfc',RandomForestClassifier(random_state=42)\n",
    "   )\n",
    "])\n",
    "\n",
    "cvec_rfc_gs = GridSearchCV(estimator=cvec_rfc_model_pipe,\n",
    "                           param_grid=params,\n",
    "                           n_jobs=NB_n_jobs,\n",
    "                           scoring=[ 'accuracy','precision_macro','recall_macro','f1_macro'],\n",
    "                           refit='accuracy',\n",
    "                           return_train_score=True)\n",
    "\n",
    "cvec_rfc_gs.fit(X_train,y_train)\n",
    "prettyPrintGridCVResults(cvec_rfc_gs)"
   ]
  },
  {
   "cell_type": "code",
   "execution_count": 41,
   "metadata": {
    "ExecuteTime": {
     "end_time": "2022-05-12T14:47:09.397981Z",
     "start_time": "2022-05-12T14:47:08.944797Z"
    }
   },
   "outputs": [
    {
     "name": "stdout",
     "output_type": "stream",
     "text": [
      "              precision    recall  f1-score   support\n",
      "\n",
      "           0       0.71      0.18      0.29       166\n",
      "           1       0.69      0.92      0.79      1550\n",
      "           2       0.72      0.40      0.52       855\n",
      "\n",
      "    accuracy                           0.70      2571\n",
      "   macro avg       0.71      0.50      0.53      2571\n",
      "weighted avg       0.70      0.70      0.66      2571\n",
      "\n"
     ]
    }
   ],
   "source": [
    "cr = classification_report(y_test, cvec_rfc_gs.best_estimator_.predict(X_test))\n",
    "print(cr)"
   ]
  },
  {
   "cell_type": "markdown",
   "metadata": {},
   "source": [
    "Overall accuracy is around 69% with an F1-Score of 67%"
   ]
  },
  {
   "cell_type": "code",
   "execution_count": 42,
   "metadata": {
    "ExecuteTime": {
     "end_time": "2022-05-12T14:47:09.794617Z",
     "start_time": "2022-05-12T14:47:09.399974Z"
    }
   },
   "outputs": [],
   "source": [
    "cm = confusion_matrix(y_test, cvec_rfc_gs.best_estimator_.predict(X_test))"
   ]
  },
  {
   "cell_type": "code",
   "execution_count": 43,
   "metadata": {
    "ExecuteTime": {
     "end_time": "2022-05-12T14:47:10.608377Z",
     "start_time": "2022-05-12T14:47:09.797568Z"
    }
   },
   "outputs": [
    {
     "data": {
      "image/png": "[encoded data removed]",
      "text/plain": [
       "<Figure size 720x720 with 2 Axes>"
      ]
     },
     "metadata": {
      "needs_background": "light"
     },
     "output_type": "display_data"
    }
   ],
   "source": [
    "fig, ax = plt.subplots(figsize=(10,10))\n",
    "disp = ConfusionMatrixDisplay.from_estimator(\n",
    "        cvec_rfc_gs.best_estimator_,\n",
    "        X_test,\n",
    "        y_test,\n",
    "        display_labels=le.classes_,\n",
    "        cmap='OrRd',\n",
    "        normalize='true',\n",
    "        ax=ax\n",
    "       ).ax_.set_title('Normalized Confusion Matrix')"
   ]
  },
  {
   "cell_type": "markdown",
   "metadata": {},
   "source": [
    "As can be seen our model has a long way to go. Currently the model performs its worst with clasiffying `Negative emotion` and best at `No emotion toward brand or product`. This is primarily due to a heavy imbalance in the classes.\n",
    "Techniques to over come the imbalance will need to be employed."
   ]
  },
  {
   "cell_type": "markdown",
   "metadata": {
    "ExecuteTime": {
     "end_time": "2022-05-10T21:53:11.957407Z",
     "start_time": "2022-05-10T21:53:11.948405Z"
    }
   },
   "source": [
    "# Future Steps"
   ]
  },
  {
   "cell_type": "markdown",
   "metadata": {},
   "source": [
    "Potential upsampling techniques to be utilised:\n",
    "- Backtranslation on minority sample to augment our tweet text data\n",
    "- Synonymising the minority sample to augment our tweet text data\n",
    "- SMOTEing the the minority sample to augment our tweet text data"
   ]
  }
 ],
 "metadata": {
  "kernelspec": {
   "display_name": "Python (learn-env)",
   "language": "python",
   "name": "learn-env"
  },
  "language_info": {
   "codemirror_mode": {
    "name": "ipython",
    "version": 3
   },
   "file_extension": ".py",
   "mimetype": "text/x-python",
   "name": "python",
   "nbconvert_exporter": "python",
   "pygments_lexer": "ipython3",
   "version": "3.8.5"
  },
  "toc": {
   "base_numbering": 1,
   "nav_menu": {},
   "number_sections": true,
   "sideBar": true,
   "skip_h1_title": false,
   "title_cell": "Table of Contents",
   "title_sidebar": "Contents",
   "toc_cell": false,
   "toc_position": {
    "height": "calc(100% - 180px)",
    "left": "10px",
    "top": "150px",
    "width": "412px"
   },
   "toc_section_display": true,
   "toc_window_display": false
  },
  "varInspector": {
   "cols": {
    "lenName": 16,
    "lenType": 16,
    "lenVar": 40
   },
   "kernels_config": {
    "python": {
     "delete_cmd_postfix": "",
     "delete_cmd_prefix": "del ",
     "library": "var_list.py",
     "varRefreshCmd": "print(var_dic_list())"
    },
    "r": {
     "delete_cmd_postfix": ") ",
     "delete_cmd_prefix": "rm(",
     "library": "var_list.r",
     "varRefreshCmd": "cat(var_dic_list()) "
    }
   },
   "types_to_exclude": [
    "module",
    "function",
    "builtin_function_or_method",
    "instance",
    "_Feature"
   ],
   "window_display": false
  }
 },
 "nbformat": 4,
 "nbformat_minor": 5
}
