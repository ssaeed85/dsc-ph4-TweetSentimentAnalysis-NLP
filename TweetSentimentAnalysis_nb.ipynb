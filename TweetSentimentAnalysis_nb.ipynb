{
 "cells": [
  {
   "cell_type": "markdown",
   "id": "45f146b5",
   "metadata": {},
   "source": [
    "![img](./images/SplashHeader_NB.png)\n",
    "\n"
   ]
  },
  {
   "cell_type": "markdown",
   "id": "a5741807",
   "metadata": {},
   "source": [
    "# Business Problem\n",
    "\n",
    "It almost goes without saying, but people attend music and cultural festivals to have a good time, and no matter how meticulously you plan your festival, there will always be factors out of your control - chief among them, your AUDIENCE. You might not be able to predict people’s behavior, but you *can* respond to it.\n",
    "\n",
    "Bad vibes are contagious, and bad PR can spread like wildfire. This has never been more true than in an era dominated by smartphones and social networks, where users of sites like Twitter are constantly documenting their adventures and activities. If you’re hosting an event, and your attendees are having a bad time, you’ll want to know, so you can swiftly and appropriately address their concerns. Posts that contain text and sometimes images–provide just one avenue into gauging attendees’ emotions."
   ]
  },
  {
   "cell_type": "markdown",
   "id": "fc5d121d",
   "metadata": {},
   "source": [
    "# Overview\n",
    "\n",
    "\n",
    "Tweets — brief, character-limited posts that are shared on [Twitter](https://help.twitter.com/en/using-twitter/types-of-tweets) by users) — were scraped and analyzed by human contributors to determine if the text of the tweet contained a positive, negative, or neutral/non-existent sentiment toward a named tech brand or product, e.g. iPhone or Android. Using the ground truths provided by these labels, we employ natural language processing (NLP) techniques to predict whether a string of text (like a tweet) contains a sentiment toward a product. \n",
    "\n",
    "Using the Natural Language Toolkit (NLTK) package for Python, along with machine learning tools from scikit-learn, we built several classification models that were able to predict with varying degrees of accuracy whether a tweet contained any emotion toward a product whatsoever, and whether that emotion was positive or negative. Festival organizers and administrators can use this framework to gauge attendee sentiment and address audience needs in a swift and appropriate fashion. Future iterations of our analysis would incorporate more refined upsampling techniques to address class imbalance, training the model on tweets written in languages other than English, and models that identify more *specific* sentiments like emergency.\n"
   ]
  },
  {
   "cell_type": "markdown",
   "id": "e7f6445f",
   "metadata": {},
   "source": [
    "# Methodology\n",
    "\n",
    "The tweet text will be our primary feature for modeling. The text data was subject to the usual preprocessing steps for NLP operations. For this purpose we built a custom [Python function](./src/documentParser.py) that...\n",
    "\n",
    "- Searches a document for regular expressions and creates tokens, using NLTK's `RegexpTokenizer`. In this case, combinations of alphanumeric characters that immediately follow instances of an `@` symbol were excluded, as these \"[mentions](https://en.wikipedia.org/wiki/Mention_(blogging)#@_(At_sign))\" have minimal semantic value and muddy the data. Punctuation and other stray characters are removed during tokenization.\n",
    "- Standardizes the tokens by converting all (alphabetical) characters to *lowercase*.\n",
    "- Discards the most common English words, which have negligible semantic value, from the list of tokens, using NLTK's `corpus.stopwords` module.\n",
    "    - **Note:** the stopwords list was also programatically updated to exclude location- and platform-specific strings like \"SXSW\" or \"RT\".\n",
    "- Reduces instances of related words/tokens to common roots, using NLTK's `PorterStemmer`.\n",
    "\n",
    "\n",
    "\n",
    "To prepare the data (i.e. strings of text) for modeling, we used two vectorization techniques - a simple bag-of-words approach with sklearn's `CountVectorizer` and a term-importance (TF-IDF scoring) approach using the same library's `TfidfVectorizer`. With each vectorization method, we tested for accuracy and F1 score used four unique classification algorithms:\n",
    "- `RandomForestClassifier`\n",
    "- `MultinomialNB` (Multinomial Naive Bayes)\n",
    "- `GradientBoostingClassifier`\n",
    "- `XGBRFClassifier` (XGBoosted Random Forest)"
   ]
  },
  {
   "cell_type": "markdown",
   "id": "79dfbb6a",
   "metadata": {},
   "source": [
    "# Business Problem\n",
    "\n",
    "It almost goes without saying, but people attend music and cultural festivals to have a good time, and no matter how meticulously you plan your festival, there will always be factors out of your control - chief among them, your AUDIENCE. You might not be able to predict people’s behavior, but you *can* respond to it.\n",
    "\n",
    "Bad vibes are contagious, and bad PR can spread like wildfire. This has never been more true than in an era dominated by smartphones and social networks, where users of sites like Twitter are constantly documenting their adventures and activities. If you’re hosting an event, and your attendees are having a bad time, you’ll want to know, so you can swiftly and appropriately address their concerns. Posts that contain text and sometimes images–provide just one avenue into gauging attendees’ emotions."
   ]
  },
  {
   "cell_type": "markdown",
   "id": "ab35fdb6",
   "metadata": {},
   "source": [
    "# Imports"
   ]
  },
  {
   "cell_type": "code",
   "execution_count": 24,
   "id": "63a9602b",
   "metadata": {
    "ExecuteTime": {
     "end_time": "2022-05-12T23:57:21.481773Z",
     "start_time": "2022-05-12T23:57:21.467770Z"
    }
   },
   "outputs": [],
   "source": [
    "# Pandas DataFrame Library\n",
    "import pandas as pd\n",
    "pd.options.display.max_columns = 50   # max number of displayed columns\n",
    "pd.options.display.max_colwidth = 280 # max width of a column. Set to 280 to match with max tweet length\n",
    "\n",
    "# Visualizations\n",
    "import matplotlib.pyplot as plt\n",
    "\n",
    "# Numpy  and setting random states\n",
    "import random\n",
    "random.seed(42)\n",
    "\n",
    "import numpy as np\n",
    "np.random.RandomState(42)\n",
    "\n",
    "\n",
    "# Scikit-Learn modeling library\n",
    "from sklearn.feature_extraction.text import TfidfVectorizer, CountVectorizer\n",
    "from sklearn.ensemble import RandomForestClassifier, GradientBoostingClassifier\n",
    "from sklearn.naive_bayes import MultinomialNB\n",
    "from sklearn.metrics import confusion_matrix, classification_report,ConfusionMatrixDisplay\n",
    "from sklearn.pipeline import Pipeline\n",
    "from sklearn.preprocessing import LabelEncoder\n",
    "from sklearn.model_selection import train_test_split, cross_validate, GridSearchCV\n",
    "from sklearn.dummy import DummyClassifier\n",
    "\n",
    "# NLTK\n",
    "from nltk.corpus import stopwords\n",
    "sw = stopwords.words('english')\n",
    "\n",
    "# XGBoost modeling library\n",
    "from xgboost import XGBRFClassifier\n",
    "\n",
    "# Used to save models\n",
    "import pickle"
   ]
  },
  {
   "cell_type": "code",
   "execution_count": 25,
   "id": "36ce1d31",
   "metadata": {
    "ExecuteTime": {
     "end_time": "2022-05-12T23:57:21.496776Z",
     "start_time": "2022-05-12T23:57:21.482773Z"
    }
   },
   "outputs": [],
   "source": [
    "# # Uncomment below and run if you nltk throws up errors\n",
    "# import nltk\n",
    "# nltk.download('omw-1.4')"
   ]
  },
  {
   "cell_type": "markdown",
   "id": "144bad7d",
   "metadata": {},
   "source": [
    "### Helper Functions"
   ]
  },
  {
   "cell_type": "code",
   "execution_count": 1,
   "id": "499f1645",
   "metadata": {
    "ExecuteTime": {
     "end_time": "2022-05-13T15:01:20.369875Z",
     "start_time": "2022-05-13T15:01:19.383471Z"
    }
   },
   "outputs": [],
   "source": [
    "#Additional Helper functions can be found in 'src/'\n",
    "\n",
    "import sys\n",
    "sys.path.append( 'src' )\n",
    "from documentParser import doc_preparer , getTopWordFreq \n",
    "from modelingResultPrettyPrinter import prettyPrintGridCVResults, prettyPrintCVScores"
   ]
  },
  {
   "cell_type": "markdown",
   "id": "d1363674",
   "metadata": {},
   "source": [
    "### Note: n_jobs"
   ]
  },
  {
   "cell_type": "markdown",
   "id": "0d8a8ea8",
   "metadata": {},
   "source": [
    "**Note:** To speed up running of model fit cells, the n_jobs parameter is set to a global variable. This can be set to -1 to allow access to the entirety of your machine's CPU resources for operations in this notebook (where applicable). This ***will*** make your machine essentially unusable until the operations have finished performing. Set this to None for regular operations"
   ]
  },
  {
   "cell_type": "code",
   "execution_count": 27,
   "id": "e52d2639",
   "metadata": {
    "ExecuteTime": {
     "end_time": "2022-05-12T23:57:21.526782Z",
     "start_time": "2022-05-12T23:57:21.512780Z"
    }
   },
   "outputs": [],
   "source": [
    "NB_n_jobs = 4"
   ]
  },
  {
   "cell_type": "markdown",
   "id": "bafca5e6",
   "metadata": {
    "ExecuteTime": {
     "end_time": "2022-05-10T19:29:12.698541Z",
     "start_time": "2022-05-10T19:29:12.694541Z"
    }
   },
   "source": [
    "# Data: Loading, Cleaning, and Munging"
   ]
  },
  {
   "cell_type": "markdown",
   "id": "d76e9023",
   "metadata": {},
   "source": [
    "## The Data"
   ]
  },
  {
   "cell_type": "markdown",
   "id": "05d7bac5",
   "metadata": {},
   "source": [
    "This dataset is a subset of webscraped twitter data that was gathered at the SXSW festival that is held annually at Austin, Texas. It is a self described meeting of music, tech and film.\n",
    "\n",
    "\n",
    "This data was gathered by  FigureEight, formerly CrowdFlower. Per CrowdFlower's website for this dataset:"
   ]
  },
  {
   "cell_type": "markdown",
   "id": "3cb2482f",
   "metadata": {},
   "source": [
    "Description:\n",
    ">Judge Emotion About Brands and Products\n",
    "\n",
    "Summary:\n",
    ">Contributors evaluated tweets about multiple brands and products. The crowd was asked if the tweet expressed positive, negative, or no emotion towards a brand and/or product. If some emotion was expressed they were also asked to say which brand or product was the target of that emotion. Added: August 30, 2013 by Kent Cavender-Bares | Data Rows: 9093 Download Now\n",
    "\n",
    "Source:\n",
    "https://data.world/crowdflower/brands-and-product-emotions"
   ]
  },
  {
   "cell_type": "markdown",
   "id": "b456facc",
   "metadata": {
    "ExecuteTime": {
     "end_time": "2022-05-10T19:29:12.698541Z",
     "start_time": "2022-05-10T19:29:12.694541Z"
    }
   },
   "source": [
    "## Loading"
   ]
  },
  {
   "cell_type": "code",
   "execution_count": 28,
   "id": "a4f8eae2",
   "metadata": {
    "ExecuteTime": {
     "end_time": "2022-05-12T23:57:21.558790Z",
     "start_time": "2022-05-12T23:57:21.527784Z"
    }
   },
   "outputs": [],
   "source": [
    "dataFolder_path = 'data/'\n",
    "data_df = pd.read_csv(dataFolder_path+'judge_1377884607_tweet_product_company.csv')"
   ]
  },
  {
   "cell_type": "code",
   "execution_count": 29,
   "id": "76c9853d",
   "metadata": {
    "ExecuteTime": {
     "end_time": "2022-05-12T23:57:21.574794Z",
     "start_time": "2022-05-12T23:57:21.559790Z"
    },
    "scrolled": false
   },
   "outputs": [
    {
     "data": {
      "text/html": [
       "<div>\n",
       "<style scoped>\n",
       "    .dataframe tbody tr th:only-of-type {\n",
       "        vertical-align: middle;\n",
       "    }\n",
       "\n",
       "    .dataframe tbody tr th {\n",
       "        vertical-align: top;\n",
       "    }\n",
       "\n",
       "    .dataframe thead th {\n",
       "        text-align: right;\n",
       "    }\n",
       "</style>\n",
       "<table border=\"1\" class=\"dataframe\">\n",
       "  <thead>\n",
       "    <tr style=\"text-align: right;\">\n",
       "      <th></th>\n",
       "      <th>tweet_text</th>\n",
       "      <th>emotion_in_tweet_is_directed_at</th>\n",
       "      <th>is_there_an_emotion_directed_at_a_brand_or_product</th>\n",
       "    </tr>\n",
       "  </thead>\n",
       "  <tbody>\n",
       "    <tr>\n",
       "      <th>0</th>\n",
       "      <td>.@wesley83 I have a 3G iPhone. After 3 hrs tweeting at #RISE_Austin, it was dead!  I need to upgrade. Plugin stations at #SXSW.</td>\n",
       "      <td>iPhone</td>\n",
       "      <td>Negative emotion</td>\n",
       "    </tr>\n",
       "    <tr>\n",
       "      <th>1</th>\n",
       "      <td>@jessedee Know about @fludapp ? Awesome iPad/iPhone app that you'll likely appreciate for its design. Also, they're giving free Ts at #SXSW</td>\n",
       "      <td>iPad or iPhone App</td>\n",
       "      <td>Positive emotion</td>\n",
       "    </tr>\n",
       "    <tr>\n",
       "      <th>2</th>\n",
       "      <td>@swonderlin Can not wait for #iPad 2 also. They should sale them down at #SXSW.</td>\n",
       "      <td>iPad</td>\n",
       "      <td>Positive emotion</td>\n",
       "    </tr>\n",
       "  </tbody>\n",
       "</table>\n",
       "</div>"
      ],
      "text/plain": [
       "                                                                                                                                    tweet_text  \\\n",
       "0              .@wesley83 I have a 3G iPhone. After 3 hrs tweeting at #RISE_Austin, it was dead!  I need to upgrade. Plugin stations at #SXSW.   \n",
       "1  @jessedee Know about @fludapp ? Awesome iPad/iPhone app that you'll likely appreciate for its design. Also, they're giving free Ts at #SXSW   \n",
       "2                                                              @swonderlin Can not wait for #iPad 2 also. They should sale them down at #SXSW.   \n",
       "\n",
       "  emotion_in_tweet_is_directed_at  \\\n",
       "0                          iPhone   \n",
       "1              iPad or iPhone App   \n",
       "2                            iPad   \n",
       "\n",
       "  is_there_an_emotion_directed_at_a_brand_or_product  \n",
       "0                                   Negative emotion  \n",
       "1                                   Positive emotion  \n",
       "2                                   Positive emotion  "
      ]
     },
     "execution_count": 29,
     "metadata": {},
     "output_type": "execute_result"
    }
   ],
   "source": [
    "data_df.head(3)"
   ]
  },
  {
   "cell_type": "code",
   "execution_count": 30,
   "id": "8f8fc544",
   "metadata": {
    "ExecuteTime": {
     "end_time": "2022-05-12T23:57:21.590797Z",
     "start_time": "2022-05-12T23:57:21.575794Z"
    }
   },
   "outputs": [
    {
     "data": {
      "text/plain": [
       "(8721, 3)"
      ]
     },
     "execution_count": 30,
     "metadata": {},
     "output_type": "execute_result"
    }
   ],
   "source": [
    "data_df.shape"
   ]
  },
  {
   "cell_type": "markdown",
   "id": "ddd77882",
   "metadata": {
    "ExecuteTime": {
     "end_time": "2022-05-10T19:29:12.698541Z",
     "start_time": "2022-05-10T19:29:12.694541Z"
    }
   },
   "source": [
    "## Cleaning"
   ]
  },
  {
   "cell_type": "markdown",
   "id": "f39fa42f",
   "metadata": {},
   "source": [
    "Let's rename the columns for ease of use. Note that `product` is a reserved word in Python; for the second column, initially titled `emotion_in_tweet_is_directed_at`, we use `product_name`."
   ]
  },
  {
   "cell_type": "code",
   "execution_count": 31,
   "id": "790622e6",
   "metadata": {
    "ExecuteTime": {
     "end_time": "2022-05-12T23:57:21.606801Z",
     "start_time": "2022-05-12T23:57:21.591798Z"
    }
   },
   "outputs": [],
   "source": [
    "data_df.rename(columns = {'tweet_text': 'text',\n",
    "                          'emotion_in_tweet_is_directed_at': 'product_name',\n",
    "                          'is_there_an_emotion_directed_at_a_brand_or_product': 'emotion'},\n",
    "               inplace = True)"
   ]
  },
  {
   "cell_type": "code",
   "execution_count": 32,
   "id": "a9be1e9b",
   "metadata": {
    "ExecuteTime": {
     "end_time": "2022-05-12T23:57:21.622805Z",
     "start_time": "2022-05-12T23:57:21.607802Z"
    },
    "scrolled": true
   },
   "outputs": [
    {
     "data": {
      "text/plain": [
       "text               1\n",
       "product_name    5552\n",
       "emotion            0\n",
       "dtype: int64"
      ]
     },
     "execution_count": 32,
     "metadata": {},
     "output_type": "execute_result"
    }
   ],
   "source": [
    "data_df.isna().sum()"
   ]
  },
  {
   "cell_type": "markdown",
   "id": "52636501",
   "metadata": {},
   "source": [
    "There is an extremely large number of nulls in `product name`. For the purpose of modeling, the columns we specifically care about are the `text` and `emotion` columns, since we are going to try and predict the emotional quotient of a tweet. Lets look at the one null record."
   ]
  },
  {
   "cell_type": "code",
   "execution_count": 33,
   "id": "3faac6df",
   "metadata": {
    "ExecuteTime": {
     "end_time": "2022-05-12T23:57:21.638808Z",
     "start_time": "2022-05-12T23:57:21.624805Z"
    },
    "scrolled": true
   },
   "outputs": [
    {
     "data": {
      "text/html": [
       "<div>\n",
       "<style scoped>\n",
       "    .dataframe tbody tr th:only-of-type {\n",
       "        vertical-align: middle;\n",
       "    }\n",
       "\n",
       "    .dataframe tbody tr th {\n",
       "        vertical-align: top;\n",
       "    }\n",
       "\n",
       "    .dataframe thead th {\n",
       "        text-align: right;\n",
       "    }\n",
       "</style>\n",
       "<table border=\"1\" class=\"dataframe\">\n",
       "  <thead>\n",
       "    <tr style=\"text-align: right;\">\n",
       "      <th></th>\n",
       "      <th>text</th>\n",
       "      <th>product_name</th>\n",
       "      <th>emotion</th>\n",
       "    </tr>\n",
       "  </thead>\n",
       "  <tbody>\n",
       "    <tr>\n",
       "      <th>6</th>\n",
       "      <td>NaN</td>\n",
       "      <td>NaN</td>\n",
       "      <td>No emotion toward brand or product</td>\n",
       "    </tr>\n",
       "  </tbody>\n",
       "</table>\n",
       "</div>"
      ],
      "text/plain": [
       "  text product_name                             emotion\n",
       "6  NaN          NaN  No emotion toward brand or product"
      ]
     },
     "execution_count": 33,
     "metadata": {},
     "output_type": "execute_result"
    }
   ],
   "source": [
    "data_df[data_df.text.isna()]"
   ]
  },
  {
   "cell_type": "markdown",
   "id": "6d1cd388",
   "metadata": {
    "ExecuteTime": {
     "end_time": "2022-05-10T19:44:11.836326Z",
     "start_time": "2022-05-10T19:44:11.824323Z"
    }
   },
   "source": [
    "This record has no relevant information associated with it. No text, no emotion, no product. It was probably captured erroneously, or was probably unintentionally cleared after capturing. In either case, no useful information can be drawn from it. We shall drop this record"
   ]
  },
  {
   "cell_type": "code",
   "execution_count": 34,
   "id": "af1d6eb1",
   "metadata": {
    "ExecuteTime": {
     "end_time": "2022-05-12T23:57:21.654812Z",
     "start_time": "2022-05-12T23:57:21.639809Z"
    }
   },
   "outputs": [
    {
     "data": {
      "text/plain": [
       "(8720, 3)"
      ]
     },
     "execution_count": 34,
     "metadata": {},
     "output_type": "execute_result"
    }
   ],
   "source": [
    "data_df.dropna(subset=['text'],inplace=True)\n",
    "data_df.shape"
   ]
  },
  {
   "cell_type": "markdown",
   "id": "477c8a2c",
   "metadata": {
    "ExecuteTime": {
     "end_time": "2022-05-10T19:29:12.698541Z",
     "start_time": "2022-05-10T19:29:12.694541Z"
    }
   },
   "source": [
    "## Munging"
   ]
  },
  {
   "cell_type": "code",
   "execution_count": 36,
   "id": "a27a8e90",
   "metadata": {
    "ExecuteTime": {
     "end_time": "2022-05-12T23:57:22.879087Z",
     "start_time": "2022-05-12T23:57:22.864083Z"
    }
   },
   "outputs": [
    {
     "data": {
      "text/plain": [
       "(8720, 3)"
      ]
     },
     "execution_count": 36,
     "metadata": {},
     "output_type": "execute_result"
    }
   ],
   "source": [
    "data_df.shape"
   ]
  },
  {
   "cell_type": "code",
   "execution_count": 37,
   "id": "8fc51883",
   "metadata": {
    "ExecuteTime": {
     "end_time": "2022-05-12T23:57:22.895091Z",
     "start_time": "2022-05-12T23:57:22.880087Z"
    }
   },
   "outputs": [
    {
     "data": {
      "text/html": [
       "<div>\n",
       "<style scoped>\n",
       "    .dataframe tbody tr th:only-of-type {\n",
       "        vertical-align: middle;\n",
       "    }\n",
       "\n",
       "    .dataframe tbody tr th {\n",
       "        vertical-align: top;\n",
       "    }\n",
       "\n",
       "    .dataframe thead th {\n",
       "        text-align: right;\n",
       "    }\n",
       "</style>\n",
       "<table border=\"1\" class=\"dataframe\">\n",
       "  <thead>\n",
       "    <tr style=\"text-align: right;\">\n",
       "      <th></th>\n",
       "      <th>text</th>\n",
       "      <th>product_name</th>\n",
       "      <th>emotion</th>\n",
       "    </tr>\n",
       "  </thead>\n",
       "  <tbody>\n",
       "    <tr>\n",
       "      <th>count</th>\n",
       "      <td>8720</td>\n",
       "      <td>3169</td>\n",
       "      <td>8720</td>\n",
       "    </tr>\n",
       "    <tr>\n",
       "      <th>unique</th>\n",
       "      <td>8693</td>\n",
       "      <td>9</td>\n",
       "      <td>4</td>\n",
       "    </tr>\n",
       "    <tr>\n",
       "      <th>top</th>\n",
       "      <td>RT @mention Marissa Mayer: Google Will Connect the Digital &amp;amp; Physical Worlds Through Mobile - {link} #sxsw</td>\n",
       "      <td>iPad</td>\n",
       "      <td>No emotion toward brand or product</td>\n",
       "    </tr>\n",
       "    <tr>\n",
       "      <th>freq</th>\n",
       "      <td>5</td>\n",
       "      <td>910</td>\n",
       "      <td>5155</td>\n",
       "    </tr>\n",
       "  </tbody>\n",
       "</table>\n",
       "</div>"
      ],
      "text/plain": [
       "                                                                                                                  text  \\\n",
       "count                                                                                                             8720   \n",
       "unique                                                                                                            8693   \n",
       "top     RT @mention Marissa Mayer: Google Will Connect the Digital &amp; Physical Worlds Through Mobile - {link} #sxsw   \n",
       "freq                                                                                                                 5   \n",
       "\n",
       "       product_name                             emotion  \n",
       "count          3169                                8720  \n",
       "unique            9                                   4  \n",
       "top            iPad  No emotion toward brand or product  \n",
       "freq            910                                5155  "
      ]
     },
     "execution_count": 37,
     "metadata": {},
     "output_type": "execute_result"
    }
   ],
   "source": [
    "data_df.describe()"
   ]
  },
  {
   "cell_type": "markdown",
   "id": "338ff490",
   "metadata": {},
   "source": [
    "`emotion` only has 4 unique values (classes). A well balanced dataset would go a long way in improving model predictions. Let's get a look of how the target column (`emotion`) is distributed."
   ]
  },
  {
   "cell_type": "code",
   "execution_count": 38,
   "id": "41437c3b",
   "metadata": {
    "ExecuteTime": {
     "end_time": "2022-05-12T23:57:22.911094Z",
     "start_time": "2022-05-12T23:57:22.896091Z"
    },
    "scrolled": true
   },
   "outputs": [
    {
     "name": "stdout",
     "output_type": "stream",
     "text": [
      "Emotion value counts:\n",
      "No emotion toward brand or product    5155\n",
      "Positive emotion                      2869\n",
      "Negative emotion                       545\n",
      "I can't tell                           151\n",
      "Name: emotion, dtype: int64\n"
     ]
    }
   ],
   "source": [
    "print(f\"Emotion value counts:\\n{data_df.emotion.value_counts()}\")"
   ]
  },
  {
   "cell_type": "markdown",
   "id": "6ce3aac1",
   "metadata": {},
   "source": [
    "There seems to be a significant imbalance in our data especially with 2 of our least represented classes. We can confirm this by normalizing and visualizing the data."
   ]
  },
  {
   "cell_type": "code",
   "execution_count": 39,
   "id": "4f8ffb70",
   "metadata": {
    "ExecuteTime": {
     "end_time": "2022-05-12T23:57:23.071130Z",
     "start_time": "2022-05-12T23:57:22.912095Z"
    }
   },
   "outputs": [
    {
     "name": "stdout",
     "output_type": "stream",
     "text": [
      "Emotion value counts (normalized):\n",
      "No emotion toward brand or product    0.591170\n",
      "Positive emotion                      0.329014\n",
      "Negative emotion                      0.062500\n",
      "I can't tell                          0.017317\n",
      "Name: emotion, dtype: float64\n"
     ]
    },
    {
     "data": {
      "image/png": "[encoded data removed]",
      "text/plain": [
       "<Figure size 1008x576 with 1 Axes>"
      ]
     },
     "metadata": {
      "needs_background": "light"
     },
     "output_type": "display_data"
    }
   ],
   "source": [
    "fig, ax = plt.subplots(figsize = (14, 8))\n",
    "\n",
    "ax.bar(x = data_df.emotion.value_counts(normalize=True).index,\n",
    "       height = data_df.emotion.value_counts(normalize=True).values,\n",
    "       color = (0.2, 0.4, 0.6, 0.6),\n",
    "       edgecolor = 'black')\n",
    "\n",
    "plt.xticks(fontsize=12,\n",
    "           rotation=10)\n",
    "plt.yticks(fontsize=12)\n",
    "\n",
    "ax.set_xlabel(xlabel=\"Sentiment\",\n",
    "              fontsize=15,\n",
    "              labelpad=14)\n",
    "ax.set_ylabel(ylabel=\"Proportion of documents in corpus\",\n",
    "              fontsize=15,\n",
    "              labelpad=14)\n",
    "ax.set_title(label=\"Distribution of sentiment\",\n",
    "             fontsize=22,\n",
    "             pad=10);\n",
    "\n",
    "\n",
    "\n",
    "print(f\"Emotion value counts (normalized):\\n{data_df.emotion.value_counts(normalize=True)}\")\n",
    "\n",
    "plt.savefig('images/Sentiment_Distribution.jpg',dpi='figure', \n",
    "        bbox_inches='tight', \n",
    "        facecolor='auto', \n",
    "       )"
   ]
  },
  {
   "cell_type": "markdown",
   "id": "760458ec",
   "metadata": {},
   "source": [
    "`I can't tell` makes up less than 2% of our dataset, and doesn't offer much more information in the way of word significance than the tweets labeled `No emotion toward brand or product`. We will drop records where `emotion` has been recorded as `I can't tell`."
   ]
  },
  {
   "cell_type": "code",
   "execution_count": 40,
   "id": "2fb8ace7",
   "metadata": {
    "ExecuteTime": {
     "end_time": "2022-05-12T23:57:23.087134Z",
     "start_time": "2022-05-12T23:57:23.075131Z"
    },
    "scrolled": false
   },
   "outputs": [
    {
     "data": {
      "text/plain": [
       "(8569, 3)"
      ]
     },
     "execution_count": 40,
     "metadata": {},
     "output_type": "execute_result"
    }
   ],
   "source": [
    "data_df.drop(\n",
    "    index = data_df[data_df.emotion == \"I can't tell\"].index,\n",
    "    inplace = True)\n",
    "\n",
    "data_df.shape"
   ]
  },
  {
   "cell_type": "markdown",
   "id": "c9fd83c1",
   "metadata": {},
   "source": [
    "There is still a major imbalance in our dataset. Unfortunately, with a dataset this small, dropping any more records than absolutely necessary is not recommended. \\\n",
    "We may be able to supplement the data set down the line, but for now, we will continue with the dataset as is."
   ]
  },
  {
   "cell_type": "markdown",
   "id": "8b0b6397",
   "metadata": {},
   "source": [
    "### StopWords"
   ]
  },
  {
   "cell_type": "markdown",
   "id": "c047975d",
   "metadata": {},
   "source": [
    "When working with webscraping and social data mining applications, or NLP problems in general, one of the problems that crops up is there is a large number of words that are commonly used. These words (such as 'a', 'are' etc) won't be able to uniquely identify with our `emotion` column since they are so widely used. \\\n",
    "We will be implementing nltk's stopwords module to remove such commonly used english words, here is a few examples of such words."
   ]
  },
  {
   "cell_type": "code",
   "execution_count": 41,
   "id": "c42f2697",
   "metadata": {
    "ExecuteTime": {
     "end_time": "2022-05-12T23:57:23.103035Z",
     "start_time": "2022-05-12T23:57:23.088135Z"
    }
   },
   "outputs": [
    {
     "data": {
      "text/plain": [
       "['i', 'me', 'my', 'myself', 'we', 'our', 'ours', 'ourselves', 'you', \"you're\"]"
      ]
     },
     "execution_count": 41,
     "metadata": {},
     "output_type": "execute_result"
    }
   ],
   "source": [
    "sw[:10]"
   ]
  },
  {
   "cell_type": "markdown",
   "id": "1148d6d8",
   "metadata": {},
   "source": [
    "But we can improve upon this. To do so lets have a quick look at the most frequently used words across all tweets."
   ]
  },
  {
   "cell_type": "code",
   "execution_count": 42,
   "id": "1adbce73",
   "metadata": {
    "ExecuteTime": {
     "end_time": "2022-05-12T23:57:23.384939Z",
     "start_time": "2022-05-12T23:57:23.104035Z"
    },
    "scrolled": true
   },
   "outputs": [
    {
     "data": {
      "text/plain": [
       "[('sxsw', 9108),\n",
       " ('link', 4077),\n",
       " ('rt', 2925),\n",
       " ('ipad', 2848),\n",
       " ('google', 2504),\n",
       " ('apple', 2184),\n",
       " ('quot', 1582),\n",
       " ('iphone', 1497),\n",
       " ('store', 1397),\n",
       " ('new', 1057)]"
      ]
     },
     "execution_count": 42,
     "metadata": {},
     "output_type": "execute_result"
    }
   ],
   "source": [
    "# Lower case all text, remove punctuations, ignore stop words, get word frequency\n",
    "getTopWordFreq(data_df,'text',n=10,stop_words = sw)"
   ]
  },
  {
   "cell_type": "code",
   "execution_count": 43,
   "id": "b986207a",
   "metadata": {
    "ExecuteTime": {
     "end_time": "2022-05-12T23:59:28.899276Z",
     "start_time": "2022-05-12T23:59:28.497186Z"
    }
   },
   "outputs": [
    {
     "data": {
      "image/png": "[encoded data removed]",
      "text/plain": [
       "<Figure size 720x576 with 1 Axes>"
      ]
     },
     "metadata": {
      "needs_background": "light"
     },
     "output_type": "display_data"
    }
   ],
   "source": [
    "# Plot most frequent words\n",
    "fig, ax = plt.subplots(figsize=(10, 8))\n",
    "num_of_bars = 10\n",
    "viz_data = getTopWordFreq(data_df, 'text', n=num_of_bars, stop_words=sw)\n",
    "\n",
    "plt.xticks(fontsize=12,\n",
    "           rotation=20)\n",
    "plt.yticks(fontsize=12)\n",
    "ax.set_title('Word Frequency')\n",
    "\n",
    "ax.bar(x=[word for word, freq in viz_data],\n",
    "       height=[freq for word, freq in viz_data],\n",
    "       color=(0.2, 0.4, 0.6, 0.6),\n",
    "       edgecolor='black');\n",
    "\n",
    "plt.savefig('images/WordFreq_preSW.jpg',dpi='figure', \n",
    "        bbox_inches='tight', \n",
    "        facecolor='auto', \n",
    "       )"
   ]
  },
  {
   "cell_type": "markdown",
   "id": "821fac94",
   "metadata": {},
   "source": [
    "Just by looking at this, we can see there is a high occurence of \n",
    "- venue specific words such  as `sxsw`\n",
    "- twitter specific words such as `rt`\n",
    "- brand or product specific words such as `iphone`\n",
    "\n",
    "These words probably occur across our various sentiments and may not necessarily add any meaning, unless a majority of their occurence is associated with a particular `emotion`"
   ]
  },
  {
   "cell_type": "markdown",
   "id": "8c2dca53",
   "metadata": {},
   "source": [
    "Instead of dropping words that just occur at a high frequency across the entire corpus, we will drop words that occur at a high frequency across our positive _and_ negative emotional quotient."
   ]
  },
  {
   "cell_type": "markdown",
   "id": "0d164e1d",
   "metadata": {},
   "source": [
    "This should ensure we don't accidentally remove a word from the corpus that is overall heavily represented but is mostly represented in any 1 `emotion` and helps form a clearer delineation between the two emotions."
   ]
  },
  {
   "cell_type": "code",
   "execution_count": 44,
   "id": "2bc97d56",
   "metadata": {
    "ExecuteTime": {
     "end_time": "2022-05-12T23:59:41.201132Z",
     "start_time": "2022-05-12T23:59:41.186129Z"
    }
   },
   "outputs": [],
   "source": [
    "neg_df = data_df[data_df['emotion']=='Negative emotion']\n",
    "pos_df = data_df[data_df['emotion']=='Positive emotion']"
   ]
  },
  {
   "cell_type": "markdown",
   "id": "9fd6dfc8",
   "metadata": {},
   "source": [
    "Sanity Check"
   ]
  },
  {
   "cell_type": "code",
   "execution_count": 45,
   "id": "9df51b94",
   "metadata": {
    "ExecuteTime": {
     "end_time": "2022-05-12T23:59:41.595657Z",
     "start_time": "2022-05-12T23:59:41.577653Z"
    },
    "scrolled": true
   },
   "outputs": [
    {
     "data": {
      "text/html": [
       "<div>\n",
       "<style scoped>\n",
       "    .dataframe tbody tr th:only-of-type {\n",
       "        vertical-align: middle;\n",
       "    }\n",
       "\n",
       "    .dataframe tbody tr th {\n",
       "        vertical-align: top;\n",
       "    }\n",
       "\n",
       "    .dataframe thead th {\n",
       "        text-align: right;\n",
       "    }\n",
       "</style>\n",
       "<table border=\"1\" class=\"dataframe\">\n",
       "  <thead>\n",
       "    <tr style=\"text-align: right;\">\n",
       "      <th></th>\n",
       "      <th>text</th>\n",
       "      <th>product_name</th>\n",
       "      <th>emotion</th>\n",
       "    </tr>\n",
       "  </thead>\n",
       "  <tbody>\n",
       "    <tr>\n",
       "      <th>0</th>\n",
       "      <td>.@wesley83 I have a 3G iPhone. After 3 hrs tweeting at #RISE_Austin, it was dead!  I need to upgrade. Plugin stations at #SXSW.</td>\n",
       "      <td>iPhone</td>\n",
       "      <td>Negative emotion</td>\n",
       "    </tr>\n",
       "    <tr>\n",
       "      <th>3</th>\n",
       "      <td>@sxsw I hope this year's festival isn't as crashy as this year's iPhone app. #sxsw</td>\n",
       "      <td>iPad or iPhone App</td>\n",
       "      <td>Negative emotion</td>\n",
       "    </tr>\n",
       "    <tr>\n",
       "      <th>17</th>\n",
       "      <td>I just noticed DST is coming this weekend. How many iPhone users will be an hour late at SXSW come Sunday morning? #SXSW #iPhone</td>\n",
       "      <td>iPhone</td>\n",
       "      <td>Negative emotion</td>\n",
       "    </tr>\n",
       "  </tbody>\n",
       "</table>\n",
       "</div>"
      ],
      "text/plain": [
       "                                                                                                                                text  \\\n",
       "0    .@wesley83 I have a 3G iPhone. After 3 hrs tweeting at #RISE_Austin, it was dead!  I need to upgrade. Plugin stations at #SXSW.   \n",
       "3                                                 @sxsw I hope this year's festival isn't as crashy as this year's iPhone app. #sxsw   \n",
       "17  I just noticed DST is coming this weekend. How many iPhone users will be an hour late at SXSW come Sunday morning? #SXSW #iPhone   \n",
       "\n",
       "          product_name           emotion  \n",
       "0               iPhone  Negative emotion  \n",
       "3   iPad or iPhone App  Negative emotion  \n",
       "17              iPhone  Negative emotion  "
      ]
     },
     "execution_count": 45,
     "metadata": {},
     "output_type": "execute_result"
    }
   ],
   "source": [
    "neg_df.head(3)"
   ]
  },
  {
   "cell_type": "code",
   "execution_count": 46,
   "id": "79e955f7",
   "metadata": {
    "ExecuteTime": {
     "end_time": "2022-05-12T23:59:41.739108Z",
     "start_time": "2022-05-12T23:59:41.730106Z"
    },
    "scrolled": false
   },
   "outputs": [
    {
     "data": {
      "text/html": [
       "<div>\n",
       "<style scoped>\n",
       "    .dataframe tbody tr th:only-of-type {\n",
       "        vertical-align: middle;\n",
       "    }\n",
       "\n",
       "    .dataframe tbody tr th {\n",
       "        vertical-align: top;\n",
       "    }\n",
       "\n",
       "    .dataframe thead th {\n",
       "        text-align: right;\n",
       "    }\n",
       "</style>\n",
       "<table border=\"1\" class=\"dataframe\">\n",
       "  <thead>\n",
       "    <tr style=\"text-align: right;\">\n",
       "      <th></th>\n",
       "      <th>text</th>\n",
       "      <th>product_name</th>\n",
       "      <th>emotion</th>\n",
       "    </tr>\n",
       "  </thead>\n",
       "  <tbody>\n",
       "    <tr>\n",
       "      <th>1</th>\n",
       "      <td>@jessedee Know about @fludapp ? Awesome iPad/iPhone app that you'll likely appreciate for its design. Also, they're giving free Ts at #SXSW</td>\n",
       "      <td>iPad or iPhone App</td>\n",
       "      <td>Positive emotion</td>\n",
       "    </tr>\n",
       "    <tr>\n",
       "      <th>2</th>\n",
       "      <td>@swonderlin Can not wait for #iPad 2 also. They should sale them down at #SXSW.</td>\n",
       "      <td>iPad</td>\n",
       "      <td>Positive emotion</td>\n",
       "    </tr>\n",
       "    <tr>\n",
       "      <th>4</th>\n",
       "      <td>@sxtxstate great stuff on Fri #SXSW: Marissa Mayer (Google), Tim O'Reilly (tech books/conferences) &amp;amp; Matt Mullenweg (Wordpress)</td>\n",
       "      <td>Google</td>\n",
       "      <td>Positive emotion</td>\n",
       "    </tr>\n",
       "  </tbody>\n",
       "</table>\n",
       "</div>"
      ],
      "text/plain": [
       "                                                                                                                                          text  \\\n",
       "1  @jessedee Know about @fludapp ? Awesome iPad/iPhone app that you'll likely appreciate for its design. Also, they're giving free Ts at #SXSW   \n",
       "2                                                              @swonderlin Can not wait for #iPad 2 also. They should sale them down at #SXSW.   \n",
       "4          @sxtxstate great stuff on Fri #SXSW: Marissa Mayer (Google), Tim O'Reilly (tech books/conferences) &amp; Matt Mullenweg (Wordpress)   \n",
       "\n",
       "         product_name           emotion  \n",
       "1  iPad or iPhone App  Positive emotion  \n",
       "2                iPad  Positive emotion  \n",
       "4              Google  Positive emotion  "
      ]
     },
     "execution_count": 46,
     "metadata": {},
     "output_type": "execute_result"
    }
   ],
   "source": [
    "pos_df.head(3)"
   ]
  },
  {
   "cell_type": "code",
   "execution_count": 47,
   "id": "598b1c60",
   "metadata": {
    "ExecuteTime": {
     "end_time": "2022-05-12T23:59:42.247227Z",
     "start_time": "2022-05-12T23:59:41.867142Z"
    }
   },
   "outputs": [
    {
     "name": "stdout",
     "output_type": "stream",
     "text": [
      "As an example. Here are the top 3 words:\n",
      "Entire DataFrame: ['sxsw', 'link', 'rt']\n",
      "Positive Emotion: ['sxsw', 'ipad', 'link']\n",
      "negative Emotion: ['sxsw', 'ipad', 'quot']\n"
     ]
    }
   ],
   "source": [
    "print('As an example. Here are the top 3 words:')\n",
    "print(f\"Entire DataFrame: {[word for word,freq in getTopWordFreq(data_df,'text',3,stop_words = sw)]}\")\n",
    "print(f\"Positive Emotion: {[word for word,freq in getTopWordFreq(pos_df,'text',3,stop_words = sw)]}\")\n",
    "print(f\"negative Emotion: {[word for word,freq in getTopWordFreq(neg_df,'text',3,stop_words = sw)]}\")"
   ]
  },
  {
   "cell_type": "markdown",
   "id": "8e81a98f",
   "metadata": {},
   "source": [
    "As you can tell, there is going to be a lot of crossover with certain terms (`sxsw`, `ipad` in our example above) which we should remove however, we'd want to retain words that are potentially more identifiable with a certain `emotion`. This is just the top 3 words, and we shall be using a larger set.\\\n",
    "Looking at the top 50 common words in both positive and negative `emotion` tweets, there 30 common words."
   ]
  },
  {
   "cell_type": "code",
   "execution_count": 48,
   "id": "58a132ef",
   "metadata": {
    "ExecuteTime": {
     "end_time": "2022-05-12T23:59:42.484227Z",
     "start_time": "2022-05-12T23:59:42.358765Z"
    },
    "scrolled": false
   },
   "outputs": [
    {
     "name": "stdout",
     "output_type": "stream",
     "text": [
      "30\n"
     ]
    },
    {
     "data": {
      "text/plain": [
       "['rt',\n",
       " 'line',\n",
       " 'get',\n",
       " 'amp',\n",
       " 'network',\n",
       " 'google',\n",
       " 'app',\n",
       " 'ipad',\n",
       " 'launch',\n",
       " 'apps',\n",
       " 'today',\n",
       " 'link',\n",
       " 'like',\n",
       " 'quot',\n",
       " 'austin',\n",
       " 'time',\n",
       " 'social',\n",
       " 'new',\n",
       " 'store',\n",
       " 'see',\n",
       " 'day',\n",
       " 'people',\n",
       " 'iphone',\n",
       " 'one',\n",
       " 'apple',\n",
       " 'pop',\n",
       " 'android',\n",
       " 'good',\n",
       " 'circles',\n",
       " 'sxsw']"
      ]
     },
     "execution_count": 48,
     "metadata": {},
     "output_type": "execute_result"
    }
   ],
   "source": [
    "num_mostCommon_Words = 50\n",
    "common_neg_words = [word for word,freq in getTopWordFreq(neg_df, 'text',num_mostCommon_Words,stop_words = sw)]\n",
    "common_pos_words = [word for word,freq in getTopWordFreq(pos_df, 'text',num_mostCommon_Words,stop_words = sw)]\n",
    "new_sw_words = list(set(common_neg_words).intersection(set(common_pos_words)))\n",
    "print(len(new_sw_words))\n",
    "new_sw_words"
   ]
  },
  {
   "cell_type": "markdown",
   "id": "7c729f9e",
   "metadata": {},
   "source": [
    "We shall be appending this to our stopword list. As part of our `doc_preparer()`, custom function to preprocess text, we shall be removing these words in the future"
   ]
  },
  {
   "cell_type": "code",
   "execution_count": 49,
   "id": "b714985a",
   "metadata": {
    "ExecuteTime": {
     "end_time": "2022-05-12T23:59:44.583943Z",
     "start_time": "2022-05-12T23:59:44.577942Z"
    }
   },
   "outputs": [
    {
     "name": "stdout",
     "output_type": "stream",
     "text": [
      "Original number of stopwords: 179\n",
      "New number of stopwords:      209\n"
     ]
    }
   ],
   "source": [
    "print(f'Original number of stopwords: {len(sw)}')\n",
    "sw.extend(new_sw_words)\n",
    "print(f'New number of stopwords:      {len(sw)}')"
   ]
  },
  {
   "cell_type": "markdown",
   "id": "0e0bfdcc",
   "metadata": {},
   "source": [
    "Lets have a look at the word distribution again"
   ]
  },
  {
   "cell_type": "code",
   "execution_count": 50,
   "id": "8d571fd9",
   "metadata": {
    "ExecuteTime": {
     "end_time": "2022-05-12T23:59:45.622018Z",
     "start_time": "2022-05-12T23:59:45.209925Z"
    }
   },
   "outputs": [
    {
     "data": {
      "image/png": "[encoded data removed]",
      "text/plain": [
       "<Figure size 720x576 with 1 Axes>"
      ]
     },
     "metadata": {
      "needs_background": "light"
     },
     "output_type": "display_data"
    }
   ],
   "source": [
    "# Plot most frequent words\n",
    "fig, ax = plt.subplots(figsize=(10, 8))\n",
    "num_of_bars = 10\n",
    "viz_data = getTopWordFreq(data_df, 'text', n=num_of_bars, stop_words=sw)\n",
    "\n",
    "plt.xticks(fontsize=12,\n",
    "           rotation=20)\n",
    "plt.yticks(fontsize=12)\n",
    "ax.set_title('Word Frequency - Post updated StopWords')\n",
    "\n",
    "ax.bar(x=[word for word, freq in viz_data],\n",
    "       height=[freq for word, freq in viz_data],\n",
    "       color=(0.2, 0.4, 0.6, 0.6),\n",
    "       edgecolor='black')\n",
    "\n",
    "plt.savefig('images/WordFreq_postSW.jpg', dpi='figure',\n",
    "            bbox_inches='tight',\n",
    "            #             pad_inches=0.1,\n",
    "            facecolor='auto',\n",
    "            )"
   ]
  },
  {
   "cell_type": "markdown",
   "id": "7bac0afe",
   "metadata": {},
   "source": [
    "Already one can tell the word count is a little more normalized."
   ]
  },
  {
   "cell_type": "markdown",
   "id": "dbd5867c",
   "metadata": {},
   "source": [
    "### Stemming the tweet text"
   ]
  },
  {
   "cell_type": "markdown",
   "id": "2c1f1187",
   "metadata": {},
   "source": [
    "We shall be creating a column of a cleaned text string built off of the original tweet"
   ]
  },
  {
   "cell_type": "code",
   "execution_count": 51,
   "id": "cb8555c2",
   "metadata": {
    "ExecuteTime": {
     "end_time": "2022-05-12T23:59:59.755636Z",
     "start_time": "2022-05-12T23:59:58.353341Z"
    }
   },
   "outputs": [],
   "source": [
    "data_df['stemmed_text'] = data_df['text'].map(lambda x:doc_preparer(x,stem=True))"
   ]
  },
  {
   "cell_type": "code",
   "execution_count": 52,
   "id": "df4ede34",
   "metadata": {
    "ExecuteTime": {
     "end_time": "2022-05-12T23:59:59.879646Z",
     "start_time": "2022-05-12T23:59:59.864644Z"
    }
   },
   "outputs": [
    {
     "data": {
      "text/html": [
       "<div>\n",
       "<style scoped>\n",
       "    .dataframe tbody tr th:only-of-type {\n",
       "        vertical-align: middle;\n",
       "    }\n",
       "\n",
       "    .dataframe tbody tr th {\n",
       "        vertical-align: top;\n",
       "    }\n",
       "\n",
       "    .dataframe thead th {\n",
       "        text-align: right;\n",
       "    }\n",
       "</style>\n",
       "<table border=\"1\" class=\"dataframe\">\n",
       "  <thead>\n",
       "    <tr style=\"text-align: right;\">\n",
       "      <th></th>\n",
       "      <th>text</th>\n",
       "      <th>stemmed_text</th>\n",
       "    </tr>\n",
       "  </thead>\n",
       "  <tbody>\n",
       "    <tr>\n",
       "      <th>0</th>\n",
       "      <td>.@wesley83 I have a 3G iPhone. After 3 hrs tweeting at #RISE_Austin, it was dead!  I need to upgrade. Plugin stations at #SXSW.</td>\n",
       "      <td>iphon hr tweet rise dead need upgrad plugin station sxsw</td>\n",
       "    </tr>\n",
       "    <tr>\n",
       "      <th>1</th>\n",
       "      <td>@jessedee Know about @fludapp ? Awesome iPad/iPhone app that you'll likely appreciate for its design. Also, they're giving free Ts at #SXSW</td>\n",
       "      <td>know awesom ipad iphon app like appreci design also give free ts sxsw</td>\n",
       "    </tr>\n",
       "    <tr>\n",
       "      <th>2</th>\n",
       "      <td>@swonderlin Can not wait for #iPad 2 also. They should sale them down at #SXSW.</td>\n",
       "      <td>wait ipad also sale sxsw</td>\n",
       "    </tr>\n",
       "    <tr>\n",
       "      <th>3</th>\n",
       "      <td>@sxsw I hope this year's festival isn't as crashy as this year's iPhone app. #sxsw</td>\n",
       "      <td>hope year festiv crashi year iphon app sxsw</td>\n",
       "    </tr>\n",
       "    <tr>\n",
       "      <th>4</th>\n",
       "      <td>@sxtxstate great stuff on Fri #SXSW: Marissa Mayer (Google), Tim O'Reilly (tech books/conferences) &amp;amp; Matt Mullenweg (Wordpress)</td>\n",
       "      <td>great stuff fri sxsw marissa mayer googl tim reilli tech book confer amp matt mullenweg wordpress</td>\n",
       "    </tr>\n",
       "  </tbody>\n",
       "</table>\n",
       "</div>"
      ],
      "text/plain": [
       "                                                                                                                                          text  \\\n",
       "0              .@wesley83 I have a 3G iPhone. After 3 hrs tweeting at #RISE_Austin, it was dead!  I need to upgrade. Plugin stations at #SXSW.   \n",
       "1  @jessedee Know about @fludapp ? Awesome iPad/iPhone app that you'll likely appreciate for its design. Also, they're giving free Ts at #SXSW   \n",
       "2                                                              @swonderlin Can not wait for #iPad 2 also. They should sale them down at #SXSW.   \n",
       "3                                                           @sxsw I hope this year's festival isn't as crashy as this year's iPhone app. #sxsw   \n",
       "4          @sxtxstate great stuff on Fri #SXSW: Marissa Mayer (Google), Tim O'Reilly (tech books/conferences) &amp; Matt Mullenweg (Wordpress)   \n",
       "\n",
       "                                                                                        stemmed_text  \n",
       "0                                           iphon hr tweet rise dead need upgrad plugin station sxsw  \n",
       "1                              know awesom ipad iphon app like appreci design also give free ts sxsw  \n",
       "2                                                                           wait ipad also sale sxsw  \n",
       "3                                                        hope year festiv crashi year iphon app sxsw  \n",
       "4  great stuff fri sxsw marissa mayer googl tim reilli tech book confer amp matt mullenweg wordpress  "
      ]
     },
     "execution_count": 52,
     "metadata": {},
     "output_type": "execute_result"
    }
   ],
   "source": [
    "data_df[['text','stemmed_text']].head(5)"
   ]
  },
  {
   "cell_type": "markdown",
   "id": "8ae2f1aa",
   "metadata": {},
   "source": [
    "### Label Encoding the emotion column"
   ]
  },
  {
   "cell_type": "markdown",
   "id": "caadea7f",
   "metadata": {},
   "source": [
    "To help with our classification models, we shall use a label encoder to encode the target `emotion` into a more computer friendly numerical column"
   ]
  },
  {
   "cell_type": "code",
   "execution_count": 53,
   "id": "f8e73137",
   "metadata": {
    "ExecuteTime": {
     "end_time": "2022-05-13T00:00:35.502076Z",
     "start_time": "2022-05-13T00:00:35.497075Z"
    }
   },
   "outputs": [
    {
     "data": {
      "text/plain": [
       "array(['Negative emotion', 'No emotion toward brand or product',\n",
       "       'Positive emotion'], dtype=object)"
      ]
     },
     "execution_count": 53,
     "metadata": {},
     "output_type": "execute_result"
    }
   ],
   "source": [
    "le = LabelEncoder()\n",
    "data_df['sentiment_target'] = le.fit_transform(data_df.emotion)\n",
    "le.classes_"
   ]
  },
  {
   "cell_type": "code",
   "execution_count": 54,
   "id": "70ff41b9",
   "metadata": {
    "ExecuteTime": {
     "end_time": "2022-05-13T00:00:35.643111Z",
     "start_time": "2022-05-13T00:00:35.632109Z"
    },
    "scrolled": true
   },
   "outputs": [
    {
     "data": {
      "text/html": [
       "<div>\n",
       "<style scoped>\n",
       "    .dataframe tbody tr th:only-of-type {\n",
       "        vertical-align: middle;\n",
       "    }\n",
       "\n",
       "    .dataframe tbody tr th {\n",
       "        vertical-align: top;\n",
       "    }\n",
       "\n",
       "    .dataframe thead th {\n",
       "        text-align: right;\n",
       "    }\n",
       "</style>\n",
       "<table border=\"1\" class=\"dataframe\">\n",
       "  <thead>\n",
       "    <tr style=\"text-align: right;\">\n",
       "      <th></th>\n",
       "      <th>emotion</th>\n",
       "      <th>sentiment_target</th>\n",
       "    </tr>\n",
       "  </thead>\n",
       "  <tbody>\n",
       "    <tr>\n",
       "      <th>0</th>\n",
       "      <td>Negative emotion</td>\n",
       "      <td>0</td>\n",
       "    </tr>\n",
       "    <tr>\n",
       "      <th>1</th>\n",
       "      <td>Positive emotion</td>\n",
       "      <td>2</td>\n",
       "    </tr>\n",
       "    <tr>\n",
       "      <th>2</th>\n",
       "      <td>Positive emotion</td>\n",
       "      <td>2</td>\n",
       "    </tr>\n",
       "    <tr>\n",
       "      <th>3</th>\n",
       "      <td>Negative emotion</td>\n",
       "      <td>0</td>\n",
       "    </tr>\n",
       "    <tr>\n",
       "      <th>4</th>\n",
       "      <td>Positive emotion</td>\n",
       "      <td>2</td>\n",
       "    </tr>\n",
       "    <tr>\n",
       "      <th>5</th>\n",
       "      <td>No emotion toward brand or product</td>\n",
       "      <td>1</td>\n",
       "    </tr>\n",
       "    <tr>\n",
       "      <th>7</th>\n",
       "      <td>Positive emotion</td>\n",
       "      <td>2</td>\n",
       "    </tr>\n",
       "    <tr>\n",
       "      <th>8</th>\n",
       "      <td>Positive emotion</td>\n",
       "      <td>2</td>\n",
       "    </tr>\n",
       "    <tr>\n",
       "      <th>9</th>\n",
       "      <td>Positive emotion</td>\n",
       "      <td>2</td>\n",
       "    </tr>\n",
       "    <tr>\n",
       "      <th>10</th>\n",
       "      <td>Positive emotion</td>\n",
       "      <td>2</td>\n",
       "    </tr>\n",
       "  </tbody>\n",
       "</table>\n",
       "</div>"
      ],
      "text/plain": [
       "                               emotion  sentiment_target\n",
       "0                     Negative emotion                 0\n",
       "1                     Positive emotion                 2\n",
       "2                     Positive emotion                 2\n",
       "3                     Negative emotion                 0\n",
       "4                     Positive emotion                 2\n",
       "5   No emotion toward brand or product                 1\n",
       "7                     Positive emotion                 2\n",
       "8                     Positive emotion                 2\n",
       "9                     Positive emotion                 2\n",
       "10                    Positive emotion                 2"
      ]
     },
     "execution_count": 54,
     "metadata": {},
     "output_type": "execute_result"
    }
   ],
   "source": [
    "data_df[['emotion', 'sentiment_target']].head(10)"
   ]
  },
  {
   "cell_type": "markdown",
   "id": "89175e9c",
   "metadata": {},
   "source": [
    "# Train-Test-Split"
   ]
  },
  {
   "cell_type": "code",
   "execution_count": 56,
   "id": "ac205ca4",
   "metadata": {
    "ExecuteTime": {
     "end_time": "2022-05-13T00:01:28.606815Z",
     "start_time": "2022-05-13T00:01:28.600814Z"
    }
   },
   "outputs": [],
   "source": [
    "X = data_df['stemmed_text']\n",
    "y = data_df['sentiment_target']\n",
    "\n",
    "X_train, X_test, y_train, y_test = train_test_split(X,y,test_size = 0.3)"
   ]
  },
  {
   "cell_type": "markdown",
   "id": "a3bbd399",
   "metadata": {},
   "source": [
    "# Modeling"
   ]
  },
  {
   "cell_type": "markdown",
   "id": "a518892f",
   "metadata": {},
   "source": [
    "As stated earlier, we'll be implementing `MultinomialNB`, `RandomForestClassifier`, `GradientBoostingClassifier`, `XGBRFClassifier` with a combination of vectorizers `CountVectorizer`, `TfidfVectorizer`. This gives us a healthy combination of simple techniques as ensemble techniques.\n",
    "\n",
    "Since this is a classification algorithm, to set up a baseline, we will model using a `DummyClassifer`"
   ]
  },
  {
   "cell_type": "markdown",
   "id": "d2969628",
   "metadata": {},
   "source": [
    "## `CountVectorizer()` with `DummyClassifier()`"
   ]
  },
  {
   "cell_type": "code",
   "execution_count": 57,
   "id": "d096cd9e",
   "metadata": {
    "ExecuteTime": {
     "end_time": "2022-05-13T00:01:30.234182Z",
     "start_time": "2022-05-13T00:01:28.607816Z"
    }
   },
   "outputs": [
    {
     "name": "stderr",
     "output_type": "stream",
     "text": [
      "[Parallel(n_jobs=4)]: Using backend LokyBackend with 4 concurrent workers.\n"
     ]
    },
    {
     "name": "stdout",
     "output_type": "stream",
     "text": [
      "CV Results\n",
      "================================\n",
      "Accuracy\n",
      "--------------------------------\n",
      "Training accuracy: 0.598\n",
      "Test accuracy:     0.598\n",
      "F-1 Score\n",
      "--------------------------------\n",
      "Training F1 score: 0.249\n",
      "Test F1 score:     0.249\n"
     ]
    },
    {
     "name": "stderr",
     "output_type": "stream",
     "text": [
      "[Parallel(n_jobs=4)]: Done   5 out of   5 | elapsed:    1.5s finished\n"
     ]
    }
   ],
   "source": [
    "#Pipeline\n",
    "cvec_dummy_model_pipe = Pipeline([\n",
    "    ('cvec',CountVectorizer()),\n",
    "   ('dum',DummyClassifier(strategy = 'most_frequent')\n",
    "   )\n",
    "])\n",
    "\n",
    "#5 fold Cross Validation\n",
    "cvec_dummy_cvResults = cross_validate(cvec_dummy_model_pipe,\n",
    "                                      X_train,\n",
    "                                      y_train,\n",
    "                                      scoring=('accuracy', 'f1_macro'),\n",
    "                                      cv=5,\n",
    "                                      verbose=1,\n",
    "                                      n_jobs = NB_n_jobs,\n",
    "                                      return_train_score=True)\n",
    "prettyPrintCVScores(cvec_dummy_cvResults)"
   ]
  },
  {
   "cell_type": "markdown",
   "id": "a8d1c882",
   "metadata": {},
   "source": [
    "Our dummy classifier performs with 60% accuracy and 25% F1-score. Every successive model, has to perform, at the very least better than this to be considered even remotely viable."
   ]
  },
  {
   "cell_type": "markdown",
   "id": "7844314c",
   "metadata": {},
   "source": [
    "## `CountVectorizer()` with `MutinomialNB()`"
   ]
  },
  {
   "cell_type": "code",
   "execution_count": 58,
   "id": "dcf28d32",
   "metadata": {
    "ExecuteTime": {
     "end_time": "2022-05-13T00:01:30.473237Z",
     "start_time": "2022-05-13T00:01:30.235184Z"
    }
   },
   "outputs": [
    {
     "name": "stderr",
     "output_type": "stream",
     "text": [
      "[Parallel(n_jobs=4)]: Using backend LokyBackend with 4 concurrent workers.\n"
     ]
    },
    {
     "name": "stdout",
     "output_type": "stream",
     "text": [
      "CV Results\n",
      "================================\n",
      "Accuracy\n",
      "--------------------------------\n",
      "Training accuracy: 0.815\n",
      "Test accuracy:     0.652\n",
      "F-1 Score\n",
      "--------------------------------\n",
      "Training F1 score: 0.730\n",
      "Test F1 score:     0.494\n"
     ]
    },
    {
     "name": "stderr",
     "output_type": "stream",
     "text": [
      "[Parallel(n_jobs=4)]: Done   5 out of   5 | elapsed:    0.1s finished\n"
     ]
    }
   ],
   "source": [
    "#Pipeline\n",
    "cvec_mnb_model_pipe = Pipeline([\n",
    "    ('cvec',CountVectorizer()),\n",
    "   ('mnb',MultinomialNB()\n",
    "   )\n",
    "])\n",
    "\n",
    "#5 fold Cross Validation\n",
    "cvec_mnb_cvResults = cross_validate(cvec_mnb_model_pipe,\n",
    "                                      X_train,\n",
    "                                      y_train,\n",
    "                                      scoring=('accuracy', 'f1_macro'),\n",
    "                                      cv=5,\n",
    "                                      verbose=1,\n",
    "                                      n_jobs = NB_n_jobs,\n",
    "                                      return_train_score=True)\n",
    "prettyPrintCVScores(cvec_mnb_cvResults)"
   ]
  },
  {
   "cell_type": "markdown",
   "id": "159442a8",
   "metadata": {},
   "source": [
    "We can already see some significant overfitting. This might be due to such a small and imbalanced dataset. If we can supplement this dataset our model should perform better."
   ]
  },
  {
   "cell_type": "markdown",
   "id": "be68a93f",
   "metadata": {},
   "source": [
    "## `TfidfVectorizer()` with `MutinomialNB()`"
   ]
  },
  {
   "cell_type": "code",
   "execution_count": 59,
   "id": "90eef8da",
   "metadata": {
    "ExecuteTime": {
     "end_time": "2022-05-13T00:01:30.724292Z",
     "start_time": "2022-05-13T00:01:30.474236Z"
    }
   },
   "outputs": [
    {
     "name": "stderr",
     "output_type": "stream",
     "text": [
      "[Parallel(n_jobs=4)]: Using backend LokyBackend with 4 concurrent workers.\n"
     ]
    },
    {
     "name": "stdout",
     "output_type": "stream",
     "text": [
      "CV Results\n",
      "================================\n",
      "Accuracy\n",
      "--------------------------------\n",
      "Training accuracy: 0.746\n",
      "Test accuracy:     0.645\n",
      "F-1 Score\n",
      "--------------------------------\n",
      "Training F1 score: 0.495\n",
      "Test F1 score:     0.373\n"
     ]
    },
    {
     "name": "stderr",
     "output_type": "stream",
     "text": [
      "[Parallel(n_jobs=4)]: Done   5 out of   5 | elapsed:    0.1s finished\n"
     ]
    }
   ],
   "source": [
    "#Pipeline\n",
    "tvec_mnb_model_pipe = Pipeline([\n",
    "    ('tvec',TfidfVectorizer()),\n",
    "   ('mnb',MultinomialNB()\n",
    "   )\n",
    "])\n",
    "\n",
    "#5 fold Cross Validation\n",
    "tvec_mnb_cvResults = cross_validate(tvec_mnb_model_pipe,\n",
    "                                      X_train,\n",
    "                                      y_train,\n",
    "                                      scoring=('accuracy', 'f1_macro'),\n",
    "                                      cv=5,\n",
    "                                      verbose=1,\n",
    "                                      n_jobs = NB_n_jobs,\n",
    "                                      return_train_score=True)\n",
    "prettyPrintCVScores(tvec_mnb_cvResults)"
   ]
  },
  {
   "cell_type": "markdown",
   "id": "dffcb26b",
   "metadata": {},
   "source": [
    "Using a TF-IDF vectorizer improves accuracy but at a major cost to the F1-score. Its possible, that for this particular dataset, a `CountVectorizer` might be the better suited tool."
   ]
  },
  {
   "cell_type": "markdown",
   "id": "623327e5",
   "metadata": {
    "ExecuteTime": {
     "end_time": "2022-05-10T15:48:34.339194Z",
     "start_time": "2022-05-10T15:48:34.330192Z"
    }
   },
   "source": [
    "## `CountVectorizer()` with `RandomForestClassifier()`"
   ]
  },
  {
   "cell_type": "code",
   "execution_count": 60,
   "id": "6a2305a6",
   "metadata": {
    "ExecuteTime": {
     "end_time": "2022-05-13T00:01:37.068719Z",
     "start_time": "2022-05-13T00:01:30.725294Z"
    }
   },
   "outputs": [
    {
     "name": "stderr",
     "output_type": "stream",
     "text": [
      "[Parallel(n_jobs=4)]: Using backend LokyBackend with 4 concurrent workers.\n"
     ]
    },
    {
     "name": "stdout",
     "output_type": "stream",
     "text": [
      "CV Results\n",
      "================================\n",
      "Accuracy\n",
      "--------------------------------\n",
      "Training accuracy: 0.994\n",
      "Test accuracy:     0.674\n",
      "F-1 Score\n",
      "--------------------------------\n",
      "Training F1 score: 0.993\n",
      "Test F1 score:     0.526\n"
     ]
    },
    {
     "name": "stderr",
     "output_type": "stream",
     "text": [
      "[Parallel(n_jobs=4)]: Done   5 out of   5 | elapsed:    6.2s finished\n"
     ]
    }
   ],
   "source": [
    "#Pipeline\n",
    "cvec_rfc_model_pipe = Pipeline([\n",
    "    ('cvec',CountVectorizer()),\n",
    "   ('rfc',RandomForestClassifier(random_state=42)\n",
    "   )\n",
    "])\n",
    "\n",
    "#5 fold Cross Validation\n",
    "cvec_rfc_cvResults = cross_validate(cvec_rfc_model_pipe,\n",
    "                                      X_train,\n",
    "                                      y_train,\n",
    "                                      scoring=('accuracy', 'f1_macro'),\n",
    "                                      cv=5,\n",
    "                                      verbose=1,\n",
    "                                      n_jobs = NB_n_jobs,\n",
    "                                      return_train_score=True)\n",
    "prettyPrintCVScores(cvec_rfc_cvResults)"
   ]
  },
  {
   "cell_type": "markdown",
   "id": "e2b5662c",
   "metadata": {},
   "source": [
    "This is model is severely overfitting but it performs marginally better than the `MultinomialNB()` model"
   ]
  },
  {
   "cell_type": "markdown",
   "id": "7a893620",
   "metadata": {},
   "source": [
    "## `TfidfVectorizer()` with `RandomForestClassifier()`"
   ]
  },
  {
   "cell_type": "code",
   "execution_count": 61,
   "id": "16bfdffa",
   "metadata": {
    "ExecuteTime": {
     "end_time": "2022-05-13T00:01:41.655752Z",
     "start_time": "2022-05-13T00:01:37.069720Z"
    }
   },
   "outputs": [
    {
     "name": "stderr",
     "output_type": "stream",
     "text": [
      "[Parallel(n_jobs=4)]: Using backend LokyBackend with 4 concurrent workers.\n"
     ]
    },
    {
     "name": "stdout",
     "output_type": "stream",
     "text": [
      "CV Results\n",
      "================================\n",
      "Accuracy\n",
      "--------------------------------\n",
      "Training accuracy: 0.994\n",
      "Test accuracy:     0.675\n",
      "F-1 Score\n",
      "--------------------------------\n",
      "Training F1 score: 0.993\n",
      "Test F1 score:     0.516\n"
     ]
    },
    {
     "name": "stderr",
     "output_type": "stream",
     "text": [
      "[Parallel(n_jobs=4)]: Done   5 out of   5 | elapsed:    4.5s finished\n"
     ]
    }
   ],
   "source": [
    "#Pipeline\n",
    "tvec_rfc_model_pipe = Pipeline([\n",
    "    ('tvec',TfidfVectorizer()),\n",
    "   ('rfc',RandomForestClassifier(random_state=42)\n",
    "   )\n",
    "])\n",
    "\n",
    "#5 fold Cross Validation\n",
    "tvec_rfc_cvResults = cross_validate(tvec_rfc_model_pipe,\n",
    "                                      X_train,\n",
    "                                      y_train,\n",
    "                                      scoring=('accuracy', 'f1_macro'),\n",
    "                                      cv=5,\n",
    "                                      verbose=1,\n",
    "                                      n_jobs = NB_n_jobs,\n",
    "                                      return_train_score=True)\n",
    "prettyPrintCVScores(tvec_rfc_cvResults)"
   ]
  },
  {
   "cell_type": "markdown",
   "id": "eb1a5d14",
   "metadata": {},
   "source": [
    "## `CountVectorizer()` with `GradientBoostingClassifier()`"
   ]
  },
  {
   "cell_type": "code",
   "execution_count": 62,
   "id": "15d6372f",
   "metadata": {
    "ExecuteTime": {
     "end_time": "2022-05-13T00:01:44.980500Z",
     "start_time": "2022-05-13T00:01:41.656752Z"
    }
   },
   "outputs": [
    {
     "name": "stderr",
     "output_type": "stream",
     "text": [
      "[Parallel(n_jobs=4)]: Using backend LokyBackend with 4 concurrent workers.\n"
     ]
    },
    {
     "name": "stdout",
     "output_type": "stream",
     "text": [
      "CV Results\n",
      "================================\n",
      "Accuracy\n",
      "--------------------------------\n",
      "Training accuracy: 0.722\n",
      "Test accuracy:     0.668\n",
      "F-1 Score\n",
      "--------------------------------\n",
      "Training F1 score: 0.564\n",
      "Test F1 score:     0.457\n"
     ]
    },
    {
     "name": "stderr",
     "output_type": "stream",
     "text": [
      "[Parallel(n_jobs=4)]: Done   5 out of   5 | elapsed:    3.2s finished\n"
     ]
    }
   ],
   "source": [
    "#Pipeline\n",
    "cvec_gbc_model_pipe = Pipeline([\n",
    "    ('cvec',CountVectorizer()),\n",
    "   ('gbc',GradientBoostingClassifier(random_state=42)\n",
    "   )\n",
    "])\n",
    "\n",
    "#5 fold Cross Validation\n",
    "cvec_gbc_cvResults = cross_validate(cvec_gbc_model_pipe,\n",
    "                                      X_train,\n",
    "                                      y_train,\n",
    "                                      scoring=('accuracy', 'f1_macro'),\n",
    "                                      cv=5,\n",
    "                                      verbose=1,\n",
    "                                      n_jobs = NB_n_jobs,\n",
    "                                      return_train_score=True)\n",
    "prettyPrintCVScores(cvec_gbc_cvResults)"
   ]
  },
  {
   "cell_type": "markdown",
   "id": "742b7d50",
   "metadata": {},
   "source": [
    "## `TfidfVectorizer()` with `GradientBoostingClassifier()`"
   ]
  },
  {
   "cell_type": "code",
   "execution_count": 63,
   "id": "75e30bb6",
   "metadata": {
    "ExecuteTime": {
     "end_time": "2022-05-13T00:01:52.686237Z",
     "start_time": "2022-05-13T00:01:44.981500Z"
    }
   },
   "outputs": [
    {
     "name": "stderr",
     "output_type": "stream",
     "text": [
      "[Parallel(n_jobs=4)]: Using backend LokyBackend with 4 concurrent workers.\n"
     ]
    },
    {
     "name": "stdout",
     "output_type": "stream",
     "text": [
      "CV Results\n",
      "================================\n",
      "Accuracy\n",
      "--------------------------------\n",
      "Training accuracy: 0.739\n",
      "Test accuracy:     0.668\n",
      "F-1 Score\n",
      "--------------------------------\n",
      "Training F1 score: 0.597\n",
      "Test F1 score:     0.466\n"
     ]
    },
    {
     "name": "stderr",
     "output_type": "stream",
     "text": [
      "[Parallel(n_jobs=4)]: Done   5 out of   5 | elapsed:    7.6s finished\n"
     ]
    }
   ],
   "source": [
    "#Pipeline\n",
    "tvec_gbc_model_pipe = Pipeline([\n",
    "    ('tvec',TfidfVectorizer()),\n",
    "   ('gbc',GradientBoostingClassifier(random_state=42)\n",
    "   )\n",
    "])\n",
    "\n",
    "#5 fold Cross Validation\n",
    "tvec_gbc_cvResults = cross_validate(tvec_gbc_model_pipe,\n",
    "                                      X_train,\n",
    "                                      y_train,\n",
    "                                      scoring=('accuracy', 'f1_macro'),\n",
    "                                      cv=5,\n",
    "                                      verbose=1,\n",
    "                                      n_jobs = NB_n_jobs,\n",
    "                                      return_train_score=True)\n",
    "prettyPrintCVScores(tvec_gbc_cvResults)"
   ]
  },
  {
   "cell_type": "markdown",
   "id": "245ac9a8",
   "metadata": {},
   "source": [
    "## `CountVectorizer()` with `XGBRFClassifier()`"
   ]
  },
  {
   "cell_type": "code",
   "execution_count": 64,
   "id": "5601315e",
   "metadata": {
    "ExecuteTime": {
     "end_time": "2022-05-13T00:01:56.626802Z",
     "start_time": "2022-05-13T00:01:52.687238Z"
    }
   },
   "outputs": [
    {
     "name": "stderr",
     "output_type": "stream",
     "text": [
      "[Parallel(n_jobs=4)]: Using backend LokyBackend with 4 concurrent workers.\n"
     ]
    },
    {
     "name": "stdout",
     "output_type": "stream",
     "text": [
      "CV Results\n",
      "================================\n",
      "Accuracy\n",
      "--------------------------------\n",
      "Training accuracy: 0.665\n",
      "Test accuracy:     0.640\n",
      "F-1 Score\n",
      "--------------------------------\n",
      "Training F1 score: 0.430\n",
      "Test F1 score:     0.385\n"
     ]
    },
    {
     "name": "stderr",
     "output_type": "stream",
     "text": [
      "[Parallel(n_jobs=4)]: Done   5 out of   5 | elapsed:    3.8s finished\n"
     ]
    }
   ],
   "source": [
    "#Pipeline\n",
    "cvec_xgb_model_pipe = Pipeline([\n",
    "    ('cvec',CountVectorizer()),\n",
    "   ('xgb',XGBRFClassifier(random_state=42)\n",
    "   )\n",
    "])\n",
    "\n",
    "#5 fold Cross Validation\n",
    "cvec_xgb_cvResults = cross_validate(cvec_xgb_model_pipe,\n",
    "                                      X_train,\n",
    "                                      y_train,\n",
    "                                      scoring=('accuracy', 'f1_macro'),\n",
    "                                      cv=5,\n",
    "                                      verbose=1,\n",
    "                                      n_jobs = NB_n_jobs,\n",
    "                                      return_train_score=True)\n",
    "prettyPrintCVScores(cvec_xgb_cvResults)"
   ]
  },
  {
   "cell_type": "markdown",
   "id": "2da0d2a0",
   "metadata": {},
   "source": [
    "## `TfidfVectorizer()` with `XGBRFClassifier()`"
   ]
  },
  {
   "cell_type": "code",
   "execution_count": 65,
   "id": "5ec81ba1",
   "metadata": {
    "ExecuteTime": {
     "end_time": "2022-05-13T00:02:01.258845Z",
     "start_time": "2022-05-13T00:01:56.628802Z"
    },
    "scrolled": true
   },
   "outputs": [
    {
     "name": "stderr",
     "output_type": "stream",
     "text": [
      "[Parallel(n_jobs=4)]: Using backend LokyBackend with 4 concurrent workers.\n"
     ]
    },
    {
     "name": "stdout",
     "output_type": "stream",
     "text": [
      "CV Results\n",
      "================================\n",
      "Accuracy\n",
      "--------------------------------\n",
      "Training accuracy: 0.675\n",
      "Test accuracy:     0.635\n",
      "F-1 Score\n",
      "--------------------------------\n",
      "Training F1 score: 0.440\n",
      "Test F1 score:     0.378\n"
     ]
    },
    {
     "name": "stderr",
     "output_type": "stream",
     "text": [
      "[Parallel(n_jobs=4)]: Done   5 out of   5 | elapsed:    4.5s finished\n"
     ]
    }
   ],
   "source": [
    "#Pipeline\n",
    "tvec_xgb_model_pipe = Pipeline([\n",
    "    ('tvec',TfidfVectorizer()),\n",
    "   ('gbc',XGBRFClassifier(random_state=42)\n",
    "   )\n",
    "])\n",
    "\n",
    "#5 fold Cross Validation\n",
    "tvec_xgb_cvResults = cross_validate(tvec_xgb_model_pipe,\n",
    "                                      X_train,\n",
    "                                      y_train,\n",
    "                                      scoring=('accuracy', 'f1_macro'),\n",
    "                                      cv=5,\n",
    "                                      verbose=1,\n",
    "                                      n_jobs = NB_n_jobs,\n",
    "                                      return_train_score=True)\n",
    "prettyPrintCVScores(tvec_xgb_cvResults)"
   ]
  },
  {
   "cell_type": "markdown",
   "id": "ea763504",
   "metadata": {
    "ExecuteTime": {
     "end_time": "2022-05-10T21:32:16.675935Z",
     "start_time": "2022-05-10T21:32:16.665932Z"
    }
   },
   "source": [
    "# GridSearch our best model"
   ]
  },
  {
   "cell_type": "markdown",
   "id": "e9939b93",
   "metadata": {},
   "source": [
    "It seems our best performing model is the `RandomForestClassifier` when paired with a `CountVectorizer`. We'll use `GridSearchCV` to tune its hyperparameters to try and get the best possible performance out of it."
   ]
  },
  {
   "cell_type": "code",
   "execution_count": 66,
   "id": "890d2012",
   "metadata": {
    "ExecuteTime": {
     "end_time": "2022-05-13T00:08:08.287405Z",
     "start_time": "2022-05-13T00:02:01.262847Z"
    },
    "scrolled": false
   },
   "outputs": [
    {
     "data": {
      "text/html": [
       "<div>\n",
       "<style scoped>\n",
       "    .dataframe tbody tr th:only-of-type {\n",
       "        vertical-align: middle;\n",
       "    }\n",
       "\n",
       "    .dataframe tbody tr th {\n",
       "        vertical-align: top;\n",
       "    }\n",
       "\n",
       "    .dataframe thead th {\n",
       "        text-align: right;\n",
       "    }\n",
       "</style>\n",
       "<table border=\"1\" class=\"dataframe\">\n",
       "  <thead>\n",
       "    <tr style=\"text-align: right;\">\n",
       "      <th></th>\n",
       "      <th>Mean Test Accuracy</th>\n",
       "      <th>Mean Test Precision (macro)</th>\n",
       "      <th>Mean Test Recall (macro)</th>\n",
       "      <th>Mean Test F1-Score (macro)</th>\n",
       "      <th>param_rfc__criterion</th>\n",
       "      <th>param_rfc__max_depth</th>\n",
       "      <th>param_rfc__n_estimators</th>\n",
       "    </tr>\n",
       "    <tr>\n",
       "      <th>Rank (By Accuracy)</th>\n",
       "      <th></th>\n",
       "      <th></th>\n",
       "      <th></th>\n",
       "      <th></th>\n",
       "      <th></th>\n",
       "      <th></th>\n",
       "      <th></th>\n",
       "    </tr>\n",
       "  </thead>\n",
       "  <tbody>\n",
       "    <tr>\n",
       "      <th>1</th>\n",
       "      <td>0.6827</td>\n",
       "      <td>0.6866</td>\n",
       "      <td>0.4969</td>\n",
       "      <td>0.5267</td>\n",
       "      <td>gini</td>\n",
       "      <td>160</td>\n",
       "      <td>200</td>\n",
       "    </tr>\n",
       "    <tr>\n",
       "      <th>2</th>\n",
       "      <td>0.6819</td>\n",
       "      <td>0.6855</td>\n",
       "      <td>0.4974</td>\n",
       "      <td>0.5273</td>\n",
       "      <td>gini</td>\n",
       "      <td>160</td>\n",
       "      <td>150</td>\n",
       "    </tr>\n",
       "    <tr>\n",
       "      <th>3</th>\n",
       "      <td>0.6819</td>\n",
       "      <td>0.6817</td>\n",
       "      <td>0.5010</td>\n",
       "      <td>0.5317</td>\n",
       "      <td>gini</td>\n",
       "      <td>180</td>\n",
       "      <td>200</td>\n",
       "    </tr>\n",
       "    <tr>\n",
       "      <th>4</th>\n",
       "      <td>0.6812</td>\n",
       "      <td>0.6796</td>\n",
       "      <td>0.5003</td>\n",
       "      <td>0.5307</td>\n",
       "      <td>gini</td>\n",
       "      <td>170</td>\n",
       "      <td>100</td>\n",
       "    </tr>\n",
       "    <tr>\n",
       "      <th>5</th>\n",
       "      <td>0.6811</td>\n",
       "      <td>0.6884</td>\n",
       "      <td>0.4982</td>\n",
       "      <td>0.5288</td>\n",
       "      <td>gini</td>\n",
       "      <td>160</td>\n",
       "      <td>100</td>\n",
       "    </tr>\n",
       "    <tr>\n",
       "      <th>...</th>\n",
       "      <td>...</td>\n",
       "      <td>...</td>\n",
       "      <td>...</td>\n",
       "      <td>...</td>\n",
       "      <td>...</td>\n",
       "      <td>...</td>\n",
       "      <td>...</td>\n",
       "    </tr>\n",
       "    <tr>\n",
       "      <th>76</th>\n",
       "      <td>0.6742</td>\n",
       "      <td>0.6864</td>\n",
       "      <td>0.4738</td>\n",
       "      <td>0.4973</td>\n",
       "      <td>gini</td>\n",
       "      <td>100</td>\n",
       "      <td>200</td>\n",
       "    </tr>\n",
       "    <tr>\n",
       "      <th>77</th>\n",
       "      <td>0.6741</td>\n",
       "      <td>0.6888</td>\n",
       "      <td>0.4728</td>\n",
       "      <td>0.4960</td>\n",
       "      <td>gini</td>\n",
       "      <td>100</td>\n",
       "      <td>150</td>\n",
       "    </tr>\n",
       "    <tr>\n",
       "      <th>78</th>\n",
       "      <td>0.6737</td>\n",
       "      <td>0.6717</td>\n",
       "      <td>0.4920</td>\n",
       "      <td>0.5216</td>\n",
       "      <td>entropy</td>\n",
       "      <td>140</td>\n",
       "      <td>50</td>\n",
       "    </tr>\n",
       "    <tr>\n",
       "      <th>79</th>\n",
       "      <td>0.6724</td>\n",
       "      <td>0.6772</td>\n",
       "      <td>0.4823</td>\n",
       "      <td>0.5090</td>\n",
       "      <td>gini</td>\n",
       "      <td>130</td>\n",
       "      <td>50</td>\n",
       "    </tr>\n",
       "    <tr>\n",
       "      <th>80</th>\n",
       "      <td>0.6719</td>\n",
       "      <td>0.6879</td>\n",
       "      <td>0.4749</td>\n",
       "      <td>0.4995</td>\n",
       "      <td>gini</td>\n",
       "      <td>100</td>\n",
       "      <td>50</td>\n",
       "    </tr>\n",
       "  </tbody>\n",
       "</table>\n",
       "<p>80 rows × 7 columns</p>\n",
       "</div>"
      ],
      "text/plain": [
       "                   Mean Test Accuracy Mean Test Precision (macro)  \\\n",
       "Rank (By Accuracy)                                                  \n",
       "1                              0.6827                      0.6866   \n",
       "2                              0.6819                      0.6855   \n",
       "3                              0.6819                      0.6817   \n",
       "4                              0.6812                      0.6796   \n",
       "5                              0.6811                      0.6884   \n",
       "...                               ...                         ...   \n",
       "76                             0.6742                      0.6864   \n",
       "77                             0.6741                      0.6888   \n",
       "78                             0.6737                      0.6717   \n",
       "79                             0.6724                      0.6772   \n",
       "80                             0.6719                      0.6879   \n",
       "\n",
       "                   Mean Test Recall (macro) Mean Test F1-Score (macro)  \\\n",
       "Rank (By Accuracy)                                                       \n",
       "1                                    0.4969                     0.5267   \n",
       "2                                    0.4974                     0.5273   \n",
       "3                                    0.5010                     0.5317   \n",
       "4                                    0.5003                     0.5307   \n",
       "5                                    0.4982                     0.5288   \n",
       "...                                     ...                        ...   \n",
       "76                                   0.4738                     0.4973   \n",
       "77                                   0.4728                     0.4960   \n",
       "78                                   0.4920                     0.5216   \n",
       "79                                   0.4823                     0.5090   \n",
       "80                                   0.4749                     0.4995   \n",
       "\n",
       "                   param_rfc__criterion param_rfc__max_depth  \\\n",
       "Rank (By Accuracy)                                             \n",
       "1                                  gini                  160   \n",
       "2                                  gini                  160   \n",
       "3                                  gini                  180   \n",
       "4                                  gini                  170   \n",
       "5                                  gini                  160   \n",
       "...                                 ...                  ...   \n",
       "76                                 gini                  100   \n",
       "77                                 gini                  100   \n",
       "78                              entropy                  140   \n",
       "79                                 gini                  130   \n",
       "80                                 gini                  100   \n",
       "\n",
       "                   param_rfc__n_estimators  \n",
       "Rank (By Accuracy)                          \n",
       "1                                      200  \n",
       "2                                      150  \n",
       "3                                      200  \n",
       "4                                      100  \n",
       "5                                      100  \n",
       "...                                    ...  \n",
       "76                                     200  \n",
       "77                                     150  \n",
       "78                                      50  \n",
       "79                                      50  \n",
       "80                                      50  \n",
       "\n",
       "[80 rows x 7 columns]"
      ]
     },
     "execution_count": 66,
     "metadata": {},
     "output_type": "execute_result"
    }
   ],
   "source": [
    "params = {}\n",
    "params['rfc__criterion'] = ['gini','entropy']\n",
    "params['rfc__n_estimators'] = np.arange(50,250,50)\n",
    "params['rfc__max_depth'] = np.arange(100,200,10)\n",
    "\n",
    "cvec_rfc_model_pipe = Pipeline([\n",
    "    ('cvec',CountVectorizer()),\n",
    "   ('rfc',RandomForestClassifier(random_state=42)\n",
    "   )\n",
    "])\n",
    "\n",
    "cvec_rfc_gs = GridSearchCV(estimator=cvec_rfc_model_pipe,\n",
    "                           param_grid=params,\n",
    "                           n_jobs=NB_n_jobs,\n",
    "                           scoring=[ 'accuracy','precision_macro','recall_macro','f1_macro'],\n",
    "                           refit='accuracy',\n",
    "                           return_train_score=True)\n",
    "\n",
    "cvec_rfc_gs.fit(X_train,y_train)\n",
    "prettyPrintGridCVResults(cvec_rfc_gs)"
   ]
  },
  {
   "cell_type": "markdown",
   "id": "0a853f92",
   "metadata": {},
   "source": [
    "After fitting 80 different models, the best performing combination is a model that uses\n",
    "- gini impurity as a criterion\n",
    "- uses 200 estimators\n",
    "- splits up to a depth of 160\n",
    "\n",
    "The overall cross validation accuracy is, 68.3% and and F1-score of 52.7%. We increased our accuracy by more than 1 point without loss in F1-score. Lets print out a classification report as well as a confusion matrix to see how the model performs on our holdout set."
   ]
  },
  {
   "cell_type": "code",
   "execution_count": 67,
   "id": "f9b75afb",
   "metadata": {
    "ExecuteTime": {
     "end_time": "2022-05-13T00:08:08.365429Z",
     "start_time": "2022-05-13T00:08:08.288406Z"
    }
   },
   "outputs": [],
   "source": [
    "final_model = cvec_rfc_gs.best_estimator_\n",
    "\n",
    "\n",
    "filePath = f'model/{final_model=}'.split('=')[0] + '.sav'\n",
    "pickle.dump(final_model, open(filePath, 'wb'))"
   ]
  },
  {
   "cell_type": "code",
   "execution_count": 68,
   "id": "2022db3c",
   "metadata": {
    "ExecuteTime": {
     "end_time": "2022-05-13T00:08:08.555471Z",
     "start_time": "2022-05-13T00:08:08.366431Z"
    },
    "scrolled": true
   },
   "outputs": [
    {
     "name": "stdout",
     "output_type": "stream",
     "text": [
      "              precision    recall  f1-score   support\n",
      "\n",
      "           0       0.71      0.16      0.27       146\n",
      "           1       0.71      0.90      0.79      1569\n",
      "           2       0.68      0.43      0.53       856\n",
      "\n",
      "    accuracy                           0.70      2571\n",
      "   macro avg       0.70      0.50      0.53      2571\n",
      "weighted avg       0.70      0.70      0.67      2571\n",
      "\n"
     ]
    }
   ],
   "source": [
    "cr = classification_report(y_test, final_model.predict(X_test))\n",
    "print(cr)"
   ]
  },
  {
   "cell_type": "markdown",
   "id": "bcb1a955",
   "metadata": {},
   "source": [
    "Overall accuracy is around 70% and and F1-score of 53%. The confusion matrix does a better job at breaking down our class by class performance."
   ]
  },
  {
   "cell_type": "code",
   "execution_count": 69,
   "id": "86150f4a",
   "metadata": {
    "ExecuteTime": {
     "end_time": "2022-05-13T00:08:08.744514Z",
     "start_time": "2022-05-13T00:08:08.556472Z"
    }
   },
   "outputs": [],
   "source": [
    "cm = confusion_matrix(y_test, final_model.predict(X_test))"
   ]
  },
  {
   "cell_type": "code",
   "execution_count": 70,
   "id": "e1736d3d",
   "metadata": {
    "ExecuteTime": {
     "end_time": "2022-05-13T00:08:09.203617Z",
     "start_time": "2022-05-13T00:08:08.745518Z"
    }
   },
   "outputs": [
    {
     "data": {
      "image/png": "[encoded data removed]",
      "text/plain": [
       "<Figure size 864x864 with 2 Axes>"
      ]
     },
     "metadata": {
      "needs_background": "light"
     },
     "output_type": "display_data"
    }
   ],
   "source": [
    "fig, ax = plt.subplots(figsize=(12,12))\n",
    "disp = ConfusionMatrixDisplay.from_estimator(\n",
    "        final_model,\n",
    "        X_test,\n",
    "        y_test,\n",
    "        display_labels=le.classes_,\n",
    "        cmap='OrRd',\n",
    "        normalize='true',\n",
    "        ax=ax\n",
    "       ).ax_.set_title('Normalized Confusion Matrix')\n",
    "\n",
    "\n",
    "plt.savefig('images/ConfusionMatrix.jpg',dpi='figure', \n",
    "        bbox_inches='tight', \n",
    "        facecolor='auto', \n",
    "       )"
   ]
  },
  {
   "cell_type": "markdown",
   "id": "07adef29",
   "metadata": {},
   "source": [
    "As can be seen our model has a long way to go. Currently the model performs its worst with clasiffying `Negative emotion` and best at `No emotion toward brand or product`. \n",
    "This can be primarily attributed due to a heavy imbalance in the classes. 60% of the dataset is filled with `No emotion toward brand or product` tweets.\n",
    "Techniques to over come the imbalance will need to be employed. Potential upsampling techniques to be utilised:\n",
    "- Backtranslation on minority sample to augment our tweet text data\n",
    "- Synonymising the minority sample to augment our tweet text data\n",
    "- SMOTEing the the minority sample to augment our tweet text data\n",
    "\n",
    "\n",
    "\n",
    "However, even as it currently stands, this model can be immediately useful by filtering tweets without emotion; the remaining tweets can be tagged for use in an improved sentiment analysis model or sent to a human-in-the-loop to enhance our model in real time."
   ]
  },
  {
   "cell_type": "markdown",
   "id": "4b6b53c8",
   "metadata": {},
   "source": [
    "# Recommendations\n",
    "- Use the model as a filtration system\n",
    "- Circulate and reward positive sentiment\n",
    "- Address negative sentiment to boost audience experience"
   ]
  },
  {
   "cell_type": "markdown",
   "id": "19371438",
   "metadata": {
    "ExecuteTime": {
     "end_time": "2022-05-10T21:53:11.957407Z",
     "start_time": "2022-05-10T21:53:11.948405Z"
    }
   },
   "source": [
    "# Future Steps"
   ]
  },
  {
   "cell_type": "markdown",
   "id": "9c419c8e",
   "metadata": {},
   "source": [
    "- Incorporate upsampling techiques like backtranslation and synonymization to better predict on imbalanced classes, i.e. positive or negative emotion.\n",
    "- Expand the scope of the model such that it can analyze text from other languages.\n",
    "- Use sentiment analysis to improve emergency response time."
   ]
  }
 ],
 "metadata": {
  "kernelspec": {
   "display_name": "tfGPU",
   "language": "python",
   "name": "tfgpu"
  },
  "language_info": {
   "codemirror_mode": {
    "name": "ipython",
    "version": 3
   },
   "file_extension": ".py",
   "mimetype": "text/x-python",
   "name": "python",
   "nbconvert_exporter": "python",
   "pygments_lexer": "ipython3",
   "version": "3.9.12"
  },
  "toc": {
   "base_numbering": 1,
   "nav_menu": {},
   "number_sections": true,
   "sideBar": true,
   "skip_h1_title": false,
   "title_cell": "Table of Contents",
   "title_sidebar": "Contents",
   "toc_cell": false,
   "toc_position": {
    "height": "calc(100% - 180px)",
    "left": "10px",
    "top": "150px",
    "width": "412px"
   },
   "toc_section_display": true,
   "toc_window_display": false
  },
  "varInspector": {
   "cols": {
    "lenName": 16,
    "lenType": 16,
    "lenVar": 40
   },
   "kernels_config": {
    "python": {
     "delete_cmd_postfix": "",
     "delete_cmd_prefix": "del ",
     "library": "var_list.py",
     "varRefreshCmd": "print(var_dic_list())"
    },
    "r": {
     "delete_cmd_postfix": ") ",
     "delete_cmd_prefix": "rm(",
     "library": "var_list.r",
     "varRefreshCmd": "cat(var_dic_list()) "
    }
   },
   "types_to_exclude": [
    "module",
    "function",
    "builtin_function_or_method",
    "instance",
    "_Feature"
   ],
   "window_display": false
  }
 },
 "nbformat": 4,
 "nbformat_minor": 5
}
